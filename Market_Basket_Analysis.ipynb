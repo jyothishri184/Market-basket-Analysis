{
  "nbformat": 4,
  "nbformat_minor": 0,
  "metadata": {
    "colab": {
      "provenance": [],
      "collapsed_sections": [
        "s7T6E84umb1-",
        "x2F2mtAxoO5A",
        "iISMpvh4alzI",
        "1ZPuGjJa98W5",
        "mG2Uc2PrOxwW",
        "2zt_8WLuPcM6",
        "EziU_BlPQ8Gb"
      ],
      "include_colab_link": true
    },
    "kernelspec": {
      "name": "python3",
      "display_name": "Python 3"
    },
    "language_info": {
      "name": "python"
    }
  },
  "cells": [
    {
      "cell_type": "markdown",
      "metadata": {
        "id": "view-in-github",
        "colab_type": "text"
      },
      "source": [
        "<a href=\"https://colab.research.google.com/github/jyothishri184/Market-basket-Analysis/blob/main/Market_Basket_Analysis.ipynb\" target=\"_parent\"><img src=\"https://colab.research.google.com/assets/colab-badge.svg\" alt=\"Open In Colab\"/></a>"
      ]
    },
    {
      "cell_type": "markdown",
      "source": [
        "#MARKET BASKET ANAYSIS\n"
      ],
      "metadata": {
        "id": "Ii0-5JKgxvjf"
      }
    },
    {
      "cell_type": "markdown",
      "source": [
        "#DATA LOADING"
      ],
      "metadata": {
        "id": "s7T6E84umb1-"
      }
    },
    {
      "cell_type": "code",
      "execution_count": null,
      "metadata": {
        "colab": {
          "base_uri": "https://localhost:8080/"
        },
        "id": "vX-eiri7f37p",
        "outputId": "b9ba33c7-2dc0-46b2-ec11-268f842c9526"
      },
      "outputs": [
        {
          "output_type": "stream",
          "name": "stdout",
          "text": [
            "Requirement already satisfied: pyspark in /usr/local/lib/python3.10/dist-packages (3.5.0)\n",
            "Requirement already satisfied: py4j==0.10.9.7 in /usr/local/lib/python3.10/dist-packages (from pyspark) (0.10.9.7)\n"
          ]
        }
      ],
      "source": [
        "!pip install pyspark"
      ]
    },
    {
      "cell_type": "code",
      "source": [
        "import pandas as pd\n",
        "from pyspark.sql import SparkSession\n",
        "spark = SparkSession.builder.appName(\"MarketBasketAnalysis\").getOrCreate()"
      ],
      "metadata": {
        "id": "Wf3_GbeMnj9H"
      },
      "execution_count": null,
      "outputs": []
    },
    {
      "cell_type": "code",
      "source": [
        "df_1 = spark.read.csv(\"/content/2010-2011-1.csv\",header=True,inferSchema=True)\n",
        "df_2 = spark.read.csv(\"/content/2009-2010-1.csv\",header=True,inferSchema=True)"
      ],
      "metadata": {
        "id": "5QMo5QgXf9no"
      },
      "execution_count": null,
      "outputs": []
    },
    {
      "cell_type": "code",
      "source": [
        "df_1.show()"
      ],
      "metadata": {
        "id": "xrwpapezncFA",
        "colab": {
          "base_uri": "https://localhost:8080/"
        },
        "outputId": "7ddb47f7-7245-4fb7-b18d-003e02991341"
      },
      "execution_count": null,
      "outputs": [
        {
          "output_type": "stream",
          "name": "stdout",
          "text": [
            "+-------+---------+--------------------+--------+----------------+-----+-----------+--------------+\n",
            "|Invoice|StockCode|         Description|Quantity|     InvoiceDate|Price|Customer ID|       Country|\n",
            "+-------+---------+--------------------+--------+----------------+-----+-----------+--------------+\n",
            "| 536365|   85123A|WHITE HANGING HEA...|       6|01-12-2010 08:26| 2.55|      17850|United Kingdom|\n",
            "| 536365|    71053| WHITE METAL LANTERN|       6|01-12-2010 08:26| 3.39|      17850|United Kingdom|\n",
            "| 536365|   84406B|CREAM CUPID HEART...|       8|01-12-2010 08:26| 2.75|      17850|United Kingdom|\n",
            "| 536365|   84029G|KNITTED UNION FLA...|       6|01-12-2010 08:26| 3.39|      17850|United Kingdom|\n",
            "| 536365|   84029E|RED WOOLLY HOTTIE...|       6|01-12-2010 08:26| 3.39|      17850|United Kingdom|\n",
            "| 536365|    22752|SET 7 BABUSHKA NE...|       2|01-12-2010 08:26| 7.65|      17850|United Kingdom|\n",
            "| 536365|    21730|GLASS STAR FROSTE...|       6|01-12-2010 08:26| 4.25|      17850|United Kingdom|\n",
            "| 536366|    22633|HAND WARMER UNION...|       6|01-12-2010 08:28| 1.85|      17850|United Kingdom|\n",
            "| 536366|    22632|HAND WARMER RED P...|       6|01-12-2010 08:28| 1.85|      17850|United Kingdom|\n",
            "| 536368|    22960|JAM MAKING SET WI...|       6|01-12-2010 08:34| 4.25|      13047|United Kingdom|\n",
            "| 536368|    22913|RED COAT RACK PAR...|       3|01-12-2010 08:34| 4.95|      13047|United Kingdom|\n",
            "| 536368|    22912|YELLOW COAT RACK ...|       3|01-12-2010 08:34| 4.95|      13047|United Kingdom|\n",
            "| 536368|    22914|BLUE COAT RACK PA...|       3|01-12-2010 08:34| 4.95|      13047|United Kingdom|\n",
            "| 536367|    84879|ASSORTED COLOUR B...|      32|01-12-2010 08:34| 1.69|      13047|United Kingdom|\n",
            "| 536367|    22745|POPPY'S PLAYHOUSE...|       6|01-12-2010 08:34|  2.1|      13047|United Kingdom|\n",
            "| 536367|    22748|POPPY'S PLAYHOUSE...|       6|01-12-2010 08:34|  2.1|      13047|United Kingdom|\n",
            "| 536367|    22749|FELTCRAFT PRINCES...|       8|01-12-2010 08:34| 3.75|      13047|United Kingdom|\n",
            "| 536367|    22310|IVORY KNITTED MUG...|       6|01-12-2010 08:34| 1.65|      13047|United Kingdom|\n",
            "| 536367|    84969|BOX OF 6 ASSORTED...|       6|01-12-2010 08:34| 4.25|      13047|United Kingdom|\n",
            "| 536367|    22623|BOX OF VINTAGE JI...|       3|01-12-2010 08:34| 4.95|      13047|United Kingdom|\n",
            "+-------+---------+--------------------+--------+----------------+-----+-----------+--------------+\n",
            "only showing top 20 rows\n",
            "\n"
          ]
        }
      ]
    },
    {
      "cell_type": "code",
      "source": [
        "df_2.show()"
      ],
      "metadata": {
        "id": "sMCdVOzrniDM",
        "colab": {
          "base_uri": "https://localhost:8080/"
        },
        "outputId": "77e95dbf-0456-47e9-8b84-81958e4c9f61"
      },
      "execution_count": null,
      "outputs": [
        {
          "output_type": "stream",
          "name": "stdout",
          "text": [
            "+-------+---------+--------------------+--------+----------------+-----+-----------+--------------+\n",
            "|Invoice|StockCode|         Description|Quantity|     InvoiceDate|Price|Customer ID|       Country|\n",
            "+-------+---------+--------------------+--------+----------------+-----+-----------+--------------+\n",
            "| 489434|    85048|15CM CHRISTMAS GL...|      12|01-12-2009 07:45| 6.95|      13085|United Kingdom|\n",
            "| 489434|   79323P|  PINK CHERRY LIGHTS|      12|01-12-2009 07:45| 6.75|      13085|United Kingdom|\n",
            "| 489434|   79323W| WHITE CHERRY LIGHTS|      12|01-12-2009 07:45| 6.75|      13085|United Kingdom|\n",
            "| 489434|    22041|\"RECORD FRAME 7\"\"...|      48|01-12-2009 07:45|  2.1|      13085|United Kingdom|\n",
            "| 489434|    21232|STRAWBERRY CERAMI...|      24|01-12-2009 07:45| 1.25|      13085|United Kingdom|\n",
            "| 489434|    22064|PINK DOUGHNUT TRI...|      24|01-12-2009 07:45| 1.65|      13085|United Kingdom|\n",
            "| 489434|    21871| SAVE THE PLANET MUG|      24|01-12-2009 07:45| 1.25|      13085|United Kingdom|\n",
            "| 489434|    21523|FANCY FONT HOME S...|      10|01-12-2009 07:45| 5.95|      13085|United Kingdom|\n",
            "| 489435|    22350|           CAT BOWL |      12|01-12-2009 07:46| 2.55|      13085|United Kingdom|\n",
            "| 489435|    22349|DOG BOWL , CHASIN...|      12|01-12-2009 07:46| 3.75|      13085|United Kingdom|\n",
            "| 489435|    22195|HEART MEASURING S...|      24|01-12-2009 07:46| 1.65|      13085|United Kingdom|\n",
            "| 489435|    22353|LUNCHBOX WITH CUT...|      12|01-12-2009 07:46| 2.55|      13085|United Kingdom|\n",
            "| 489436|   48173C|DOOR MAT BLACK FL...|      10|01-12-2009 09:06| 5.95|      13078|United Kingdom|\n",
            "| 489436|    21755|LOVE BUILDING BLO...|      18|01-12-2009 09:06| 5.45|      13078|United Kingdom|\n",
            "| 489436|    21754|HOME BUILDING BLO...|       3|01-12-2009 09:06| 5.95|      13078|United Kingdom|\n",
            "| 489436|    84879|ASSORTED COLOUR B...|      16|01-12-2009 09:06| 1.69|      13078|United Kingdom|\n",
            "| 489436|    22119| PEACE WOODEN BLO...|       3|01-12-2009 09:06| 6.95|      13078|United Kingdom|\n",
            "| 489436|    22142|CHRISTMAS CRAFT W...|      12|01-12-2009 09:06| 1.45|      13078|United Kingdom|\n",
            "| 489436|    22296|HEART IVORY TRELL...|      12|01-12-2009 09:06| 1.65|      13078|United Kingdom|\n",
            "| 489436|    22295|HEART FILIGREE DO...|      12|01-12-2009 09:06| 1.65|      13078|United Kingdom|\n",
            "+-------+---------+--------------------+--------+----------------+-----+-----------+--------------+\n",
            "only showing top 20 rows\n",
            "\n"
          ]
        }
      ]
    },
    {
      "cell_type": "markdown",
      "source": [
        "#PREPROCESSING  \n",
        "\n",
        "\n",
        "DATA EXPLORATION"
      ],
      "metadata": {
        "id": "x2F2mtAxoO5A"
      }
    },
    {
      "cell_type": "code",
      "source": [
        "df_1.describe().show()"
      ],
      "metadata": {
        "id": "MSUEm_jdpOqf",
        "colab": {
          "base_uri": "https://localhost:8080/"
        },
        "outputId": "c82fb500-1042-4f26-b112-9661f5c4b389"
      },
      "execution_count": null,
      "outputs": [
        {
          "output_type": "stream",
          "name": "stdout",
          "text": [
            "+-------+------------------+------------------+--------------------+------------------+----------------+-----------------+------------------+-----------+\n",
            "|summary|           Invoice|         StockCode|         Description|          Quantity|     InvoiceDate|            Price|       Customer ID|    Country|\n",
            "+-------+------------------+------------------+--------------------+------------------+----------------+-----------------+------------------+-----------+\n",
            "|  count|            541910|            541910|              540456|            541910|          541910|           541910|            406830|     541910|\n",
            "|   mean| 559965.7926209917|27623.240210938104|             20713.0| 9.552233765754462|            NULL|4.611138332927965|15287.684160460143|       NULL|\n",
            "| stddev|13428.437355340984| 16799.73762842774|                NULL|218.08095694392543|            NULL|96.75976549366548|1713.6030743514768|       NULL|\n",
            "|    min|            536365|             10002| 4 PURPLE FLOCK D...|            -80995|01-02-2011 08:23|        -11062.06|             12346|  Australia|\n",
            "|    max|           C581569|                 m|   wrongly sold sets|             80995|31-10-2011 17:19|          38970.0|             18287|Unspecified|\n",
            "+-------+------------------+------------------+--------------------+------------------+----------------+-----------------+------------------+-----------+\n",
            "\n"
          ]
        }
      ]
    },
    {
      "cell_type": "code",
      "source": [
        "df_2.describe().show()"
      ],
      "metadata": {
        "id": "JjFdY_6RpWmZ",
        "colab": {
          "base_uri": "https://localhost:8080/"
        },
        "outputId": "0b3d2c79-8153-4f99-f4bf-54351cd6b7e4"
      },
      "execution_count": null,
      "outputs": [
        {
          "output_type": "stream",
          "name": "stdout",
          "text": [
            "+-------+------------------+-----------------+--------------------+------------------+----------------+-----------------+------------------+-----------+\n",
            "|summary|           Invoice|        StockCode|         Description|          Quantity|     InvoiceDate|            Price|       Customer ID|    Country|\n",
            "+-------+------------------+-----------------+--------------------+------------------+----------------+-----------------+------------------+-----------+\n",
            "|  count|            525461|           525461|              522533|            525461|          525461|           525461|            417534|     525461|\n",
            "|   mean| 514496.9241788484|30518.37992495103|  22226.666666666668|10.337667305470815|            NULL| 4.68883447867188|15360.645477973052|       NULL|\n",
            "| stddev|14439.209494472732|20693.16815285475|   646.8974674037095|107.42411026879805|            NULL|146.1269139529275|1680.8113157457294|       NULL|\n",
            "|    min|            489434|            10002|  DOORMAT UNION J...|             -9600|01-02-2010 08:13|        -53594.36|             12346|  Australia|\n",
            "|    max|           C538164|                m|          wrong invc|             19152|31-10-2010 16:26|         25111.09|             18287|West Indies|\n",
            "+-------+------------------+-----------------+--------------------+------------------+----------------+-----------------+------------------+-----------+\n",
            "\n"
          ]
        }
      ]
    },
    {
      "cell_type": "code",
      "source": [
        "df_1.dtypes"
      ],
      "metadata": {
        "id": "jUjSqF7DroTV",
        "colab": {
          "base_uri": "https://localhost:8080/"
        },
        "outputId": "b4d314dc-4cf8-4ce4-9012-1ea0b730d4c6"
      },
      "execution_count": null,
      "outputs": [
        {
          "output_type": "execute_result",
          "data": {
            "text/plain": [
              "[('Invoice', 'string'),\n",
              " ('StockCode', 'string'),\n",
              " ('Description', 'string'),\n",
              " ('Quantity', 'int'),\n",
              " ('InvoiceDate', 'string'),\n",
              " ('Price', 'double'),\n",
              " ('Customer ID', 'int'),\n",
              " ('Country', 'string')]"
            ]
          },
          "metadata": {},
          "execution_count": 305
        }
      ]
    },
    {
      "cell_type": "code",
      "source": [
        "df_2.dtypes"
      ],
      "metadata": {
        "id": "IjqD2oocrqdj",
        "colab": {
          "base_uri": "https://localhost:8080/"
        },
        "outputId": "13c640f0-3c3f-4da7-c0b5-4dfbac25c63f"
      },
      "execution_count": null,
      "outputs": [
        {
          "output_type": "execute_result",
          "data": {
            "text/plain": [
              "[('Invoice', 'string'),\n",
              " ('StockCode', 'string'),\n",
              " ('Description', 'string'),\n",
              " ('Quantity', 'int'),\n",
              " ('InvoiceDate', 'string'),\n",
              " ('Price', 'double'),\n",
              " ('Customer ID', 'int'),\n",
              " ('Country', 'string')]"
            ]
          },
          "metadata": {},
          "execution_count": 306
        }
      ]
    },
    {
      "cell_type": "markdown",
      "source": [
        "Attribute Information:\n",
        "\n",
        "InvoiceNo: Invoice number. Nominal. A 6-digit integral number uniquely assigned to each transaction. If this code starts with the letter 'c', it indicates a cancellation.\n",
        "\n",
        "\n",
        "StockCode: Product (item) code. Nominal. A 5-digit integral number uniquely assigned to each distinct product.\n",
        "\n",
        "\n",
        "Description: Product (item) name. Nominal.\n",
        "Quantity: The quantities of each product (item) per transaction. Numeric.\n",
        "InvoiceDate: Invice date and time. Numeric. The day and time when a transaction was generated.\n",
        "\n",
        "\n",
        "UnitPrice: Unit price. Numeric. Product price per unit in sterling (Â£).\n",
        "\n",
        "\n",
        "CustomerID: Customer number. Nominal. A 5-digit integral number uniquely assigned to each customer.\n",
        "\n",
        "\n",
        "Country: Country name. Nominal. The name of the country where a customer resides."
      ],
      "metadata": {
        "id": "7gvgHkBqvl-K"
      }
    },
    {
      "cell_type": "markdown",
      "source": [
        "COLUMN RENAME"
      ],
      "metadata": {
        "id": "YJm8RHSNu6Nh"
      }
    },
    {
      "cell_type": "code",
      "source": [
        "df_1.columns"
      ],
      "metadata": {
        "id": "V8JsoIfnu-wE",
        "colab": {
          "base_uri": "https://localhost:8080/"
        },
        "outputId": "49a6616a-7a0e-425a-c633-0ce8ac67073a"
      },
      "execution_count": null,
      "outputs": [
        {
          "output_type": "execute_result",
          "data": {
            "text/plain": [
              "['Invoice',\n",
              " 'StockCode',\n",
              " 'Description',\n",
              " 'Quantity',\n",
              " 'InvoiceDate',\n",
              " 'Price',\n",
              " 'Customer ID',\n",
              " 'Country']"
            ]
          },
          "metadata": {},
          "execution_count": 307
        }
      ]
    },
    {
      "cell_type": "code",
      "source": [
        "df_2.columns"
      ],
      "metadata": {
        "id": "xXkfvk47vHjO",
        "colab": {
          "base_uri": "https://localhost:8080/"
        },
        "outputId": "9a961d5b-8bb7-4c72-c9b6-06466eccfaa2"
      },
      "execution_count": null,
      "outputs": [
        {
          "output_type": "execute_result",
          "data": {
            "text/plain": [
              "['Invoice',\n",
              " 'StockCode',\n",
              " 'Description',\n",
              " 'Quantity',\n",
              " 'InvoiceDate',\n",
              " 'Price',\n",
              " 'Customer ID',\n",
              " 'Country']"
            ]
          },
          "metadata": {},
          "execution_count": 308
        }
      ]
    },
    {
      "cell_type": "code",
      "source": [
        "df_1 = df_1.withColumnRenamed(\"Invoice\",\"transaction_id\")\n",
        "df_1 = df_1.withColumnRenamed(\"StockCode\",\"product_id\")\n",
        "df_1 = df_1.withColumnRenamed(\"Description\",\"product_name\")\n",
        "df_1 = df_1.withColumnRenamed(\"Quantity\",\"quantity\")\n",
        "df_1 = df_1.withColumnRenamed(\"InvoiceDate\",\"transaction_date\")\n",
        "df_1 = df_1.withColumnRenamed(\"Price\",\"price\")\n",
        "df_1 = df_1.withColumnRenamed(\"Customer ID\",\"customer_id\")\n",
        "df_1 = df_1.withColumnRenamed(\"Country\",\"country\")"
      ],
      "metadata": {
        "id": "aua55TAovK2y"
      },
      "execution_count": null,
      "outputs": []
    },
    {
      "cell_type": "code",
      "source": [
        "df_1.columns"
      ],
      "metadata": {
        "id": "t3kms5grvMI_",
        "colab": {
          "base_uri": "https://localhost:8080/"
        },
        "outputId": "1b35e8ef-42f4-4016-d647-dffc20cc04a8"
      },
      "execution_count": null,
      "outputs": [
        {
          "output_type": "execute_result",
          "data": {
            "text/plain": [
              "['transaction_id',\n",
              " 'product_id',\n",
              " 'product_name',\n",
              " 'quantity',\n",
              " 'transaction_date',\n",
              " 'price',\n",
              " 'customer_id',\n",
              " 'country']"
            ]
          },
          "metadata": {},
          "execution_count": 310
        }
      ]
    },
    {
      "cell_type": "code",
      "source": [
        "df_2 = df_2.withColumnRenamed(\"Invoice\",\"transaction_id\")\n",
        "df_2 = df_2.withColumnRenamed(\"StockCode\",\"product_id\")\n",
        "df_2 = df_2.withColumnRenamed(\"Description\",\"product_name\")\n",
        "df_2 = df_2.withColumnRenamed(\"Quantity\",\"quantity\")\n",
        "df_2 = df_2.withColumnRenamed(\"InvoiceDate\",\"transaction_date\")\n",
        "df_2 = df_2.withColumnRenamed(\"Price\",\"price\")\n",
        "df_2 = df_2.withColumnRenamed(\"Customer ID\",\"customer_id\")\n",
        "df_2 = df_2.withColumnRenamed(\"Country\",\"country\")"
      ],
      "metadata": {
        "id": "8clvs8XQxlYy"
      },
      "execution_count": null,
      "outputs": []
    },
    {
      "cell_type": "code",
      "source": [
        "df_2.columns"
      ],
      "metadata": {
        "id": "A3oPQKI0vNQo",
        "colab": {
          "base_uri": "https://localhost:8080/"
        },
        "outputId": "53a312ea-3d01-4f0d-ad3b-1c38af8f7d04"
      },
      "execution_count": null,
      "outputs": [
        {
          "output_type": "execute_result",
          "data": {
            "text/plain": [
              "['transaction_id',\n",
              " 'product_id',\n",
              " 'product_name',\n",
              " 'quantity',\n",
              " 'transaction_date',\n",
              " 'price',\n",
              " 'customer_id',\n",
              " 'country']"
            ]
          },
          "metadata": {},
          "execution_count": 312
        }
      ]
    },
    {
      "cell_type": "markdown",
      "source": [
        "DEALING WITH NULL VALUES"
      ],
      "metadata": {
        "id": "3FBXsEo7pPMj"
      }
    },
    {
      "cell_type": "code",
      "source": [
        "print((df_1.count(), len(df_1.columns)))"
      ],
      "metadata": {
        "id": "5OVvbUXb0_6K",
        "colab": {
          "base_uri": "https://localhost:8080/"
        },
        "outputId": "34e86e56-47f4-4135-8dca-e575d4cd0b4f"
      },
      "execution_count": null,
      "outputs": [
        {
          "output_type": "stream",
          "name": "stdout",
          "text": [
            "(541910, 8)\n"
          ]
        }
      ]
    },
    {
      "cell_type": "code",
      "source": [
        "df_1 = df_1.dropna()"
      ],
      "metadata": {
        "id": "EpTocc0KKJdw"
      },
      "execution_count": null,
      "outputs": []
    },
    {
      "cell_type": "code",
      "source": [
        "print((df_1.count(), len(df_1.columns)))"
      ],
      "metadata": {
        "id": "VYMcMwViKGKk",
        "colab": {
          "base_uri": "https://localhost:8080/"
        },
        "outputId": "0ddd133d-ef65-4761-fc85-68bd5aa47297"
      },
      "execution_count": null,
      "outputs": [
        {
          "output_type": "stream",
          "name": "stdout",
          "text": [
            "(406830, 8)\n"
          ]
        }
      ]
    },
    {
      "cell_type": "code",
      "source": [
        "print((df_2.count(), len(df_2.columns)))"
      ],
      "metadata": {
        "id": "FXaWzeCVJ7lu",
        "colab": {
          "base_uri": "https://localhost:8080/"
        },
        "outputId": "0491dc00-a868-41d2-937a-0ba78b10eda2"
      },
      "execution_count": null,
      "outputs": [
        {
          "output_type": "stream",
          "name": "stdout",
          "text": [
            "(525461, 8)\n"
          ]
        }
      ]
    },
    {
      "cell_type": "code",
      "source": [
        "df_2 = df_2.dropna()"
      ],
      "metadata": {
        "id": "yEmMlqZYKUMU"
      },
      "execution_count": null,
      "outputs": []
    },
    {
      "cell_type": "code",
      "source": [
        "print((df_2.count(), len(df_2.columns)))"
      ],
      "metadata": {
        "id": "z85z00xt1DcJ",
        "colab": {
          "base_uri": "https://localhost:8080/"
        },
        "outputId": "e67f5641-ae34-41b7-ca7a-318743768529"
      },
      "execution_count": null,
      "outputs": [
        {
          "output_type": "stream",
          "name": "stdout",
          "text": [
            "(417534, 8)\n"
          ]
        }
      ]
    },
    {
      "cell_type": "markdown",
      "source": [
        "REMOVING DUPLICATES\n"
      ],
      "metadata": {
        "id": "bfBHX4t9oXHd"
      }
    },
    {
      "cell_type": "code",
      "source": [
        "print((df_1.count(), len(df_1.columns)))"
      ],
      "metadata": {
        "id": "nrKfDZADZUpY",
        "colab": {
          "base_uri": "https://localhost:8080/"
        },
        "outputId": "7bcc6d9b-f882-4ccf-9148-bbaf6ba34570"
      },
      "execution_count": null,
      "outputs": [
        {
          "output_type": "stream",
          "name": "stdout",
          "text": [
            "(406830, 8)\n"
          ]
        }
      ]
    },
    {
      "cell_type": "code",
      "source": [
        "df_1 = df_1.dropDuplicates()"
      ],
      "metadata": {
        "id": "BAbGiKbVK-NT"
      },
      "execution_count": null,
      "outputs": []
    },
    {
      "cell_type": "code",
      "source": [
        "print((df_1.count(), len(df_1.columns)))"
      ],
      "metadata": {
        "id": "WCbEI-jYrMJu",
        "colab": {
          "base_uri": "https://localhost:8080/"
        },
        "outputId": "4f0a9716-a4a8-4215-f97e-146293111622"
      },
      "execution_count": null,
      "outputs": [
        {
          "output_type": "stream",
          "name": "stdout",
          "text": [
            "(401605, 8)\n"
          ]
        }
      ]
    },
    {
      "cell_type": "code",
      "source": [
        "print((df_2.count(), len(df_2.columns)))"
      ],
      "metadata": {
        "id": "_Ic8kODmZXnq",
        "outputId": "aa61562b-40a1-41aa-d90f-bacf1caf3d35",
        "colab": {
          "base_uri": "https://localhost:8080/"
        }
      },
      "execution_count": null,
      "outputs": [
        {
          "output_type": "stream",
          "name": "stdout",
          "text": [
            "(417534, 8)\n"
          ]
        }
      ]
    },
    {
      "cell_type": "code",
      "source": [
        "df_2 = df_2.dropDuplicates()"
      ],
      "metadata": {
        "id": "tc-tpEh1ogUt"
      },
      "execution_count": null,
      "outputs": []
    },
    {
      "cell_type": "code",
      "source": [
        "print((df_2.count(), len(df_2.columns)))"
      ],
      "metadata": {
        "id": "UGPtuibmojOL",
        "outputId": "33fac27c-dcaa-49e9-e2c7-02f8c88b7136",
        "colab": {
          "base_uri": "https://localhost:8080/"
        }
      },
      "execution_count": null,
      "outputs": [
        {
          "output_type": "stream",
          "name": "stdout",
          "text": [
            "(410763, 8)\n"
          ]
        }
      ]
    },
    {
      "cell_type": "markdown",
      "source": [
        "IN Column 'Transation id' removing rows staring with 'C' SINCE they are cancelled order"
      ],
      "metadata": {
        "id": "glZbpgDI2pcv"
      }
    },
    {
      "cell_type": "code",
      "source": [
        "from pyspark.sql.functions import col"
      ],
      "metadata": {
        "id": "-GVlVvyiLp3i"
      },
      "execution_count": null,
      "outputs": []
    },
    {
      "cell_type": "code",
      "source": [
        "df_1 = df_1.filter(~col(\"transaction_id\").startswith(\"C\"))\n",
        "df_1.show()"
      ],
      "metadata": {
        "id": "1YKOlO1IFHtd",
        "outputId": "aa84e501-f66d-4531-fa8e-e93299bd2dc0",
        "colab": {
          "base_uri": "https://localhost:8080/"
        }
      },
      "execution_count": null,
      "outputs": [
        {
          "output_type": "stream",
          "name": "stdout",
          "text": [
            "+--------------+----------+--------------------+--------+----------------+-----+-----------+--------------+\n",
            "|transaction_id|product_id|        product_name|quantity|transaction_date|price|customer_id|       country|\n",
            "+--------------+----------+--------------------+--------+----------------+-----+-----------+--------------+\n",
            "|        536381|     22411|JUMBO SHOPPER VIN...|      10|01-12-2010 09:41| 1.95|      15311|United Kingdom|\n",
            "|        536392|     22827|RUSTIC  SEVENTEEN...|       1|01-12-2010 10:29|165.0|      13705|United Kingdom|\n",
            "|        536401|     21592|RETROSPOT CIGAR B...|       1|01-12-2010 11:21| 1.25|      15862|United Kingdom|\n",
            "|        536464|     22988|   SOLDIERS EGG CUP |       1|01-12-2010 12:23| 1.25|      17968|United Kingdom|\n",
            "|        536464|     22910|PAPER CHAIN KIT V...|       1|01-12-2010 12:23| 2.95|      17968|United Kingdom|\n",
            "|        536488|     20878|SET/9 CHRISTMAS T...|       2|01-12-2010 12:31| 1.25|      17897|United Kingdom|\n",
            "|        536500|     22712|    CARD DOLLY GIRL |      12|01-12-2010 12:35| 0.42|      17377|United Kingdom|\n",
            "|        536522|     84969|BOX OF 6 ASSORTED...|       1|01-12-2010 12:49| 4.25|      15012|United Kingdom|\n",
            "|        536569|     22640|SET OF 4 NAPKIN C...|       1|01-12-2010 15:35| 2.55|      16274|United Kingdom|\n",
            "|        536597|     20726|  LUNCH BAG WOODLAND|       1|01-12-2010 17:35| 1.65|      18011|United Kingdom|\n",
            "|        536608|     22863|  SOAP DISH BROCANTE|       6|02-12-2010 09:37| 2.95|      12855|United Kingdom|\n",
            "|        536618|     22440|BALLOON WATER BOM...|      40|02-12-2010 10:17| 0.42|      17017|United Kingdom|\n",
            "|        536620|     22744|MAKE YOUR OWN MON...|       6|02-12-2010 10:27| 2.95|      14135|United Kingdom|\n",
            "|        536672|     21288|STRIPEY CHOCOLATE...|       6|02-12-2010 12:10| 2.95|      14491|United Kingdom|\n",
            "|        536674|     20832|RED FLOCK LOVE HE...|       4|02-12-2010 12:16| 0.85|      15923|United Kingdom|\n",
            "|        536741|     22652|   TRAVEL SEWING KIT|      10|02-12-2010 13:11| 1.65|      13117|United Kingdom|\n",
            "|        536749|    90195B|BLACK GEMSTONE BR...|       1|02-12-2010 13:49| 8.95|      17976|United Kingdom|\n",
            "|        536796|     22557|PLASTERS IN TIN V...|       1|02-12-2010 15:46| 1.65|      15574|United Kingdom|\n",
            "|        536830|     84077|WORLD WAR 2 GLIDE...|    2880|02-12-2010 17:38| 0.18|      16754|United Kingdom|\n",
            "|        536841|     22077|6 RIBBONS RUSTIC ...|      12|02-12-2010 18:27| 1.65|      16150|United Kingdom|\n",
            "+--------------+----------+--------------------+--------+----------------+-----+-----------+--------------+\n",
            "only showing top 20 rows\n",
            "\n"
          ]
        }
      ]
    },
    {
      "cell_type": "code",
      "source": [
        "print((df_1.count(), len(df_1.columns)))"
      ],
      "metadata": {
        "id": "WqEghGAILwe_",
        "outputId": "c9c72a67-06ab-499c-a2ea-1ccc14366cca",
        "colab": {
          "base_uri": "https://localhost:8080/"
        }
      },
      "execution_count": null,
      "outputs": [
        {
          "output_type": "stream",
          "name": "stdout",
          "text": [
            "(392733, 8)\n"
          ]
        }
      ]
    },
    {
      "cell_type": "code",
      "source": [
        "df_2 = df_2.filter(~col(\"transaction_id\").startswith(\"C\"))\n",
        "df_2.show()"
      ],
      "metadata": {
        "id": "yml29D7NF7zC",
        "colab": {
          "base_uri": "https://localhost:8080/"
        },
        "outputId": "5602f13a-be2c-4e64-e92d-7e2ac176b74f"
      },
      "execution_count": null,
      "outputs": [
        {
          "output_type": "stream",
          "name": "stdout",
          "text": [
            "+--------------+----------+--------------------+--------+----------------+-----+-----------+--------------+\n",
            "|transaction_id|product_id|        product_name|quantity|transaction_date|price|customer_id|       country|\n",
            "+--------------+----------+--------------------+--------+----------------+-----+-----------+--------------+\n",
            "|        489436|     21756|BATH BUILDING BLO...|       3|01-12-2009 09:06| 5.95|      13078|United Kingdom|\n",
            "|        489438|    84519A|TOMATO CHARLIE+LO...|      56|01-12-2009 09:24| 2.15|      18102|United Kingdom|\n",
            "|        489446|     22199|FRYING PAN RED PO...|       4|01-12-2009 10:06| 4.25|      13758|United Kingdom|\n",
            "|        489520|     22083|PAPER CHAIN KIT R...|       6|01-12-2009 11:41| 2.95|      14911|          EIRE|\n",
            "|        489522|     21133|PAINTED BIRD ASSO...|       6|01-12-2009 11:45| 1.69|      15998|United Kingdom|\n",
            "|        489529|     21500|   PINK SPOTS  WRAP |      25|01-12-2009 11:51| 0.42|      17984|United Kingdom|\n",
            "|        489545|     22113|GREY HEART HOT WA...|       1|01-12-2009 12:22| 3.45|      17804|United Kingdom|\n",
            "|        489571|     20975|12 PENCILS SMALL ...|       1|01-12-2009 13:29| 0.65|      15967|United Kingdom|\n",
            "|        489572|    85014B|RED/WHITE DOTS RU...|       1|01-12-2009 13:29| 5.95|      17611|United Kingdom|\n",
            "|        489573|     21754|HOME BUILDING BLO...|       5|01-12-2009 13:29| 5.95|      15051|United Kingdom|\n",
            "|        489573|     22070|SMALL RETRO SPOT ...|       4|01-12-2009 13:29| 3.75|      15051|United Kingdom|\n",
            "|        489575|     21232|STRAWBERRY CERAMI...|      12|01-12-2009 13:37| 1.25|      13590|United Kingdom|\n",
            "|        489579|     84854| GIRLY PINK TOOL SET|       1|01-12-2009 13:41| 4.95|      16887|United Kingdom|\n",
            "|        489579|     21034|REX CASH+CARRY JU...|       1|01-12-2009 13:41| 0.95|      16887|United Kingdom|\n",
            "|        489590|     22086|PAPER CHAIN KIT 5...|       2|01-12-2009 14:14| 2.95|      13110|United Kingdom|\n",
            "|        489593|     21257|VICTORIAN SEWING ...|       2|01-12-2009 14:19| 7.95|      12836|United Kingdom|\n",
            "|        489654|    84508A|CAMOFLAGE DESIGN ...|       2|01-12-2009 17:19| 2.55|      15750|United Kingdom|\n",
            "|        489787|     21166|COOK WITH WINE ME...|       1|02-12-2009 11:53| 1.95|      15542|United Kingdom|\n",
            "|        489797|    47566B|TEA TIME PARTY BU...|       2|02-12-2009 12:19| 4.65|      15581|United Kingdom|\n",
            "|        489802|     84692|BOX OF 24 COCKTAI...|       1|02-12-2009 12:32| 0.42|      15581|United Kingdom|\n",
            "+--------------+----------+--------------------+--------+----------------+-----+-----------+--------------+\n",
            "only showing top 20 rows\n",
            "\n"
          ]
        }
      ]
    },
    {
      "cell_type": "code",
      "source": [
        "print((df_2.count(), len(df_2.columns)))"
      ],
      "metadata": {
        "id": "aRYzMec4Mc2E",
        "colab": {
          "base_uri": "https://localhost:8080/"
        },
        "outputId": "c9f131f3-cc07-492d-f7e8-174faed2892d"
      },
      "execution_count": null,
      "outputs": [
        {
          "output_type": "stream",
          "name": "stdout",
          "text": [
            "(400947, 8)\n"
          ]
        }
      ]
    },
    {
      "cell_type": "markdown",
      "source": [
        "converting column 'TRANSACTION_ID' to INT"
      ],
      "metadata": {
        "id": "pUO8b-Gc2y7z"
      }
    },
    {
      "cell_type": "code",
      "source": [
        "df_1 = df_1.withColumn(\"transaction_id\", df_1[\"transaction_id\"].cast(\"int\"))\n",
        "df_1.show()"
      ],
      "metadata": {
        "id": "3anoH-8hF_U1",
        "colab": {
          "base_uri": "https://localhost:8080/"
        },
        "outputId": "0ff8311c-886f-4dcf-c9e3-ec7cdf0e0cb2"
      },
      "execution_count": null,
      "outputs": [
        {
          "output_type": "stream",
          "name": "stdout",
          "text": [
            "+--------------+----------+--------------------+--------+----------------+-----+-----------+--------------+\n",
            "|transaction_id|product_id|        product_name|quantity|transaction_date|price|customer_id|       country|\n",
            "+--------------+----------+--------------------+--------+----------------+-----+-----------+--------------+\n",
            "|        536381|     22411|JUMBO SHOPPER VIN...|      10|01-12-2010 09:41| 1.95|      15311|United Kingdom|\n",
            "|        536392|     22827|RUSTIC  SEVENTEEN...|       1|01-12-2010 10:29|165.0|      13705|United Kingdom|\n",
            "|        536401|     21592|RETROSPOT CIGAR B...|       1|01-12-2010 11:21| 1.25|      15862|United Kingdom|\n",
            "|        536464|     22988|   SOLDIERS EGG CUP |       1|01-12-2010 12:23| 1.25|      17968|United Kingdom|\n",
            "|        536464|     22910|PAPER CHAIN KIT V...|       1|01-12-2010 12:23| 2.95|      17968|United Kingdom|\n",
            "|        536488|     20878|SET/9 CHRISTMAS T...|       2|01-12-2010 12:31| 1.25|      17897|United Kingdom|\n",
            "|        536500|     22712|    CARD DOLLY GIRL |      12|01-12-2010 12:35| 0.42|      17377|United Kingdom|\n",
            "|        536522|     84969|BOX OF 6 ASSORTED...|       1|01-12-2010 12:49| 4.25|      15012|United Kingdom|\n",
            "|        536569|     22640|SET OF 4 NAPKIN C...|       1|01-12-2010 15:35| 2.55|      16274|United Kingdom|\n",
            "|        536597|     20726|  LUNCH BAG WOODLAND|       1|01-12-2010 17:35| 1.65|      18011|United Kingdom|\n",
            "|        536608|     22863|  SOAP DISH BROCANTE|       6|02-12-2010 09:37| 2.95|      12855|United Kingdom|\n",
            "|        536618|     22440|BALLOON WATER BOM...|      40|02-12-2010 10:17| 0.42|      17017|United Kingdom|\n",
            "|        536620|     22744|MAKE YOUR OWN MON...|       6|02-12-2010 10:27| 2.95|      14135|United Kingdom|\n",
            "|        536672|     21288|STRIPEY CHOCOLATE...|       6|02-12-2010 12:10| 2.95|      14491|United Kingdom|\n",
            "|        536674|     20832|RED FLOCK LOVE HE...|       4|02-12-2010 12:16| 0.85|      15923|United Kingdom|\n",
            "|        536741|     22652|   TRAVEL SEWING KIT|      10|02-12-2010 13:11| 1.65|      13117|United Kingdom|\n",
            "|        536749|    90195B|BLACK GEMSTONE BR...|       1|02-12-2010 13:49| 8.95|      17976|United Kingdom|\n",
            "|        536796|     22557|PLASTERS IN TIN V...|       1|02-12-2010 15:46| 1.65|      15574|United Kingdom|\n",
            "|        536830|     84077|WORLD WAR 2 GLIDE...|    2880|02-12-2010 17:38| 0.18|      16754|United Kingdom|\n",
            "|        536841|     22077|6 RIBBONS RUSTIC ...|      12|02-12-2010 18:27| 1.65|      16150|United Kingdom|\n",
            "+--------------+----------+--------------------+--------+----------------+-----+-----------+--------------+\n",
            "only showing top 20 rows\n",
            "\n"
          ]
        }
      ]
    },
    {
      "cell_type": "code",
      "source": [
        "df_1.dtypes"
      ],
      "metadata": {
        "id": "h6ujB9zjM-VF",
        "colab": {
          "base_uri": "https://localhost:8080/"
        },
        "outputId": "4d7c1606-f478-43ad-a3ab-c309fb6e6ac8"
      },
      "execution_count": null,
      "outputs": [
        {
          "output_type": "execute_result",
          "data": {
            "text/plain": [
              "[('transaction_id', 'int'),\n",
              " ('product_id', 'string'),\n",
              " ('product_name', 'string'),\n",
              " ('quantity', 'int'),\n",
              " ('transaction_date', 'string'),\n",
              " ('price', 'double'),\n",
              " ('customer_id', 'int'),\n",
              " ('country', 'string')]"
            ]
          },
          "metadata": {},
          "execution_count": 331
        }
      ]
    },
    {
      "cell_type": "code",
      "source": [
        "df_2 = df_2.withColumn(\"transaction_id\", df_2[\"transaction_id\"].cast(\"int\"))\n",
        "df_2.show()"
      ],
      "metadata": {
        "id": "3nVQb4AZGb_F",
        "colab": {
          "base_uri": "https://localhost:8080/"
        },
        "outputId": "f47431ad-eb94-45f1-dcea-0c432c85ae14"
      },
      "execution_count": null,
      "outputs": [
        {
          "output_type": "stream",
          "name": "stdout",
          "text": [
            "+--------------+----------+--------------------+--------+----------------+-----+-----------+--------------+\n",
            "|transaction_id|product_id|        product_name|quantity|transaction_date|price|customer_id|       country|\n",
            "+--------------+----------+--------------------+--------+----------------+-----+-----------+--------------+\n",
            "|        489436|     21756|BATH BUILDING BLO...|       3|01-12-2009 09:06| 5.95|      13078|United Kingdom|\n",
            "|        489438|    84519A|TOMATO CHARLIE+LO...|      56|01-12-2009 09:24| 2.15|      18102|United Kingdom|\n",
            "|        489446|     22199|FRYING PAN RED PO...|       4|01-12-2009 10:06| 4.25|      13758|United Kingdom|\n",
            "|        489520|     22083|PAPER CHAIN KIT R...|       6|01-12-2009 11:41| 2.95|      14911|          EIRE|\n",
            "|        489522|     21133|PAINTED BIRD ASSO...|       6|01-12-2009 11:45| 1.69|      15998|United Kingdom|\n",
            "|        489529|     21500|   PINK SPOTS  WRAP |      25|01-12-2009 11:51| 0.42|      17984|United Kingdom|\n",
            "|        489545|     22113|GREY HEART HOT WA...|       1|01-12-2009 12:22| 3.45|      17804|United Kingdom|\n",
            "|        489571|     20975|12 PENCILS SMALL ...|       1|01-12-2009 13:29| 0.65|      15967|United Kingdom|\n",
            "|        489572|    85014B|RED/WHITE DOTS RU...|       1|01-12-2009 13:29| 5.95|      17611|United Kingdom|\n",
            "|        489573|     21754|HOME BUILDING BLO...|       5|01-12-2009 13:29| 5.95|      15051|United Kingdom|\n",
            "|        489573|     22070|SMALL RETRO SPOT ...|       4|01-12-2009 13:29| 3.75|      15051|United Kingdom|\n",
            "|        489575|     21232|STRAWBERRY CERAMI...|      12|01-12-2009 13:37| 1.25|      13590|United Kingdom|\n",
            "|        489579|     84854| GIRLY PINK TOOL SET|       1|01-12-2009 13:41| 4.95|      16887|United Kingdom|\n",
            "|        489579|     21034|REX CASH+CARRY JU...|       1|01-12-2009 13:41| 0.95|      16887|United Kingdom|\n",
            "|        489590|     22086|PAPER CHAIN KIT 5...|       2|01-12-2009 14:14| 2.95|      13110|United Kingdom|\n",
            "|        489593|     21257|VICTORIAN SEWING ...|       2|01-12-2009 14:19| 7.95|      12836|United Kingdom|\n",
            "|        489654|    84508A|CAMOFLAGE DESIGN ...|       2|01-12-2009 17:19| 2.55|      15750|United Kingdom|\n",
            "|        489787|     21166|COOK WITH WINE ME...|       1|02-12-2009 11:53| 1.95|      15542|United Kingdom|\n",
            "|        489797|    47566B|TEA TIME PARTY BU...|       2|02-12-2009 12:19| 4.65|      15581|United Kingdom|\n",
            "|        489802|     84692|BOX OF 24 COCKTAI...|       1|02-12-2009 12:32| 0.42|      15581|United Kingdom|\n",
            "+--------------+----------+--------------------+--------+----------------+-----+-----------+--------------+\n",
            "only showing top 20 rows\n",
            "\n"
          ]
        }
      ]
    },
    {
      "cell_type": "code",
      "source": [
        "df_2.dtypes"
      ],
      "metadata": {
        "id": "MnSHKN_ENFEQ",
        "colab": {
          "base_uri": "https://localhost:8080/"
        },
        "outputId": "e361b560-0104-415f-c3cd-2eb060779ea3"
      },
      "execution_count": null,
      "outputs": [
        {
          "output_type": "execute_result",
          "data": {
            "text/plain": [
              "[('transaction_id', 'int'),\n",
              " ('product_id', 'string'),\n",
              " ('product_name', 'string'),\n",
              " ('quantity', 'int'),\n",
              " ('transaction_date', 'string'),\n",
              " ('price', 'double'),\n",
              " ('customer_id', 'int'),\n",
              " ('country', 'string')]"
            ]
          },
          "metadata": {},
          "execution_count": 333
        }
      ]
    },
    {
      "cell_type": "markdown",
      "source": [
        "Spliting 'transaction_date' column to 'transaction_date' and 'transaction_time'"
      ],
      "metadata": {
        "id": "1GKyYjYX21xq"
      }
    },
    {
      "cell_type": "code",
      "source": [
        "df_1 = df_1\n",
        "df_2 = df_2"
      ],
      "metadata": {
        "id": "jEQVXEukWkLn"
      },
      "execution_count": null,
      "outputs": []
    },
    {
      "cell_type": "code",
      "source": [
        "df_1.show()"
      ],
      "metadata": {
        "id": "uZnQAp-2VVs-",
        "colab": {
          "base_uri": "https://localhost:8080/"
        },
        "outputId": "1516fc7e-6b92-409e-a29c-0801e0df53ea"
      },
      "execution_count": null,
      "outputs": [
        {
          "output_type": "stream",
          "name": "stdout",
          "text": [
            "+--------------+----------+--------------------+--------+----------------+-----+-----------+--------------+\n",
            "|transaction_id|product_id|        product_name|quantity|transaction_date|price|customer_id|       country|\n",
            "+--------------+----------+--------------------+--------+----------------+-----+-----------+--------------+\n",
            "|        536381|     22411|JUMBO SHOPPER VIN...|      10|01-12-2010 09:41| 1.95|      15311|United Kingdom|\n",
            "|        536392|     22827|RUSTIC  SEVENTEEN...|       1|01-12-2010 10:29|165.0|      13705|United Kingdom|\n",
            "|        536401|     21592|RETROSPOT CIGAR B...|       1|01-12-2010 11:21| 1.25|      15862|United Kingdom|\n",
            "|        536464|     22988|   SOLDIERS EGG CUP |       1|01-12-2010 12:23| 1.25|      17968|United Kingdom|\n",
            "|        536464|     22910|PAPER CHAIN KIT V...|       1|01-12-2010 12:23| 2.95|      17968|United Kingdom|\n",
            "|        536488|     20878|SET/9 CHRISTMAS T...|       2|01-12-2010 12:31| 1.25|      17897|United Kingdom|\n",
            "|        536500|     22712|    CARD DOLLY GIRL |      12|01-12-2010 12:35| 0.42|      17377|United Kingdom|\n",
            "|        536522|     84969|BOX OF 6 ASSORTED...|       1|01-12-2010 12:49| 4.25|      15012|United Kingdom|\n",
            "|        536569|     22640|SET OF 4 NAPKIN C...|       1|01-12-2010 15:35| 2.55|      16274|United Kingdom|\n",
            "|        536597|     20726|  LUNCH BAG WOODLAND|       1|01-12-2010 17:35| 1.65|      18011|United Kingdom|\n",
            "|        536608|     22863|  SOAP DISH BROCANTE|       6|02-12-2010 09:37| 2.95|      12855|United Kingdom|\n",
            "|        536618|     22440|BALLOON WATER BOM...|      40|02-12-2010 10:17| 0.42|      17017|United Kingdom|\n",
            "|        536620|     22744|MAKE YOUR OWN MON...|       6|02-12-2010 10:27| 2.95|      14135|United Kingdom|\n",
            "|        536672|     21288|STRIPEY CHOCOLATE...|       6|02-12-2010 12:10| 2.95|      14491|United Kingdom|\n",
            "|        536674|     20832|RED FLOCK LOVE HE...|       4|02-12-2010 12:16| 0.85|      15923|United Kingdom|\n",
            "|        536741|     22652|   TRAVEL SEWING KIT|      10|02-12-2010 13:11| 1.65|      13117|United Kingdom|\n",
            "|        536749|    90195B|BLACK GEMSTONE BR...|       1|02-12-2010 13:49| 8.95|      17976|United Kingdom|\n",
            "|        536796|     22557|PLASTERS IN TIN V...|       1|02-12-2010 15:46| 1.65|      15574|United Kingdom|\n",
            "|        536830|     84077|WORLD WAR 2 GLIDE...|    2880|02-12-2010 17:38| 0.18|      16754|United Kingdom|\n",
            "|        536841|     22077|6 RIBBONS RUSTIC ...|      12|02-12-2010 18:27| 1.65|      16150|United Kingdom|\n",
            "+--------------+----------+--------------------+--------+----------------+-----+-----------+--------------+\n",
            "only showing top 20 rows\n",
            "\n"
          ]
        }
      ]
    },
    {
      "cell_type": "code",
      "source": [
        "df_1.dtypes"
      ],
      "metadata": {
        "id": "OVBXQZXRRBvl",
        "colab": {
          "base_uri": "https://localhost:8080/"
        },
        "outputId": "42ad1b44-cdc6-40f1-bf6b-2944d0d30747"
      },
      "execution_count": null,
      "outputs": [
        {
          "output_type": "execute_result",
          "data": {
            "text/plain": [
              "[('transaction_id', 'int'),\n",
              " ('product_id', 'string'),\n",
              " ('product_name', 'string'),\n",
              " ('quantity', 'int'),\n",
              " ('transaction_date', 'string'),\n",
              " ('price', 'double'),\n",
              " ('customer_id', 'int'),\n",
              " ('country', 'string')]"
            ]
          },
          "metadata": {},
          "execution_count": 336
        }
      ]
    },
    {
      "cell_type": "code",
      "source": [
        "from pyspark.sql.functions import substring,to_date\n",
        "\n",
        "df_1 = df_1.withColumn('transaction_date', to_date(substring(df_1['transaction_date'], 1, 10), 'dd-MM-yyyy'))\n",
        "\n",
        "df_1.show()"
      ],
      "metadata": {
        "id": "Ez0CpsCvWbAA",
        "colab": {
          "base_uri": "https://localhost:8080/"
        },
        "outputId": "512ed744-22fa-4292-90fe-e56cfd4152cd"
      },
      "execution_count": null,
      "outputs": [
        {
          "output_type": "stream",
          "name": "stdout",
          "text": [
            "+--------------+----------+--------------------+--------+----------------+-----+-----------+--------------+\n",
            "|transaction_id|product_id|        product_name|quantity|transaction_date|price|customer_id|       country|\n",
            "+--------------+----------+--------------------+--------+----------------+-----+-----------+--------------+\n",
            "|        536381|     22411|JUMBO SHOPPER VIN...|      10|      2010-12-01| 1.95|      15311|United Kingdom|\n",
            "|        536392|     22827|RUSTIC  SEVENTEEN...|       1|      2010-12-01|165.0|      13705|United Kingdom|\n",
            "|        536401|     21592|RETROSPOT CIGAR B...|       1|      2010-12-01| 1.25|      15862|United Kingdom|\n",
            "|        536464|     22988|   SOLDIERS EGG CUP |       1|      2010-12-01| 1.25|      17968|United Kingdom|\n",
            "|        536464|     22910|PAPER CHAIN KIT V...|       1|      2010-12-01| 2.95|      17968|United Kingdom|\n",
            "|        536488|     20878|SET/9 CHRISTMAS T...|       2|      2010-12-01| 1.25|      17897|United Kingdom|\n",
            "|        536500|     22712|    CARD DOLLY GIRL |      12|      2010-12-01| 0.42|      17377|United Kingdom|\n",
            "|        536522|     84969|BOX OF 6 ASSORTED...|       1|      2010-12-01| 4.25|      15012|United Kingdom|\n",
            "|        536569|     22640|SET OF 4 NAPKIN C...|       1|      2010-12-01| 2.55|      16274|United Kingdom|\n",
            "|        536597|     20726|  LUNCH BAG WOODLAND|       1|      2010-12-01| 1.65|      18011|United Kingdom|\n",
            "|        536608|     22863|  SOAP DISH BROCANTE|       6|      2010-12-02| 2.95|      12855|United Kingdom|\n",
            "|        536618|     22440|BALLOON WATER BOM...|      40|      2010-12-02| 0.42|      17017|United Kingdom|\n",
            "|        536620|     22744|MAKE YOUR OWN MON...|       6|      2010-12-02| 2.95|      14135|United Kingdom|\n",
            "|        536672|     21288|STRIPEY CHOCOLATE...|       6|      2010-12-02| 2.95|      14491|United Kingdom|\n",
            "|        536674|     20832|RED FLOCK LOVE HE...|       4|      2010-12-02| 0.85|      15923|United Kingdom|\n",
            "|        536741|     22652|   TRAVEL SEWING KIT|      10|      2010-12-02| 1.65|      13117|United Kingdom|\n",
            "|        536749|    90195B|BLACK GEMSTONE BR...|       1|      2010-12-02| 8.95|      17976|United Kingdom|\n",
            "|        536796|     22557|PLASTERS IN TIN V...|       1|      2010-12-02| 1.65|      15574|United Kingdom|\n",
            "|        536830|     84077|WORLD WAR 2 GLIDE...|    2880|      2010-12-02| 0.18|      16754|United Kingdom|\n",
            "|        536841|     22077|6 RIBBONS RUSTIC ...|      12|      2010-12-02| 1.65|      16150|United Kingdom|\n",
            "+--------------+----------+--------------------+--------+----------------+-----+-----------+--------------+\n",
            "only showing top 20 rows\n",
            "\n"
          ]
        }
      ]
    },
    {
      "cell_type": "code",
      "source": [
        "df_1.dtypes"
      ],
      "metadata": {
        "id": "oc6H6d67YJB4",
        "colab": {
          "base_uri": "https://localhost:8080/"
        },
        "outputId": "d2559b5e-e495-4d14-ce1d-e9fb760997a5"
      },
      "execution_count": null,
      "outputs": [
        {
          "output_type": "execute_result",
          "data": {
            "text/plain": [
              "[('transaction_id', 'int'),\n",
              " ('product_id', 'string'),\n",
              " ('product_name', 'string'),\n",
              " ('quantity', 'int'),\n",
              " ('transaction_date', 'date'),\n",
              " ('price', 'double'),\n",
              " ('customer_id', 'int'),\n",
              " ('country', 'string')]"
            ]
          },
          "metadata": {},
          "execution_count": 349
        }
      ]
    },
    {
      "cell_type": "code",
      "source": [
        "import os\n",
        "pandas_df = df_1.toPandas()\n",
        "\n",
        "# Specify the local directory where you want to save the CSV file\n",
        "local_directory = \"C:/Users/jyoth/Downloads/BDA PROJ/mydata\"\n",
        "\n",
        "# Ensure the directory exists or create it if it doesn't\n",
        "os.makedirs(local_directory, exist_ok=True)\n",
        "\n",
        "# Specify the file name within the directory\n",
        "file_name = \"local_output.csv\"\n",
        "\n",
        "# Combine the directory and file name\n",
        "local_file_path = os.path.join(local_directory, file_name)\n",
        "\n",
        "# Use Pandas to save the DataFrame as a CSV file locally\n",
        "pandas_df.to_csv(local_file_path, index=False)"
      ],
      "metadata": {
        "id": "RdaKx19AKsXp"
      },
      "execution_count": null,
      "outputs": []
    },
    {
      "cell_type": "code",
      "source": [
        "df_2.show()"
      ],
      "metadata": {
        "id": "qFms8GzkYrxq",
        "colab": {
          "base_uri": "https://localhost:8080/"
        },
        "outputId": "3a6fd8be-bcb9-4918-fd98-31fc6d4094f8"
      },
      "execution_count": null,
      "outputs": [
        {
          "output_type": "stream",
          "name": "stdout",
          "text": [
            "+--------------+----------+--------------------+--------+----------------+-----+-----------+--------------+\n",
            "|transaction_id|product_id|        product_name|quantity|transaction_date|price|customer_id|       country|\n",
            "+--------------+----------+--------------------+--------+----------------+-----+-----------+--------------+\n",
            "|        489436|     21756|BATH BUILDING BLO...|       3|01-12-2009 09:06| 5.95|      13078|United Kingdom|\n",
            "|        489438|    84519A|TOMATO CHARLIE+LO...|      56|01-12-2009 09:24| 2.15|      18102|United Kingdom|\n",
            "|        489446|     22199|FRYING PAN RED PO...|       4|01-12-2009 10:06| 4.25|      13758|United Kingdom|\n",
            "|        489520|     22083|PAPER CHAIN KIT R...|       6|01-12-2009 11:41| 2.95|      14911|          EIRE|\n",
            "|        489522|     21133|PAINTED BIRD ASSO...|       6|01-12-2009 11:45| 1.69|      15998|United Kingdom|\n",
            "|        489529|     21500|   PINK SPOTS  WRAP |      25|01-12-2009 11:51| 0.42|      17984|United Kingdom|\n",
            "|        489545|     22113|GREY HEART HOT WA...|       1|01-12-2009 12:22| 3.45|      17804|United Kingdom|\n",
            "|        489571|     20975|12 PENCILS SMALL ...|       1|01-12-2009 13:29| 0.65|      15967|United Kingdom|\n",
            "|        489572|    85014B|RED/WHITE DOTS RU...|       1|01-12-2009 13:29| 5.95|      17611|United Kingdom|\n",
            "|        489573|     21754|HOME BUILDING BLO...|       5|01-12-2009 13:29| 5.95|      15051|United Kingdom|\n",
            "|        489573|     22070|SMALL RETRO SPOT ...|       4|01-12-2009 13:29| 3.75|      15051|United Kingdom|\n",
            "|        489575|     21232|STRAWBERRY CERAMI...|      12|01-12-2009 13:37| 1.25|      13590|United Kingdom|\n",
            "|        489579|     84854| GIRLY PINK TOOL SET|       1|01-12-2009 13:41| 4.95|      16887|United Kingdom|\n",
            "|        489579|     21034|REX CASH+CARRY JU...|       1|01-12-2009 13:41| 0.95|      16887|United Kingdom|\n",
            "|        489590|     22086|PAPER CHAIN KIT 5...|       2|01-12-2009 14:14| 2.95|      13110|United Kingdom|\n",
            "|        489593|     21257|VICTORIAN SEWING ...|       2|01-12-2009 14:19| 7.95|      12836|United Kingdom|\n",
            "|        489654|    84508A|CAMOFLAGE DESIGN ...|       2|01-12-2009 17:19| 2.55|      15750|United Kingdom|\n",
            "|        489787|     21166|COOK WITH WINE ME...|       1|02-12-2009 11:53| 1.95|      15542|United Kingdom|\n",
            "|        489797|    47566B|TEA TIME PARTY BU...|       2|02-12-2009 12:19| 4.65|      15581|United Kingdom|\n",
            "|        489802|     84692|BOX OF 24 COCKTAI...|       1|02-12-2009 12:32| 0.42|      15581|United Kingdom|\n",
            "+--------------+----------+--------------------+--------+----------------+-----+-----------+--------------+\n",
            "only showing top 20 rows\n",
            "\n"
          ]
        }
      ]
    },
    {
      "cell_type": "code",
      "source": [
        "df_2.dtypes"
      ],
      "metadata": {
        "id": "hBACyCs6YwQk",
        "colab": {
          "base_uri": "https://localhost:8080/"
        },
        "outputId": "fef7ff8d-ba65-46b1-85ab-f342796e5656"
      },
      "execution_count": null,
      "outputs": [
        {
          "output_type": "execute_result",
          "data": {
            "text/plain": [
              "[('transaction_id', 'int'),\n",
              " ('product_id', 'string'),\n",
              " ('product_name', 'string'),\n",
              " ('quantity', 'int'),\n",
              " ('transaction_date', 'string'),\n",
              " ('price', 'double'),\n",
              " ('customer_id', 'int'),\n",
              " ('country', 'string')]"
            ]
          },
          "metadata": {},
          "execution_count": 340
        }
      ]
    },
    {
      "cell_type": "code",
      "source": [
        "from pyspark.sql.functions import substring\n",
        "\n",
        "df_2 = df_2.withColumn('transaction_date', to_date(substring(df_2['transaction_date'], 1, 10), 'dd-MM-yyyy'))\n",
        "\n",
        "df_2.show()"
      ],
      "metadata": {
        "id": "8S-CAD4cYzXV",
        "colab": {
          "base_uri": "https://localhost:8080/"
        },
        "outputId": "2bec4e8b-51da-4527-c4b1-1339063509ed"
      },
      "execution_count": null,
      "outputs": [
        {
          "output_type": "stream",
          "name": "stdout",
          "text": [
            "+--------------+----------+--------------------+--------+----------------+-----+-----------+--------------+\n",
            "|transaction_id|product_id|        product_name|quantity|transaction_date|price|customer_id|       country|\n",
            "+--------------+----------+--------------------+--------+----------------+-----+-----------+--------------+\n",
            "|        489436|     21756|BATH BUILDING BLO...|       3|      2009-12-01| 5.95|      13078|United Kingdom|\n",
            "|        489438|    84519A|TOMATO CHARLIE+LO...|      56|      2009-12-01| 2.15|      18102|United Kingdom|\n",
            "|        489446|     22199|FRYING PAN RED PO...|       4|      2009-12-01| 4.25|      13758|United Kingdom|\n",
            "|        489520|     22083|PAPER CHAIN KIT R...|       6|      2009-12-01| 2.95|      14911|          EIRE|\n",
            "|        489522|     21133|PAINTED BIRD ASSO...|       6|      2009-12-01| 1.69|      15998|United Kingdom|\n",
            "|        489529|     21500|   PINK SPOTS  WRAP |      25|      2009-12-01| 0.42|      17984|United Kingdom|\n",
            "|        489545|     22113|GREY HEART HOT WA...|       1|      2009-12-01| 3.45|      17804|United Kingdom|\n",
            "|        489571|     20975|12 PENCILS SMALL ...|       1|      2009-12-01| 0.65|      15967|United Kingdom|\n",
            "|        489572|    85014B|RED/WHITE DOTS RU...|       1|      2009-12-01| 5.95|      17611|United Kingdom|\n",
            "|        489573|     21754|HOME BUILDING BLO...|       5|      2009-12-01| 5.95|      15051|United Kingdom|\n",
            "|        489573|     22070|SMALL RETRO SPOT ...|       4|      2009-12-01| 3.75|      15051|United Kingdom|\n",
            "|        489575|     21232|STRAWBERRY CERAMI...|      12|      2009-12-01| 1.25|      13590|United Kingdom|\n",
            "|        489579|     84854| GIRLY PINK TOOL SET|       1|      2009-12-01| 4.95|      16887|United Kingdom|\n",
            "|        489579|     21034|REX CASH+CARRY JU...|       1|      2009-12-01| 0.95|      16887|United Kingdom|\n",
            "|        489590|     22086|PAPER CHAIN KIT 5...|       2|      2009-12-01| 2.95|      13110|United Kingdom|\n",
            "|        489593|     21257|VICTORIAN SEWING ...|       2|      2009-12-01| 7.95|      12836|United Kingdom|\n",
            "|        489654|    84508A|CAMOFLAGE DESIGN ...|       2|      2009-12-01| 2.55|      15750|United Kingdom|\n",
            "|        489787|     21166|COOK WITH WINE ME...|       1|      2009-12-02| 1.95|      15542|United Kingdom|\n",
            "|        489797|    47566B|TEA TIME PARTY BU...|       2|      2009-12-02| 4.65|      15581|United Kingdom|\n",
            "|        489802|     84692|BOX OF 24 COCKTAI...|       1|      2009-12-02| 0.42|      15581|United Kingdom|\n",
            "+--------------+----------+--------------------+--------+----------------+-----+-----------+--------------+\n",
            "only showing top 20 rows\n",
            "\n"
          ]
        }
      ]
    },
    {
      "cell_type": "code",
      "source": [
        "df_2.dtypes"
      ],
      "metadata": {
        "id": "xb0DVWh3Y48M",
        "colab": {
          "base_uri": "https://localhost:8080/"
        },
        "outputId": "72878e28-9e35-458a-be2f-b024cadb2d5c"
      },
      "execution_count": null,
      "outputs": [
        {
          "output_type": "execute_result",
          "data": {
            "text/plain": [
              "[('transaction_id', 'int'),\n",
              " ('product_id', 'string'),\n",
              " ('product_name', 'string'),\n",
              " ('quantity', 'int'),\n",
              " ('transaction_date', 'date'),\n",
              " ('price', 'double'),\n",
              " ('customer_id', 'int'),\n",
              " ('country', 'string')]"
            ]
          },
          "metadata": {},
          "execution_count": 342
        }
      ]
    },
    {
      "cell_type": "markdown",
      "source": [
        "#MARKET BASKET ANALYSIS ALGORITHMS"
      ],
      "metadata": {
        "id": "iISMpvh4alzI"
      }
    },
    {
      "cell_type": "markdown",
      "source": [
        "FP-GROWTH ALGORITHM"
      ],
      "metadata": {
        "id": "VLl5U0L0bupg"
      }
    },
    {
      "cell_type": "markdown",
      "source": [
        "Apriori algorithm generates all itemsets by scanning the full transactional database. Whereas the FP growth algorithm only generates the frequent itemsets according to the minimum support defined by the user.\n",
        "FP(Frequent Pattern) Tree is better than Apriori Algorithm."
      ],
      "metadata": {
        "id": "tK9FaaLaTURz"
      }
    },
    {
      "cell_type": "code",
      "source": [
        "from pyspark.ml.fpm import FPGrowth\n",
        "from pyspark.ml.feature import StringIndexer\n",
        "from pyspark.sql import functions as F"
      ],
      "metadata": {
        "id": "A5LBrZ0udXUe"
      },
      "execution_count": null,
      "outputs": []
    },
    {
      "cell_type": "code",
      "source": [
        "basketdata = df_1.dropDuplicates(['transaction_id','product_name']).sort('transaction_id')\n",
        "original_data=basketdata\n",
        "basketdata.show()\n",
        "print((basketdata.count(), len(basketdata.columns)))"
      ],
      "metadata": {
        "id": "wKJ6HV6LIu9Z",
        "colab": {
          "base_uri": "https://localhost:8080/"
        },
        "outputId": "c406aeb0-f483-4081-c40a-e16d82439f95"
      },
      "execution_count": null,
      "outputs": [
        {
          "output_type": "stream",
          "name": "stdout",
          "text": [
            "+--------------+----------+--------------------+--------+----------------+-----+-----------+--------------+\n",
            "|transaction_id|product_id|        product_name|quantity|transaction_date|price|customer_id|       country|\n",
            "+--------------+----------+--------------------+--------+----------------+-----+-----------+--------------+\n",
            "|        536365|    84406B|CREAM CUPID HEART...|       8|      2010-12-01| 2.75|      17850|United Kingdom|\n",
            "|        536365|     21730|GLASS STAR FROSTE...|       6|      2010-12-01| 4.25|      17850|United Kingdom|\n",
            "|        536365|    84029G|KNITTED UNION FLA...|       6|      2010-12-01| 3.39|      17850|United Kingdom|\n",
            "|        536365|    85123A|WHITE HANGING HEA...|       6|      2010-12-01| 2.55|      17850|United Kingdom|\n",
            "|        536365|    84029E|RED WOOLLY HOTTIE...|       6|      2010-12-01| 3.39|      17850|United Kingdom|\n",
            "|        536365|     22752|SET 7 BABUSHKA NE...|       2|      2010-12-01| 7.65|      17850|United Kingdom|\n",
            "|        536365|     71053| WHITE METAL LANTERN|       6|      2010-12-01| 3.39|      17850|United Kingdom|\n",
            "|        536366|     22632|HAND WARMER RED P...|       6|      2010-12-01| 1.85|      17850|United Kingdom|\n",
            "|        536366|     22633|HAND WARMER UNION...|       6|      2010-12-01| 1.85|      17850|United Kingdom|\n",
            "|        536367|     84969|BOX OF 6 ASSORTED...|       6|      2010-12-01| 4.25|      13047|United Kingdom|\n",
            "|        536367|     84879|ASSORTED COLOUR B...|      32|      2010-12-01| 1.69|      13047|United Kingdom|\n",
            "|        536367|     22622|BOX OF VINTAGE AL...|       2|      2010-12-01| 9.95|      13047|United Kingdom|\n",
            "|        536367|     22623|BOX OF VINTAGE JI...|       3|      2010-12-01| 4.95|      13047|United Kingdom|\n",
            "|        536367|     48187| DOORMAT NEW ENGLAND|       4|      2010-12-01| 7.95|      13047|United Kingdom|\n",
            "|        536367|     21754|HOME BUILDING BLO...|       3|      2010-12-01| 5.95|      13047|United Kingdom|\n",
            "|        536367|     22749|FELTCRAFT PRINCES...|       8|      2010-12-01| 3.75|      13047|United Kingdom|\n",
            "|        536367|     22310|IVORY KNITTED MUG...|       6|      2010-12-01| 1.65|      13047|United Kingdom|\n",
            "|        536367|     21777|RECIPE BOX WITH M...|       4|      2010-12-01| 7.95|      13047|United Kingdom|\n",
            "|        536367|     21755|LOVE BUILDING BLO...|       3|      2010-12-01| 5.95|      13047|United Kingdom|\n",
            "|        536367|     22745|POPPY'S PLAYHOUSE...|       6|      2010-12-01|  2.1|      13047|United Kingdom|\n",
            "+--------------+----------+--------------------+--------+----------------+-----+-----------+--------------+\n",
            "only showing top 20 rows\n",
            "\n",
            "(387773, 8)\n"
          ]
        }
      ]
    },
    {
      "cell_type": "code",
      "source": [
        "basketdata = basketdata.groupBy(\"transaction_id\").agg(F.collect_list(\"product_name\")).sort('transaction_id')\n",
        "basketdata.show()"
      ],
      "metadata": {
        "id": "zPb4C9pKJQLJ",
        "colab": {
          "base_uri": "https://localhost:8080/"
        },
        "outputId": "b21c3f57-33e7-4f2b-8080-b569d8eec934"
      },
      "execution_count": null,
      "outputs": [
        {
          "output_type": "stream",
          "name": "stdout",
          "text": [
            "+--------------+--------------------------+\n",
            "|transaction_id|collect_list(product_name)|\n",
            "+--------------+--------------------------+\n",
            "|        536365|      [SET 7 BABUSHKA N...|\n",
            "|        536366|      [HAND WARMER UNIO...|\n",
            "|        536367|      [ASSORTED COLOUR ...|\n",
            "|        536368|      [BLUE COAT RACK P...|\n",
            "|        536369|      [BATH BUILDING BL...|\n",
            "|        536370|      [ROUND SNACK BOXE...|\n",
            "|        536371|      [PAPER CHAIN KIT ...|\n",
            "|        536372|      [HAND WARMER UNIO...|\n",
            "|        536373|      [WOODEN FRAME ANT...|\n",
            "|        536374|      [VICTORIAN SEWING...|\n",
            "|        536375|      [WOODEN PICTURE F...|\n",
            "|        536376|      [HOT WATER BOTTLE...|\n",
            "|        536377|      [HAND WARMER UNIO...|\n",
            "|        536378|      [PACK OF 60 DINOS...|\n",
            "|        536380|      [JAM MAKING SET P...|\n",
            "|        536381|      [GUMBALL MONOCHRO...|\n",
            "|        536382|      [ANTIQUE GLASS DR...|\n",
            "|        536384|      [ENAMEL FLOWER JU...|\n",
            "|        536385|      [TRADITIONAL CHRI...|\n",
            "|        536386|      [JUMBO BAG RED RE...|\n",
            "+--------------+--------------------------+\n",
            "only showing top 20 rows\n",
            "\n"
          ]
        }
      ]
    },
    {
      "cell_type": "code",
      "source": [
        "basketdata = basketdata.withColumnRenamed(\"collect_list(product_name)\",\"Items\")\n",
        "basketdata.show()"
      ],
      "metadata": {
        "id": "lguLcNVFLDvA",
        "colab": {
          "base_uri": "https://localhost:8080/"
        },
        "outputId": "eb75f0e2-84a9-47f2-9645-2e7431351c48"
      },
      "execution_count": null,
      "outputs": [
        {
          "output_type": "stream",
          "name": "stdout",
          "text": [
            "+--------------+--------------------+\n",
            "|transaction_id|               Items|\n",
            "+--------------+--------------------+\n",
            "|        536365|[SET 7 BABUSHKA N...|\n",
            "|        536366|[HAND WARMER UNIO...|\n",
            "|        536367|[ASSORTED COLOUR ...|\n",
            "|        536368|[BLUE COAT RACK P...|\n",
            "|        536369|[BATH BUILDING BL...|\n",
            "|        536370|[ROUND SNACK BOXE...|\n",
            "|        536371|[PAPER CHAIN KIT ...|\n",
            "|        536372|[HAND WARMER UNIO...|\n",
            "|        536373|[WOODEN FRAME ANT...|\n",
            "|        536374|[VICTORIAN SEWING...|\n",
            "|        536375|[WOODEN PICTURE F...|\n",
            "|        536376|[HOT WATER BOTTLE...|\n",
            "|        536377|[HAND WARMER UNIO...|\n",
            "|        536378|[PACK OF 60 DINOS...|\n",
            "|        536380|[JAM MAKING SET P...|\n",
            "|        536381|[GUMBALL MONOCHRO...|\n",
            "|        536382|[ANTIQUE GLASS DR...|\n",
            "|        536384|[ENAMEL FLOWER JU...|\n",
            "|        536385|[TRADITIONAL CHRI...|\n",
            "|        536386|[JUMBO BAG RED RE...|\n",
            "+--------------+--------------------+\n",
            "only showing top 20 rows\n",
            "\n"
          ]
        }
      ]
    },
    {
      "cell_type": "code",
      "source": [
        "fpGrowth = FPGrowth(itemsCol=\"Items\", minSupport=0.006, minConfidence=0.006)\n",
        "model = fpGrowth.fit(basketdata)"
      ],
      "metadata": {
        "id": "QlrG56MdLyVB"
      },
      "execution_count": null,
      "outputs": []
    },
    {
      "cell_type": "markdown",
      "source": [
        "minSupport: It sets the minimum support threshold. The minSupport parameter is a fraction between 0 and 1, and it represents the minimum proportion of transactions that must contain a particular pattern (a set of items) for it to be considered frequent. In this case, the threshold is set to 0.006, which means that a pattern must appear in at least 0.6% of the transactions to be considered frequent.\n",
        "\n",
        "\n",
        "minConfidence: It sets the minimum confidence threshold for generating association rules. The minConfidence parameter is also a fraction between 0 and 1. It represents the minimum level of confidence required for an association rule to be generated. In this case, it's set to 0.006, which corresponds to 0.6% confidence."
      ],
      "metadata": {
        "id": "URI7Kp0bMTot"
      }
    },
    {
      "cell_type": "code",
      "source": [
        "model.freqItemsets.show()"
      ],
      "metadata": {
        "id": "QasAE8h8MBoB",
        "colab": {
          "base_uri": "https://localhost:8080/"
        },
        "outputId": "8ba22c61-9586-45e6-e493-efd8c23488de"
      },
      "execution_count": null,
      "outputs": [
        {
          "output_type": "stream",
          "name": "stdout",
          "text": [
            "+--------------------+----+\n",
            "|               items|freq|\n",
            "+--------------------+----+\n",
            "|[12 COLOURED PART...| 139|\n",
            "|[TRAVEL CARD WALL...| 205|\n",
            "|[TRAVEL CARD WALL...| 119|\n",
            "|[JUMBO BAG SCANDI...| 451|\n",
            "|[JUMBO BAG SCANDI...| 112|\n",
            "|[JUMBO BAG SCANDI...| 124|\n",
            "|[JUMBO BAG SCANDI...| 128|\n",
            "|[JUMBO BAG SCANDI...| 134|\n",
            "|[JUMBO BAG SCANDI...| 122|\n",
            "|[JUMBO BAG SCANDI...| 268|\n",
            "|[JUMBO BAG SCANDI...| 134|\n",
            "|[JUMBO BAG SCANDI...| 241|\n",
            "|[JUMBO BAG SCANDI...| 159|\n",
            "|[JUMBO BAG SCANDI...| 125|\n",
            "|[JUMBO BAG SCANDI...| 126|\n",
            "|[JUMBO BAG SCANDI...| 198|\n",
            "|[JUMBO BAG SCANDI...| 143|\n",
            "|[JUMBO BAG SCANDI...| 151|\n",
            "|[JUMBO BAG SCANDI...| 113|\n",
            "|[JUMBO BAG SCANDI...| 155|\n",
            "+--------------------+----+\n",
            "only showing top 20 rows\n",
            "\n"
          ]
        }
      ]
    },
    {
      "cell_type": "code",
      "source": [
        "from pyspark.sql.functions import desc\n",
        "\n",
        "sorted_data = model.freqItemsets.sort(desc(\"freq\"))\n",
        "sorted_data.show()"
      ],
      "metadata": {
        "id": "VJgsil7eMhjo",
        "colab": {
          "base_uri": "https://localhost:8080/"
        },
        "outputId": "0860bb1a-0866-4252-f16f-62b16d56ddfa"
      },
      "execution_count": null,
      "outputs": [
        {
          "output_type": "stream",
          "name": "stdout",
          "text": [
            "+--------------------+----+\n",
            "|               items|freq|\n",
            "+--------------------+----+\n",
            "|[WHITE HANGING HE...|1971|\n",
            "|[REGENCY CAKESTAN...|1704|\n",
            "|[JUMBO BAG RED RE...|1600|\n",
            "|     [PARTY BUNTING]|1380|\n",
            "|[ASSORTED COLOUR ...|1375|\n",
            "|[LUNCH BAG RED RE...|1288|\n",
            "|[SET OF 3 CAKE TI...|1146|\n",
            "|           [POSTAGE]|1100|\n",
            "|[LUNCH BAG  BLACK...|1052|\n",
            "|[PACK OF 72 RETRO...|1029|\n",
            "|    [SPOTTY BUNTING]|1003|\n",
            "|[LUNCH BAG SPACEB...| 988|\n",
            "|[PAPER CHAIN KIT ...| 980|\n",
            "|[NATURAL SLATE HE...| 967|\n",
            "|[LUNCH BAG CARS B...| 966|\n",
            "|[HEART OF WICKER ...| 961|\n",
            "|[LUNCH BAG PINK P...| 931|\n",
            "|[LUNCH BAG SUKI D...| 899|\n",
            "|[JAM MAKING SET W...| 879|\n",
            "|[ALARM CLOCK BAKE...| 877|\n",
            "+--------------------+----+\n",
            "only showing top 20 rows\n",
            "\n"
          ]
        }
      ]
    },
    {
      "cell_type": "code",
      "source": [
        "model.associationRules.show()"
      ],
      "metadata": {
        "id": "S-Hs4VKVM22r",
        "colab": {
          "base_uri": "https://localhost:8080/"
        },
        "outputId": "f9545d8d-d06e-4719-de4e-fc3c7950598d"
      },
      "execution_count": null,
      "outputs": [
        {
          "output_type": "stream",
          "name": "stdout",
          "text": [
            "+--------------------+--------------------+-------------------+------------------+--------------------+\n",
            "|          antecedent|          consequent|         confidence|              lift|             support|\n",
            "+--------------------+--------------------+-------------------+------------------+--------------------+\n",
            "|[FELTCRAFT GIRL N...|[FELTCRAFT GIRL A...| 0.7529411764705882| 54.73144175317186|0.006905481225722...|\n",
            "|[JUMBO BAG ALPHAB...|[JUMBO BAG VINTAG...|0.47297297297297297|11.356252625682677|0.007552870090634...|\n",
            "|[JUMBO BAG ALPHAB...|[JUMBO STORAGE BA...| 0.4155405405405405| 9.951498009637543|0.006635735865343116|\n",
            "|[JUMBO BAG ALPHAB...|[JUMBO BAG PINK P...|0.46621621621621623| 9.921680578396996|0.007444971946482521|\n",
            "|[JUMBO BAG ALPHAB...|  [JUMBO BAG APPLES]| 0.4864864864864865|12.559211021606565|0.007768666378938282|\n",
            "|[SET OF 6 SNACK L...|[SET OF 6 TEA TIM...| 0.6683168316831684|38.833607498680905| 0.00728312473025464|\n",
            "|[SET OF 6 SNACK L...|[SET OF 12 MINI L...| 0.7425742574257426|38.340825726026644|0.008092360811394044|\n",
            "|[BLUE POLKADOT WRAP]|[RED RETROSPOT WR...| 0.5627906976744186|31.139965289829917|0.006527837721191195|\n",
            "|[BLUE POLKADOT WRAP]|[PINK POLKADOT WR...| 0.6093023255813953| 53.02360519707391|0.007067328441950798|\n",
            "|[BLUE SPOT CERAMI...|[BLUE STRIPE CERA...| 0.7635135135135135| 40.32047432047432|0.006096245144583513|\n",
            "|[BLUE SPOT CERAMI...|[RED STRIPE CERAM...| 0.7972972972972973| 44.38048859670481|0.006365990504963314|\n",
            "|[BLUE SPOT CERAMI...|[RED SPOT CERAMIC...| 0.8175675675675675| 54.31696212341373|0.006527837721191195|\n",
            "|[SET OF 6 SPICE T...|[JAM MAKING SET P...|0.18376722817764166| 3.924319517858025|0.006473888649115235|\n",
            "|[SET OF 6 SPICE T...|[RECIPE BOX PANTR...|0.22970903522205208|5.1423752136183065|0.008092360811394044|\n",
            "|[SET OF 6 SPICE T...|[JAM MAKING SET W...|0.24808575803981622| 5.231533118345886|0.008739749676305567|\n",
            "|[SET OF 6 SPICE T...|[SET OF 4 PANTRY ...|0.18529862174578868|3.9661607998613615|0.006527837721191195|\n",
            "|[SET OF 6 SPICE T...|[SET OF 3 CAKE TI...| 0.4563552833078101| 7.381327688825103|0.016076823478636166|\n",
            "|[REGENCY TEA PLAT...|[REGENCY TEA PLAT...|  0.957983193277311|  65.7673202614379|0.006150194216659474|\n",
            "|[RED FLORAL FELTC...|[PINK FLORAL FELT...|  0.556420233463035|44.842632380307904|0.007714717306862322|\n",
            "|[LUNCH BAG WOODLA...|[LUNCH BAG SUKI D...| 0.6173469387755102|12.728746225965358|0.006527837721191195|\n",
            "+--------------------+--------------------+-------------------+------------------+--------------------+\n",
            "only showing top 20 rows\n",
            "\n"
          ]
        }
      ]
    },
    {
      "cell_type": "markdown",
      "source": [
        "Association rules describe relationships between items and can be used to understand how frequently items are purchased together and the strength of those associations."
      ],
      "metadata": {
        "id": "vzt8DRggNsCt"
      }
    },
    {
      "cell_type": "markdown",
      "source": [
        "1. antecedent: which are the items typically found together before a purchase.\n",
        "\n",
        "2. consequent: which are the items that are likely to be purchased if the antecedent items are present.\n",
        "\n",
        "3. confidence: This is the confidence value, which indicates the probability that the consequent will be purchased when the antecedent is present.\n",
        "\n",
        "4. lift: The lift value quantifies how much more likely the consequent is to be purchased when the antecedent is present, compared to when the consequent is purchased independently of the antecedent. A lift value greater than 1 indicates a positive association.\n",
        "\n",
        "5. support: The support count, which represents how frequently the association rule occurs in the dataset."
      ],
      "metadata": {
        "id": "8Yl0tnw0N6H2"
      }
    },
    {
      "cell_type": "code",
      "source": [
        "rules = model.associationRules\n",
        "model.transform(basketdata).show()"
      ],
      "metadata": {
        "id": "ZWrDtNInNPJC",
        "colab": {
          "base_uri": "https://localhost:8080/"
        },
        "outputId": "611ee22f-bfd3-415d-81a7-29e6e81e9567"
      },
      "execution_count": null,
      "outputs": [
        {
          "output_type": "stream",
          "name": "stdout",
          "text": [
            "+--------------+--------------------+--------------------+\n",
            "|transaction_id|               Items|          prediction|\n",
            "+--------------+--------------------+--------------------+\n",
            "|        536365|[SET 7 BABUSHKA N...|[LARGE WHITE HEAR...|\n",
            "|        536366|[HAND WARMER UNIO...|[HAND WARMER OWL ...|\n",
            "|        536367|[ASSORTED COLOUR ...|[DOORMAT ENGLISH ...|\n",
            "|        536368|[BLUE COAT RACK P...|[HOMEMADE JAM SCE...|\n",
            "|        536369|[BATH BUILDING BL...|[HOME BUILDING BL...|\n",
            "|        536370|[ROUND SNACK BOXE...|[ALARM CLOCK BAKE...|\n",
            "|        536371|[PAPER CHAIN KIT ...|[HAND WARMER OWL ...|\n",
            "|        536372|[HAND WARMER UNIO...|[HAND WARMER OWL ...|\n",
            "|        536373|[WOODEN FRAME ANT...|[WOOD BLACK BOARD...|\n",
            "|        536374|[VICTORIAN SEWING...|                  []|\n",
            "|        536375|[WOODEN PICTURE F...|[WOOD BLACK BOARD...|\n",
            "|        536376|[HOT WATER BOTTLE...|[CANDLEHOLDER PIN...|\n",
            "|        536377|[HAND WARMER UNIO...|[HAND WARMER OWL ...|\n",
            "|        536378|[PACK OF 60 DINOS...|[GINGERBREAD MAN ...|\n",
            "|        536380|[JAM MAKING SET P...|[REGENCY CAKESTAN...|\n",
            "|        536381|[GUMBALL MONOCHRO...|[RABBIT NIGHT LIG...|\n",
            "|        536382|[ANTIQUE GLASS DR...|[ALARM CLOCK BAKE...|\n",
            "|        536384|[ENAMEL FLOWER JU...|[WOODEN PICTURE F...|\n",
            "|        536385|[TRADITIONAL CHRI...|[HOMEMADE JAM SCE...|\n",
            "|        536386|[JUMBO BAG RED RE...|[JUMBO SHOPPER VI...|\n",
            "+--------------+--------------------+--------------------+\n",
            "only showing top 20 rows\n",
            "\n"
          ]
        }
      ]
    },
    {
      "cell_type": "code",
      "source": [
        "transformed = model.transform(basketdata)\n",
        "transformed.show()"
      ],
      "metadata": {
        "id": "z4zgAFDZOo96",
        "colab": {
          "base_uri": "https://localhost:8080/"
        },
        "outputId": "0fdadce1-6af9-463d-c7e0-19e8b72faa63"
      },
      "execution_count": null,
      "outputs": [
        {
          "output_type": "stream",
          "name": "stdout",
          "text": [
            "+--------------+--------------------+--------------------+\n",
            "|transaction_id|               Items|          prediction|\n",
            "+--------------+--------------------+--------------------+\n",
            "|        536365|[SET 7 BABUSHKA N...|[LARGE WHITE HEAR...|\n",
            "|        536366|[HAND WARMER UNIO...|[HAND WARMER OWL ...|\n",
            "|        536367|[ASSORTED COLOUR ...|[DOORMAT ENGLISH ...|\n",
            "|        536368|[BLUE COAT RACK P...|[HOMEMADE JAM SCE...|\n",
            "|        536369|[BATH BUILDING BL...|[HOME BUILDING BL...|\n",
            "|        536370|[ROUND SNACK BOXE...|[ALARM CLOCK BAKE...|\n",
            "|        536371|[PAPER CHAIN KIT ...|[HAND WARMER OWL ...|\n",
            "|        536372|[HAND WARMER UNIO...|[HAND WARMER OWL ...|\n",
            "|        536373|[WOODEN FRAME ANT...|[WOOD BLACK BOARD...|\n",
            "|        536374|[VICTORIAN SEWING...|                  []|\n",
            "|        536375|[WOODEN PICTURE F...|[WOOD BLACK BOARD...|\n",
            "|        536376|[HOT WATER BOTTLE...|[CANDLEHOLDER PIN...|\n",
            "|        536377|[HAND WARMER UNIO...|[HAND WARMER OWL ...|\n",
            "|        536378|[PACK OF 60 DINOS...|[GINGERBREAD MAN ...|\n",
            "|        536380|[JAM MAKING SET P...|[REGENCY CAKESTAN...|\n",
            "|        536381|[GUMBALL MONOCHRO...|[RABBIT NIGHT LIG...|\n",
            "|        536382|[ANTIQUE GLASS DR...|[ALARM CLOCK BAKE...|\n",
            "|        536384|[ENAMEL FLOWER JU...|[WOODEN PICTURE F...|\n",
            "|        536385|[TRADITIONAL CHRI...|[HOMEMADE JAM SCE...|\n",
            "|        536386|[JUMBO BAG RED RE...|[JUMBO SHOPPER VI...|\n",
            "+--------------+--------------------+--------------------+\n",
            "only showing top 20 rows\n",
            "\n"
          ]
        }
      ]
    },
    {
      "cell_type": "code",
      "source": [
        "print((original_data.count(), len(original_data.columns)))\n",
        "print((transformed.count(), len(transformed.columns)))"
      ],
      "metadata": {
        "id": "SULadGU8VyXq",
        "colab": {
          "base_uri": "https://localhost:8080/"
        },
        "outputId": "016fe90c-f64f-4ec1-9179-8c296991e74a"
      },
      "execution_count": null,
      "outputs": [
        {
          "output_type": "stream",
          "name": "stdout",
          "text": [
            "(387773, 8)\n",
            "(18536, 3)\n"
          ]
        }
      ]
    },
    {
      "cell_type": "code",
      "source": [
        "import pandas as pd\n",
        "pandas_df = transformed.toPandas()"
      ],
      "metadata": {
        "id": "gM_n_jREWqCr"
      },
      "execution_count": null,
      "outputs": []
    },
    {
      "cell_type": "code",
      "source": [
        "pandas_df"
      ],
      "metadata": {
        "id": "WPxlchIlYang",
        "colab": {
          "base_uri": "https://localhost:8080/",
          "height": 423
        },
        "outputId": "4731a283-cf74-46c0-c377-66af875dcab4"
      },
      "execution_count": null,
      "outputs": [
        {
          "output_type": "execute_result",
          "data": {
            "text/plain": [
              "       transaction_id                                              Items  \\\n",
              "0              536365  [SET 7 BABUSHKA NESTING BOXES, RED WOOLLY HOTT...   \n",
              "1              536366  [HAND WARMER UNION JACK, HAND WARMER RED POLKA...   \n",
              "2              536367  [ASSORTED COLOUR BIRD ORNAMENT, POPPY'S PLAYHO...   \n",
              "3              536368  [BLUE COAT RACK PARIS FASHION, JAM MAKING SET ...   \n",
              "4              536369                         [BATH BUILDING BLOCK WORD]   \n",
              "...               ...                                                ...   \n",
              "18531          581583  [6 CHOCOLATE LOVE HEART T-LIGHTS, LUNCH BAG RE...   \n",
              "18532          581584  [RED FLOCK LOVE HEART PHOTO FRAME, 6 CHOCOLATE...   \n",
              "18533          581585  [LOVE HOT WATER BOTTLE, ASSORTED COLOUR BIRD O...   \n",
              "18534          581586  [LARGE CAKE STAND  HANGING STRAWBERY, DOORMAT ...   \n",
              "18535          581587  [CIRCUS PARADE LUNCH BOX , CHILDRENS CUTLERY C...   \n",
              "\n",
              "                                              prediction  \n",
              "0      [LARGE WHITE HEART OF WICKER, SET OF 3 HEART C...  \n",
              "1      [HAND WARMER OWL DESIGN, HAND WARMER SCOTTY DO...  \n",
              "2      [DOORMAT ENGLISH ROSE , DOORMAT HEARTS, DOORMA...  \n",
              "3      [HOMEMADE JAM SCENTED CANDLES, JAM MAKING SET ...  \n",
              "4                             [HOME BUILDING BLOCK WORD]  \n",
              "...                                                  ...  \n",
              "18531  [JUMBO BAG SCANDINAVIAN BLUE PAISLEY, JUMBO BA...  \n",
              "18532                                                 []  \n",
              "18533  [ALARM CLOCK BAKELIKE ORANGE, REGENCY CAKESTAN...  \n",
              "18534  [DOORMAT ENGLISH ROSE , DOORMAT HEARTS, DOORMA...  \n",
              "18535  [ALARM CLOCK BAKELIKE ORANGE, REGENCY CAKESTAN...  \n",
              "\n",
              "[18536 rows x 3 columns]"
            ],
            "text/html": [
              "\n",
              "  <div id=\"df-a086358e-6b0b-4af5-8c51-b324afb11bf4\" class=\"colab-df-container\">\n",
              "    <div>\n",
              "<style scoped>\n",
              "    .dataframe tbody tr th:only-of-type {\n",
              "        vertical-align: middle;\n",
              "    }\n",
              "\n",
              "    .dataframe tbody tr th {\n",
              "        vertical-align: top;\n",
              "    }\n",
              "\n",
              "    .dataframe thead th {\n",
              "        text-align: right;\n",
              "    }\n",
              "</style>\n",
              "<table border=\"1\" class=\"dataframe\">\n",
              "  <thead>\n",
              "    <tr style=\"text-align: right;\">\n",
              "      <th></th>\n",
              "      <th>transaction_id</th>\n",
              "      <th>Items</th>\n",
              "      <th>prediction</th>\n",
              "    </tr>\n",
              "  </thead>\n",
              "  <tbody>\n",
              "    <tr>\n",
              "      <th>0</th>\n",
              "      <td>536365</td>\n",
              "      <td>[SET 7 BABUSHKA NESTING BOXES, RED WOOLLY HOTT...</td>\n",
              "      <td>[LARGE WHITE HEART OF WICKER, SET OF 3 HEART C...</td>\n",
              "    </tr>\n",
              "    <tr>\n",
              "      <th>1</th>\n",
              "      <td>536366</td>\n",
              "      <td>[HAND WARMER UNION JACK, HAND WARMER RED POLKA...</td>\n",
              "      <td>[HAND WARMER OWL DESIGN, HAND WARMER SCOTTY DO...</td>\n",
              "    </tr>\n",
              "    <tr>\n",
              "      <th>2</th>\n",
              "      <td>536367</td>\n",
              "      <td>[ASSORTED COLOUR BIRD ORNAMENT, POPPY'S PLAYHO...</td>\n",
              "      <td>[DOORMAT ENGLISH ROSE , DOORMAT HEARTS, DOORMA...</td>\n",
              "    </tr>\n",
              "    <tr>\n",
              "      <th>3</th>\n",
              "      <td>536368</td>\n",
              "      <td>[BLUE COAT RACK PARIS FASHION, JAM MAKING SET ...</td>\n",
              "      <td>[HOMEMADE JAM SCENTED CANDLES, JAM MAKING SET ...</td>\n",
              "    </tr>\n",
              "    <tr>\n",
              "      <th>4</th>\n",
              "      <td>536369</td>\n",
              "      <td>[BATH BUILDING BLOCK WORD]</td>\n",
              "      <td>[HOME BUILDING BLOCK WORD]</td>\n",
              "    </tr>\n",
              "    <tr>\n",
              "      <th>...</th>\n",
              "      <td>...</td>\n",
              "      <td>...</td>\n",
              "      <td>...</td>\n",
              "    </tr>\n",
              "    <tr>\n",
              "      <th>18531</th>\n",
              "      <td>581583</td>\n",
              "      <td>[6 CHOCOLATE LOVE HEART T-LIGHTS, LUNCH BAG RE...</td>\n",
              "      <td>[JUMBO BAG SCANDINAVIAN BLUE PAISLEY, JUMBO BA...</td>\n",
              "    </tr>\n",
              "    <tr>\n",
              "      <th>18532</th>\n",
              "      <td>581584</td>\n",
              "      <td>[RED FLOCK LOVE HEART PHOTO FRAME, 6 CHOCOLATE...</td>\n",
              "      <td>[]</td>\n",
              "    </tr>\n",
              "    <tr>\n",
              "      <th>18533</th>\n",
              "      <td>581585</td>\n",
              "      <td>[LOVE HOT WATER BOTTLE, ASSORTED COLOUR BIRD O...</td>\n",
              "      <td>[ALARM CLOCK BAKELIKE ORANGE, REGENCY CAKESTAN...</td>\n",
              "    </tr>\n",
              "    <tr>\n",
              "      <th>18534</th>\n",
              "      <td>581586</td>\n",
              "      <td>[LARGE CAKE STAND  HANGING STRAWBERY, DOORMAT ...</td>\n",
              "      <td>[DOORMAT ENGLISH ROSE , DOORMAT HEARTS, DOORMA...</td>\n",
              "    </tr>\n",
              "    <tr>\n",
              "      <th>18535</th>\n",
              "      <td>581587</td>\n",
              "      <td>[CIRCUS PARADE LUNCH BOX , CHILDRENS CUTLERY C...</td>\n",
              "      <td>[ALARM CLOCK BAKELIKE ORANGE, REGENCY CAKESTAN...</td>\n",
              "    </tr>\n",
              "  </tbody>\n",
              "</table>\n",
              "<p>18536 rows × 3 columns</p>\n",
              "</div>\n",
              "    <div class=\"colab-df-buttons\">\n",
              "\n",
              "  <div class=\"colab-df-container\">\n",
              "    <button class=\"colab-df-convert\" onclick=\"convertToInteractive('df-a086358e-6b0b-4af5-8c51-b324afb11bf4')\"\n",
              "            title=\"Convert this dataframe to an interactive table.\"\n",
              "            style=\"display:none;\">\n",
              "\n",
              "  <svg xmlns=\"http://www.w3.org/2000/svg\" height=\"24px\" viewBox=\"0 -960 960 960\">\n",
              "    <path d=\"M120-120v-720h720v720H120Zm60-500h600v-160H180v160Zm220 220h160v-160H400v160Zm0 220h160v-160H400v160ZM180-400h160v-160H180v160Zm440 0h160v-160H620v160ZM180-180h160v-160H180v160Zm440 0h160v-160H620v160Z\"/>\n",
              "  </svg>\n",
              "    </button>\n",
              "\n",
              "  <style>\n",
              "    .colab-df-container {\n",
              "      display:flex;\n",
              "      gap: 12px;\n",
              "    }\n",
              "\n",
              "    .colab-df-convert {\n",
              "      background-color: #E8F0FE;\n",
              "      border: none;\n",
              "      border-radius: 50%;\n",
              "      cursor: pointer;\n",
              "      display: none;\n",
              "      fill: #1967D2;\n",
              "      height: 32px;\n",
              "      padding: 0 0 0 0;\n",
              "      width: 32px;\n",
              "    }\n",
              "\n",
              "    .colab-df-convert:hover {\n",
              "      background-color: #E2EBFA;\n",
              "      box-shadow: 0px 1px 2px rgba(60, 64, 67, 0.3), 0px 1px 3px 1px rgba(60, 64, 67, 0.15);\n",
              "      fill: #174EA6;\n",
              "    }\n",
              "\n",
              "    .colab-df-buttons div {\n",
              "      margin-bottom: 4px;\n",
              "    }\n",
              "\n",
              "    [theme=dark] .colab-df-convert {\n",
              "      background-color: #3B4455;\n",
              "      fill: #D2E3FC;\n",
              "    }\n",
              "\n",
              "    [theme=dark] .colab-df-convert:hover {\n",
              "      background-color: #434B5C;\n",
              "      box-shadow: 0px 1px 3px 1px rgba(0, 0, 0, 0.15);\n",
              "      filter: drop-shadow(0px 1px 2px rgba(0, 0, 0, 0.3));\n",
              "      fill: #FFFFFF;\n",
              "    }\n",
              "  </style>\n",
              "\n",
              "    <script>\n",
              "      const buttonEl =\n",
              "        document.querySelector('#df-a086358e-6b0b-4af5-8c51-b324afb11bf4 button.colab-df-convert');\n",
              "      buttonEl.style.display =\n",
              "        google.colab.kernel.accessAllowed ? 'block' : 'none';\n",
              "\n",
              "      async function convertToInteractive(key) {\n",
              "        const element = document.querySelector('#df-a086358e-6b0b-4af5-8c51-b324afb11bf4');\n",
              "        const dataTable =\n",
              "          await google.colab.kernel.invokeFunction('convertToInteractive',\n",
              "                                                    [key], {});\n",
              "        if (!dataTable) return;\n",
              "\n",
              "        const docLinkHtml = 'Like what you see? Visit the ' +\n",
              "          '<a target=\"_blank\" href=https://colab.research.google.com/notebooks/data_table.ipynb>data table notebook</a>'\n",
              "          + ' to learn more about interactive tables.';\n",
              "        element.innerHTML = '';\n",
              "        dataTable['output_type'] = 'display_data';\n",
              "        await google.colab.output.renderOutput(dataTable, element);\n",
              "        const docLink = document.createElement('div');\n",
              "        docLink.innerHTML = docLinkHtml;\n",
              "        element.appendChild(docLink);\n",
              "      }\n",
              "    </script>\n",
              "  </div>\n",
              "\n",
              "\n",
              "<div id=\"df-69893c2a-7deb-4c5f-8858-afb88ac6d8e4\">\n",
              "  <button class=\"colab-df-quickchart\" onclick=\"quickchart('df-69893c2a-7deb-4c5f-8858-afb88ac6d8e4')\"\n",
              "            title=\"Suggest charts.\"\n",
              "            style=\"display:none;\">\n",
              "\n",
              "<svg xmlns=\"http://www.w3.org/2000/svg\" height=\"24px\"viewBox=\"0 0 24 24\"\n",
              "     width=\"24px\">\n",
              "    <g>\n",
              "        <path d=\"M19 3H5c-1.1 0-2 .9-2 2v14c0 1.1.9 2 2 2h14c1.1 0 2-.9 2-2V5c0-1.1-.9-2-2-2zM9 17H7v-7h2v7zm4 0h-2V7h2v10zm4 0h-2v-4h2v4z\"/>\n",
              "    </g>\n",
              "</svg>\n",
              "  </button>\n",
              "\n",
              "<style>\n",
              "  .colab-df-quickchart {\n",
              "      --bg-color: #E8F0FE;\n",
              "      --fill-color: #1967D2;\n",
              "      --hover-bg-color: #E2EBFA;\n",
              "      --hover-fill-color: #174EA6;\n",
              "      --disabled-fill-color: #AAA;\n",
              "      --disabled-bg-color: #DDD;\n",
              "  }\n",
              "\n",
              "  [theme=dark] .colab-df-quickchart {\n",
              "      --bg-color: #3B4455;\n",
              "      --fill-color: #D2E3FC;\n",
              "      --hover-bg-color: #434B5C;\n",
              "      --hover-fill-color: #FFFFFF;\n",
              "      --disabled-bg-color: #3B4455;\n",
              "      --disabled-fill-color: #666;\n",
              "  }\n",
              "\n",
              "  .colab-df-quickchart {\n",
              "    background-color: var(--bg-color);\n",
              "    border: none;\n",
              "    border-radius: 50%;\n",
              "    cursor: pointer;\n",
              "    display: none;\n",
              "    fill: var(--fill-color);\n",
              "    height: 32px;\n",
              "    padding: 0;\n",
              "    width: 32px;\n",
              "  }\n",
              "\n",
              "  .colab-df-quickchart:hover {\n",
              "    background-color: var(--hover-bg-color);\n",
              "    box-shadow: 0 1px 2px rgba(60, 64, 67, 0.3), 0 1px 3px 1px rgba(60, 64, 67, 0.15);\n",
              "    fill: var(--button-hover-fill-color);\n",
              "  }\n",
              "\n",
              "  .colab-df-quickchart-complete:disabled,\n",
              "  .colab-df-quickchart-complete:disabled:hover {\n",
              "    background-color: var(--disabled-bg-color);\n",
              "    fill: var(--disabled-fill-color);\n",
              "    box-shadow: none;\n",
              "  }\n",
              "\n",
              "  .colab-df-spinner {\n",
              "    border: 2px solid var(--fill-color);\n",
              "    border-color: transparent;\n",
              "    border-bottom-color: var(--fill-color);\n",
              "    animation:\n",
              "      spin 1s steps(1) infinite;\n",
              "  }\n",
              "\n",
              "  @keyframes spin {\n",
              "    0% {\n",
              "      border-color: transparent;\n",
              "      border-bottom-color: var(--fill-color);\n",
              "      border-left-color: var(--fill-color);\n",
              "    }\n",
              "    20% {\n",
              "      border-color: transparent;\n",
              "      border-left-color: var(--fill-color);\n",
              "      border-top-color: var(--fill-color);\n",
              "    }\n",
              "    30% {\n",
              "      border-color: transparent;\n",
              "      border-left-color: var(--fill-color);\n",
              "      border-top-color: var(--fill-color);\n",
              "      border-right-color: var(--fill-color);\n",
              "    }\n",
              "    40% {\n",
              "      border-color: transparent;\n",
              "      border-right-color: var(--fill-color);\n",
              "      border-top-color: var(--fill-color);\n",
              "    }\n",
              "    60% {\n",
              "      border-color: transparent;\n",
              "      border-right-color: var(--fill-color);\n",
              "    }\n",
              "    80% {\n",
              "      border-color: transparent;\n",
              "      border-right-color: var(--fill-color);\n",
              "      border-bottom-color: var(--fill-color);\n",
              "    }\n",
              "    90% {\n",
              "      border-color: transparent;\n",
              "      border-bottom-color: var(--fill-color);\n",
              "    }\n",
              "  }\n",
              "</style>\n",
              "\n",
              "  <script>\n",
              "    async function quickchart(key) {\n",
              "      const quickchartButtonEl =\n",
              "        document.querySelector('#' + key + ' button');\n",
              "      quickchartButtonEl.disabled = true;  // To prevent multiple clicks.\n",
              "      quickchartButtonEl.classList.add('colab-df-spinner');\n",
              "      try {\n",
              "        const charts = await google.colab.kernel.invokeFunction(\n",
              "            'suggestCharts', [key], {});\n",
              "      } catch (error) {\n",
              "        console.error('Error during call to suggestCharts:', error);\n",
              "      }\n",
              "      quickchartButtonEl.classList.remove('colab-df-spinner');\n",
              "      quickchartButtonEl.classList.add('colab-df-quickchart-complete');\n",
              "    }\n",
              "    (() => {\n",
              "      let quickchartButtonEl =\n",
              "        document.querySelector('#df-69893c2a-7deb-4c5f-8858-afb88ac6d8e4 button');\n",
              "      quickchartButtonEl.style.display =\n",
              "        google.colab.kernel.accessAllowed ? 'block' : 'none';\n",
              "    })();\n",
              "  </script>\n",
              "</div>\n",
              "    </div>\n",
              "  </div>\n"
            ]
          },
          "metadata": {},
          "execution_count": 283
        }
      ]
    },
    {
      "cell_type": "code",
      "source": [
        "import networkx as nx\n",
        "import matplotlib.pyplot as plt\n",
        "\n",
        "G = nx.Graph()\n",
        "\n",
        "nth_row = 4\n",
        "row = pandas_df.iloc[nth_row]\n",
        "\n",
        "\n",
        "items = row['Items']\n",
        "predictions = row['prediction']\n",
        "\n",
        "\n",
        "for item in items:\n",
        "    for prediction in predictions:\n",
        "        G.add_edge(item, prediction)\n",
        "\n",
        "\n",
        "pos = nx.spring_layout(G, seed=42)\n",
        "nx.draw(G, pos, with_labels=True, node_size=5, font_size=10, font_color='green', node_color='lightblue')\n",
        "plt.title(f\"Product Associations (Row {nth_row})\")\n",
        "plt.show()\n"
      ],
      "metadata": {
        "id": "7VXPvmXOa50x",
        "colab": {
          "base_uri": "https://localhost:8080/",
          "height": 539
        },
        "outputId": "6cbda0c2-e94c-4bb7-e699-5f0d183e5df2"
      },
      "execution_count": null,
      "outputs": [
        {
          "output_type": "display_data",
          "data": {
            "text/plain": [
              "<Figure size 640x480 with 1 Axes>"
            ],
            "image/png": "[encoded data removed]"
          },
          "metadata": {}
        }
      ]
    },
    {
      "cell_type": "code",
      "source": [
        "import networkx as nx\n",
        "import matplotlib.pyplot as plt\n",
        "\n",
        "G = nx.Graph()\n",
        "\n",
        "nth_row = 6\n",
        "row = pandas_df.iloc[nth_row]\n",
        "\n",
        "\n",
        "items = row['Items']\n",
        "predictions = row['prediction']\n",
        "\n",
        "\n",
        "for item in items:\n",
        "    for prediction in predictions:\n",
        "        G.add_edge(item, prediction)\n",
        "\n",
        "\n",
        "pos = nx.spring_layout(G, seed=42)\n",
        "nx.draw(G, pos, with_labels=True, node_size=5, font_size=10, font_color='green', node_color='lightblue')\n",
        "plt.title(f\"Product Associations (Row {nth_row})\")\n",
        "plt.show()"
      ],
      "metadata": {
        "id": "7w9Oc6SWc32k",
        "colab": {
          "base_uri": "https://localhost:8080/",
          "height": 539
        },
        "outputId": "f1504c95-052a-4b43-ae02-86636f838908"
      },
      "execution_count": null,
      "outputs": [
        {
          "output_type": "display_data",
          "data": {
            "text/plain": [
              "<Figure size 640x480 with 1 Axes>"
            ],
            "image/png": "[encoded data removed]"
          },
          "metadata": {}
        }
      ]
    },
    {
      "cell_type": "code",
      "source": [
        "pandas_df.iloc[12,1:]"
      ],
      "metadata": {
        "id": "8M5LDhPGdbe2",
        "colab": {
          "base_uri": "https://localhost:8080/"
        },
        "outputId": "23b52f1e-7a49-4696-d2a2-6969dd2cd4cb"
      },
      "execution_count": null,
      "outputs": [
        {
          "output_type": "execute_result",
          "data": {
            "text/plain": [
              "Items         [HAND WARMER UNION JACK, HAND WARMER RED POLKA...\n",
              "prediction    [HAND WARMER OWL DESIGN, HAND WARMER SCOTTY DO...\n",
              "Name: 12, dtype: object"
            ]
          },
          "metadata": {},
          "execution_count": 286
        }
      ]
    },
    {
      "cell_type": "code",
      "source": [
        "import networkx as nx\n",
        "import matplotlib.pyplot as plt\n",
        "\n",
        "G = nx.Graph()\n",
        "\n",
        "nth_row = 12\n",
        "row = pandas_df.iloc[nth_row]\n",
        "\n",
        "\n",
        "items = row['Items']\n",
        "predictions = row['prediction']\n",
        "\n",
        "\n",
        "for item in items:\n",
        "    for prediction in predictions:\n",
        "        G.add_edge(item, prediction)\n",
        "\n",
        "\n",
        "pos = nx.spring_layout(G, seed=42)\n",
        "nx.draw(G, pos, with_labels=True, node_size=5, font_size=10, font_color='green', node_color='lightblue')\n",
        "plt.title(f\"Product Associations (Row {nth_row})\")\n",
        "plt.show()"
      ],
      "metadata": {
        "id": "C0_SccOrd8Xg",
        "colab": {
          "base_uri": "https://localhost:8080/",
          "height": 539
        },
        "outputId": "41cf774c-0be5-4e83-8fa7-70b72106389e"
      },
      "execution_count": null,
      "outputs": [
        {
          "output_type": "display_data",
          "data": {
            "text/plain": [
              "<Figure size 640x480 with 1 Axes>"
            ],
            "image/png": "[encoded data removed]"
          },
          "metadata": {}
        }
      ]
    },
    {
      "cell_type": "code",
      "source": [
        "rules.show()"
      ],
      "metadata": {
        "colab": {
          "base_uri": "https://localhost:8080/"
        },
        "id": "fBJnUdxwuhRy",
        "outputId": "61a48cf6-ed97-4173-b932-874417df213f"
      },
      "execution_count": null,
      "outputs": [
        {
          "output_type": "stream",
          "name": "stdout",
          "text": [
            "+--------------------+--------------------+-------------------+------------------+--------------------+\n",
            "|          antecedent|          consequent|         confidence|              lift|             support|\n",
            "+--------------------+--------------------+-------------------+------------------+--------------------+\n",
            "|[FELTCRAFT GIRL N...|[FELTCRAFT GIRL A...| 0.7529411764705882| 54.73144175317186|0.006905481225722...|\n",
            "|[JUMBO BAG ALPHAB...|[JUMBO BAG VINTAG...|0.47297297297297297|11.356252625682677|0.007552870090634...|\n",
            "|[JUMBO BAG ALPHAB...|[JUMBO STORAGE BA...| 0.4155405405405405| 9.951498009637543|0.006635735865343116|\n",
            "|[JUMBO BAG ALPHAB...|[JUMBO BAG PINK P...|0.46621621621621623| 9.921680578396996|0.007444971946482521|\n",
            "|[JUMBO BAG ALPHAB...|  [JUMBO BAG APPLES]| 0.4864864864864865|12.559211021606565|0.007768666378938282|\n",
            "|[SET OF 6 SNACK L...|[SET OF 6 TEA TIM...| 0.6683168316831684|38.833607498680905| 0.00728312473025464|\n",
            "|[SET OF 6 SNACK L...|[SET OF 12 MINI L...| 0.7425742574257426|38.340825726026644|0.008092360811394044|\n",
            "|[BLUE POLKADOT WRAP]|[RED RETROSPOT WR...| 0.5627906976744186|31.139965289829917|0.006527837721191195|\n",
            "|[BLUE POLKADOT WRAP]|[PINK POLKADOT WR...| 0.6093023255813953| 53.02360519707391|0.007067328441950798|\n",
            "|[BLUE SPOT CERAMI...|[BLUE STRIPE CERA...| 0.7635135135135135| 40.32047432047432|0.006096245144583513|\n",
            "|[BLUE SPOT CERAMI...|[RED STRIPE CERAM...| 0.7972972972972973| 44.38048859670481|0.006365990504963314|\n",
            "|[BLUE SPOT CERAMI...|[RED SPOT CERAMIC...| 0.8175675675675675| 54.31696212341373|0.006527837721191195|\n",
            "|[SET OF 6 SPICE T...|[JAM MAKING SET P...|0.18376722817764166| 3.924319517858025|0.006473888649115235|\n",
            "|[SET OF 6 SPICE T...|[RECIPE BOX PANTR...|0.22970903522205208|5.1423752136183065|0.008092360811394044|\n",
            "|[SET OF 6 SPICE T...|[JAM MAKING SET W...|0.24808575803981622| 5.231533118345886|0.008739749676305567|\n",
            "|[SET OF 6 SPICE T...|[SET OF 4 PANTRY ...|0.18529862174578868|3.9661607998613615|0.006527837721191195|\n",
            "|[SET OF 6 SPICE T...|[SET OF 3 CAKE TI...| 0.4563552833078101| 7.381327688825103|0.016076823478636166|\n",
            "|[REGENCY TEA PLAT...|[REGENCY TEA PLAT...|  0.957983193277311|  65.7673202614379|0.006150194216659474|\n",
            "|[RED FLORAL FELTC...|[PINK FLORAL FELT...|  0.556420233463035|44.842632380307904|0.007714717306862322|\n",
            "|[LUNCH BAG WOODLA...|[LUNCH BAG SUKI D...| 0.6173469387755102|12.728746225965358|0.006527837721191195|\n",
            "+--------------------+--------------------+-------------------+------------------+--------------------+\n",
            "only showing top 20 rows\n",
            "\n"
          ]
        }
      ]
    },
    {
      "cell_type": "markdown",
      "source": [
        "A lift value greater than 1 suggests a positive association, while a value less than 1 suggests a negative association."
      ],
      "metadata": {
        "id": "rBO1jDuD40V8"
      }
    },
    {
      "cell_type": "markdown",
      "source": [
        "LIFT: The lift value quantifies how much more likely the consequent is to be purchased when the antecedent is present, compared to when the consequent is purchased independently of the antecedent."
      ],
      "metadata": {
        "id": "kotwNW_95A9X"
      }
    },
    {
      "cell_type": "code",
      "source": [
        "min_lift = 1.5\n",
        "\n",
        "filtered_lift_rules = rules.filter(rules.lift >= min_lift)\n",
        "\n",
        "count = filtered_lift_rules.count()\n",
        "print(rules.count())\n",
        "print(\"Number of rules greater than the minimum lift: \", count)\n"
      ],
      "metadata": {
        "colab": {
          "base_uri": "https://localhost:8080/"
        },
        "id": "6aLG3kS74yJH",
        "outputId": "96e2c6be-705e-40e7-9514-611b47c7c2ca"
      },
      "execution_count": null,
      "outputs": [
        {
          "output_type": "stream",
          "name": "stdout",
          "text": [
            "3924\n",
            "Number of rules greater than the minimum lift:  3884\n"
          ]
        }
      ]
    },
    {
      "cell_type": "markdown",
      "source": [
        " Confidence - the probability that the a item will be purchased when the other is present.\n",
        "\n",
        " since confidence is probability confidence greater than 0.7 would be good"
      ],
      "metadata": {
        "id": "AjUYBDkQ7Y28"
      }
    },
    {
      "cell_type": "code",
      "source": [
        "min_confidence = 0.7\n",
        "\n",
        "filtered_confidence_rules = rules.filter(rules.confidence >= min_confidence)\n",
        "\n",
        "count = filtered_confidence_rules.count()\n",
        "print(rules.count())\n",
        "print(\"Number of rules greater than the minimum confidence: \", count)"
      ],
      "metadata": {
        "colab": {
          "base_uri": "https://localhost:8080/"
        },
        "id": "VRbdFoom66p0",
        "outputId": "318473b8-9857-4d52-9ae4-ae63ff8a7f72"
      },
      "execution_count": null,
      "outputs": [
        {
          "output_type": "stream",
          "name": "stdout",
          "text": [
            "3924\n",
            "Number of rules greater than the minimum confidence:  567\n"
          ]
        }
      ]
    },
    {
      "cell_type": "markdown",
      "source": [
        "support: The support count, which represents how frequently the association rule occurs in the dataset.\n",
        "\n",
        "Since data set is very large we can take the minimum support to 1%"
      ],
      "metadata": {
        "id": "ANjIRPAg8kQD"
      }
    },
    {
      "cell_type": "code",
      "source": [
        "min_support = 0.01\n",
        "\n",
        "filtered_support_rules = rules.filter(rules.support >= min_support)\n",
        "\n",
        "count = filtered_support_rules.count()\n",
        "print(rules.count())\n",
        "print(\"Number of filtered rules based on support:\", count)\n"
      ],
      "metadata": {
        "colab": {
          "base_uri": "https://localhost:8080/"
        },
        "id": "iXvnEskU8Qrd",
        "outputId": "b4344899-fd71-4405-c323-53beafcaa41d"
      },
      "execution_count": null,
      "outputs": [
        {
          "output_type": "stream",
          "name": "stdout",
          "text": [
            "3924\n",
            "Number of filtered rules based on support: 761\n"
          ]
        }
      ]
    },
    {
      "cell_type": "code",
      "source": [
        "spark.stop()"
      ],
      "metadata": {
        "id": "KaNiP1r2Hq-R"
      },
      "execution_count": null,
      "outputs": []
    },
    {
      "cell_type": "markdown",
      "source": [
        "#PIPELINE"
      ],
      "metadata": {
        "id": "1ZPuGjJa98W5"
      }
    },
    {
      "cell_type": "markdown",
      "source": [
        "LOAD DATA"
      ],
      "metadata": {
        "id": "ANe9YC2IAOWk"
      }
    },
    {
      "cell_type": "code",
      "source": [
        "from pyspark.ml import Pipeline\n",
        "from pyspark.ml.fpm import FPGrowth\n",
        "from pyspark.ml.feature import StringIndexer\n",
        "from pyspark.sql import functions as F\n",
        "from pyspark.sql.functions import desc\n",
        "from pyspark.sql import SparkSession\n",
        "spark = SparkSession.builder.appName(\"MarketBasketAnalysisPipeline\").getOrCreate()\n",
        "df_1 =  spark.read.csv(\"/content/C:/Users/jyoth/Downloads/BDA PROJ/local_output.csv\",header=True,inferSchema=True)\n",
        "df_1"
      ],
      "metadata": {
        "colab": {
          "base_uri": "https://localhost:8080/"
        },
        "id": "hkd9nFx99-AE",
        "outputId": "61576165-c6e5-4254-e615-060412ab691c"
      },
      "execution_count": null,
      "outputs": [
        {
          "output_type": "execute_result",
          "data": {
            "text/plain": [
              "DataFrame[transaction_id: int, product_id: string, product_name: string, quantity: int, transaction_date: date, price: double, customer_id: int, country: string]"
            ]
          },
          "metadata": {},
          "execution_count": 352
        }
      ]
    },
    {
      "cell_type": "markdown",
      "source": [
        "PRE PROCESS"
      ],
      "metadata": {
        "id": "UpOwBMedASmM"
      }
    },
    {
      "cell_type": "code",
      "source": [
        "basketdata = df_1.dropDuplicates(['transaction_id', 'product_name']).sort('transaction_id')\n",
        "basketdata = basketdata.groupBy(\"transaction_id\").agg(F.collect_list(\"product_name\")).sort('transaction_id')\n",
        "basketdata = basketdata.withColumnRenamed(\"collect_list(product_name)\", \"Items\")"
      ],
      "metadata": {
        "id": "ewXcTlJl_v1I"
      },
      "execution_count": null,
      "outputs": []
    },
    {
      "cell_type": "markdown",
      "source": [
        "FP GROWTH"
      ],
      "metadata": {
        "id": "Sw771ssCFsYG"
      }
    },
    {
      "cell_type": "code",
      "source": [
        "# Step 1: Define an FP-Growth model\n",
        "fpGrowth = FPGrowth(itemsCol=\"Items\", minSupport=0.006, minConfidence=0.006)"
      ],
      "metadata": {
        "id": "EW53nfYjCZ4q"
      },
      "execution_count": null,
      "outputs": []
    },
    {
      "cell_type": "code",
      "source": [
        "# Step 2: Create a pipeline\n",
        "pipeline = Pipeline(stages=[fpGrowth])"
      ],
      "metadata": {
        "id": "G2OKhMaFDckd"
      },
      "execution_count": null,
      "outputs": []
    },
    {
      "cell_type": "code",
      "source": [
        "# Step 3: Fit the pipeline to your data\n",
        "model = pipeline.fit(basketdata)"
      ],
      "metadata": {
        "id": "OztTpn3THQmD"
      },
      "execution_count": null,
      "outputs": []
    },
    {
      "cell_type": "code",
      "source": [
        "# Step 4: Get the transformed data\n",
        "transformed = model.transform(basketdata)\n",
        "\n",
        "# Step 5: Display results\n",
        "transformed.show()"
      ],
      "metadata": {
        "colab": {
          "base_uri": "https://localhost:8080/"
        },
        "id": "7rx6_CpkDolV",
        "outputId": "0cd427ba-855c-4a5b-85dc-93d8548ae585"
      },
      "execution_count": null,
      "outputs": [
        {
          "output_type": "stream",
          "name": "stdout",
          "text": [
            "+--------------+--------------------+--------------------+\n",
            "|transaction_id|               Items|          prediction|\n",
            "+--------------+--------------------+--------------------+\n",
            "|        536365|[SET 7 BABUSHKA N...|[LARGE WHITE HEAR...|\n",
            "|        536366|[HAND WARMER UNIO...|[HAND WARMER OWL ...|\n",
            "|        536367|[ASSORTED COLOUR ...|[DOORMAT ENGLISH ...|\n",
            "|        536368|[BLUE COAT RACK P...|[HOMEMADE JAM SCE...|\n",
            "|        536369|[BATH BUILDING BL...|[HOME BUILDING BL...|\n",
            "|        536370|[ROUND SNACK BOXE...|[ALARM CLOCK BAKE...|\n",
            "|        536371|[PAPER CHAIN KIT ...|[HAND WARMER OWL ...|\n",
            "|        536372|[HAND WARMER UNIO...|[HAND WARMER OWL ...|\n",
            "|        536373|[WOODEN FRAME ANT...|[WOOD BLACK BOARD...|\n",
            "|        536374|[VICTORIAN SEWING...|                  []|\n",
            "|        536375|[WOODEN PICTURE F...|[WOOD BLACK BOARD...|\n",
            "|        536376|[HOT WATER BOTTLE...|[CANDLEHOLDER PIN...|\n",
            "|        536377|[HAND WARMER UNIO...|[HAND WARMER OWL ...|\n",
            "|        536378|[PACK OF 60 DINOS...|[GINGERBREAD MAN ...|\n",
            "|        536380|[JAM MAKING SET P...|[REGENCY CAKESTAN...|\n",
            "|        536381|[GUMBALL MONOCHRO...|[RABBIT NIGHT LIG...|\n",
            "|        536382|[ANTIQUE GLASS DR...|[ALARM CLOCK BAKE...|\n",
            "|        536384|[ENAMEL FLOWER JU...|[WOODEN PICTURE F...|\n",
            "|        536385|[TRADITIONAL CHRI...|[HOMEMADE JAM SCE...|\n",
            "|        536386|[JUMBO BAG RED RE...|[JUMBO SHOPPER VI...|\n",
            "+--------------+--------------------+--------------------+\n",
            "only showing top 20 rows\n",
            "\n"
          ]
        }
      ]
    },
    {
      "cell_type": "code",
      "source": [
        "# Display frequent itemsets\n",
        "model.stages[0].freqItemsets.show()"
      ],
      "metadata": {
        "colab": {
          "base_uri": "https://localhost:8080/"
        },
        "id": "k6S0PMph_wQb",
        "outputId": "93497d19-a986-4096-f9f7-d9a06a467607"
      },
      "execution_count": null,
      "outputs": [
        {
          "output_type": "stream",
          "name": "stdout",
          "text": [
            "+--------------------+----+\n",
            "|               items|freq|\n",
            "+--------------------+----+\n",
            "|[12 COLOURED PART...| 139|\n",
            "|[TRAVEL CARD WALL...| 205|\n",
            "|[TRAVEL CARD WALL...| 119|\n",
            "|[JUMBO BAG SCANDI...| 451|\n",
            "|[JUMBO BAG SCANDI...| 112|\n",
            "|[JUMBO BAG SCANDI...| 124|\n",
            "|[JUMBO BAG SCANDI...| 128|\n",
            "|[JUMBO BAG SCANDI...| 134|\n",
            "|[JUMBO BAG SCANDI...| 122|\n",
            "|[JUMBO BAG SCANDI...| 268|\n",
            "|[JUMBO BAG SCANDI...| 134|\n",
            "|[JUMBO BAG SCANDI...| 241|\n",
            "|[JUMBO BAG SCANDI...| 159|\n",
            "|[JUMBO BAG SCANDI...| 125|\n",
            "|[JUMBO BAG SCANDI...| 126|\n",
            "|[JUMBO BAG SCANDI...| 198|\n",
            "|[JUMBO BAG SCANDI...| 143|\n",
            "|[JUMBO BAG SCANDI...| 151|\n",
            "|[JUMBO BAG SCANDI...| 113|\n",
            "|[JUMBO BAG SCANDI...| 155|\n",
            "+--------------------+----+\n",
            "only showing top 20 rows\n",
            "\n"
          ]
        }
      ]
    },
    {
      "cell_type": "code",
      "source": [
        "sorted_data = model.stages[0].freqItemsets.sort(desc(\"freq\"))\n",
        "sorted_data.show()"
      ],
      "metadata": {
        "colab": {
          "base_uri": "https://localhost:8080/"
        },
        "id": "meu8gssS_wmB",
        "outputId": "cb6e807c-ce2b-46d3-c5d5-dff5736bc222"
      },
      "execution_count": null,
      "outputs": [
        {
          "output_type": "stream",
          "name": "stdout",
          "text": [
            "+--------------------+----+\n",
            "|               items|freq|\n",
            "+--------------------+----+\n",
            "|[WHITE HANGING HE...|1971|\n",
            "|[REGENCY CAKESTAN...|1704|\n",
            "|[JUMBO BAG RED RE...|1600|\n",
            "|     [PARTY BUNTING]|1380|\n",
            "|[ASSORTED COLOUR ...|1375|\n",
            "|[LUNCH BAG RED RE...|1288|\n",
            "|[SET OF 3 CAKE TI...|1146|\n",
            "|           [POSTAGE]|1100|\n",
            "|[LUNCH BAG  BLACK...|1052|\n",
            "|[PACK OF 72 RETRO...|1029|\n",
            "|    [SPOTTY BUNTING]|1003|\n",
            "|[LUNCH BAG SPACEB...| 988|\n",
            "|[PAPER CHAIN KIT ...| 980|\n",
            "|[NATURAL SLATE HE...| 967|\n",
            "|[LUNCH BAG CARS B...| 966|\n",
            "|[HEART OF WICKER ...| 961|\n",
            "|[LUNCH BAG PINK P...| 931|\n",
            "|[LUNCH BAG SUKI D...| 899|\n",
            "|[JAM MAKING SET W...| 879|\n",
            "|[ALARM CLOCK BAKE...| 877|\n",
            "+--------------------+----+\n",
            "only showing top 20 rows\n",
            "\n"
          ]
        }
      ]
    },
    {
      "cell_type": "markdown",
      "source": [
        "Display association rules"
      ],
      "metadata": {
        "id": "fiCujyDoF04H"
      }
    },
    {
      "cell_type": "code",
      "source": [
        "model.stages[0].associationRules.show()"
      ],
      "metadata": {
        "colab": {
          "base_uri": "https://localhost:8080/"
        },
        "id": "IToTcX4A_w7I",
        "outputId": "3e87f1c2-5860-441d-99b9-9f4064b30763"
      },
      "execution_count": null,
      "outputs": [
        {
          "output_type": "stream",
          "name": "stdout",
          "text": [
            "+--------------------+--------------------+-------------------+------------------+--------------------+\n",
            "|          antecedent|          consequent|         confidence|              lift|             support|\n",
            "+--------------------+--------------------+-------------------+------------------+--------------------+\n",
            "|[FELTCRAFT GIRL N...|[FELTCRAFT GIRL A...| 0.7529411764705882| 54.73144175317186|0.006905481225722...|\n",
            "|[JUMBO BAG ALPHAB...|[JUMBO BAG VINTAG...|0.47297297297297297|11.356252625682677|0.007552870090634...|\n",
            "|[JUMBO BAG ALPHAB...|[JUMBO STORAGE BA...| 0.4155405405405405| 9.951498009637543|0.006635735865343116|\n",
            "|[JUMBO BAG ALPHAB...|[JUMBO BAG PINK P...|0.46621621621621623| 9.921680578396996|0.007444971946482521|\n",
            "|[JUMBO BAG ALPHAB...|  [JUMBO BAG APPLES]| 0.4864864864864865|12.559211021606565|0.007768666378938282|\n",
            "|[SET OF 6 SNACK L...|[SET OF 6 TEA TIM...| 0.6683168316831684|38.833607498680905| 0.00728312473025464|\n",
            "|[SET OF 6 SNACK L...|[SET OF 12 MINI L...| 0.7425742574257426|38.340825726026644|0.008092360811394044|\n",
            "|[BLUE POLKADOT WRAP]|[RED RETROSPOT WR...| 0.5627906976744186|31.139965289829917|0.006527837721191195|\n",
            "|[BLUE POLKADOT WRAP]|[PINK POLKADOT WR...| 0.6093023255813953| 53.02360519707391|0.007067328441950798|\n",
            "|[BLUE SPOT CERAMI...|[BLUE STRIPE CERA...| 0.7635135135135135| 40.32047432047432|0.006096245144583513|\n",
            "|[BLUE SPOT CERAMI...|[RED STRIPE CERAM...| 0.7972972972972973| 44.38048859670481|0.006365990504963314|\n",
            "|[BLUE SPOT CERAMI...|[RED SPOT CERAMIC...| 0.8175675675675675| 54.31696212341373|0.006527837721191195|\n",
            "|[SET OF 6 SPICE T...|[JAM MAKING SET P...|0.18376722817764166| 3.924319517858025|0.006473888649115235|\n",
            "|[SET OF 6 SPICE T...|[RECIPE BOX PANTR...|0.22970903522205208|5.1423752136183065|0.008092360811394044|\n",
            "|[SET OF 6 SPICE T...|[JAM MAKING SET W...|0.24808575803981622| 5.231533118345886|0.008739749676305567|\n",
            "|[SET OF 6 SPICE T...|[SET OF 4 PANTRY ...|0.18529862174578868|3.9661607998613615|0.006527837721191195|\n",
            "|[SET OF 6 SPICE T...|[SET OF 3 CAKE TI...| 0.4563552833078101| 7.381327688825103|0.016076823478636166|\n",
            "|[REGENCY TEA PLAT...|[REGENCY TEA PLAT...|  0.957983193277311|  65.7673202614379|0.006150194216659474|\n",
            "|[RED FLORAL FELTC...|[PINK FLORAL FELT...|  0.556420233463035|44.842632380307904|0.007714717306862322|\n",
            "|[LUNCH BAG WOODLA...|[LUNCH BAG SUKI D...| 0.6173469387755102|12.728746225965358|0.006527837721191195|\n",
            "+--------------------+--------------------+-------------------+------------------+--------------------+\n",
            "only showing top 20 rows\n",
            "\n"
          ]
        }
      ]
    },
    {
      "cell_type": "markdown",
      "source": [
        "#HYPERPARAMETER TUNING"
      ],
      "metadata": {
        "id": "m8v9jtMIODf4"
      }
    },
    {
      "cell_type": "markdown",
      "source": [
        "#1"
      ],
      "metadata": {
        "id": "mG2Uc2PrOxwW"
      }
    },
    {
      "cell_type": "code",
      "source": [
        "import pandas as pd\n",
        "from pyspark.sql import SparkSession\n",
        "spark = SparkSession.builder.appName(\"MarketBasketAnalysis1\").getOrCreate()\n",
        "df_1 =  spark.read.csv(\"/content/C:/Users/jyoth/Downloads/BDA PROJ/local_output.csv\",header=True,inferSchema=True)\n",
        "df_1"
      ],
      "metadata": {
        "colab": {
          "base_uri": "https://localhost:8080/"
        },
        "id": "M3GGq5IROIOT",
        "outputId": "ea7965bd-ef80-4080-a801-30f4816140d8"
      },
      "execution_count": null,
      "outputs": [
        {
          "output_type": "execute_result",
          "data": {
            "text/plain": [
              "DataFrame[transaction_id: int, product_id: string, product_name: string, quantity: int, transaction_date: date, price: double, customer_id: int, country: string]"
            ]
          },
          "metadata": {},
          "execution_count": 9
        }
      ]
    },
    {
      "cell_type": "code",
      "source": [
        "from pyspark.ml.fpm import FPGrowth\n",
        "from pyspark.ml.feature import StringIndexer\n",
        "from pyspark.sql import functions as F"
      ],
      "metadata": {
        "id": "KeQumBh1PZR9"
      },
      "execution_count": null,
      "outputs": []
    },
    {
      "cell_type": "code",
      "source": [
        "basketdata = df_1.dropDuplicates(['transaction_id','product_name']).sort('transaction_id')\n",
        "original_data=basketdata\n",
        "basketdata.show()\n",
        "print((basketdata.count(), len(basketdata.columns)))"
      ],
      "metadata": {
        "colab": {
          "base_uri": "https://localhost:8080/"
        },
        "outputId": "7ef27ca9-f128-4214-93bf-d3d070065596",
        "id": "SytAfiN0PZR-"
      },
      "execution_count": null,
      "outputs": [
        {
          "output_type": "stream",
          "name": "stdout",
          "text": [
            "+--------------+----------+--------------------+--------+----------------+-----+-----------+--------------+\n",
            "|transaction_id|product_id|        product_name|quantity|transaction_date|price|customer_id|       country|\n",
            "+--------------+----------+--------------------+--------+----------------+-----+-----------+--------------+\n",
            "|        536365|    84406B|CREAM CUPID HEART...|       8|      2010-12-01| 2.75|      17850|United Kingdom|\n",
            "|        536365|     21730|GLASS STAR FROSTE...|       6|      2010-12-01| 4.25|      17850|United Kingdom|\n",
            "|        536365|    84029G|KNITTED UNION FLA...|       6|      2010-12-01| 3.39|      17850|United Kingdom|\n",
            "|        536365|    85123A|WHITE HANGING HEA...|       6|      2010-12-01| 2.55|      17850|United Kingdom|\n",
            "|        536365|    84029E|RED WOOLLY HOTTIE...|       6|      2010-12-01| 3.39|      17850|United Kingdom|\n",
            "|        536365|     22752|SET 7 BABUSHKA NE...|       2|      2010-12-01| 7.65|      17850|United Kingdom|\n",
            "|        536365|     71053| WHITE METAL LANTERN|       6|      2010-12-01| 3.39|      17850|United Kingdom|\n",
            "|        536366|     22632|HAND WARMER RED P...|       6|      2010-12-01| 1.85|      17850|United Kingdom|\n",
            "|        536366|     22633|HAND WARMER UNION...|       6|      2010-12-01| 1.85|      17850|United Kingdom|\n",
            "|        536367|     84969|BOX OF 6 ASSORTED...|       6|      2010-12-01| 4.25|      13047|United Kingdom|\n",
            "|        536367|     84879|ASSORTED COLOUR B...|      32|      2010-12-01| 1.69|      13047|United Kingdom|\n",
            "|        536367|     22622|BOX OF VINTAGE AL...|       2|      2010-12-01| 9.95|      13047|United Kingdom|\n",
            "|        536367|     22623|BOX OF VINTAGE JI...|       3|      2010-12-01| 4.95|      13047|United Kingdom|\n",
            "|        536367|     48187| DOORMAT NEW ENGLAND|       4|      2010-12-01| 7.95|      13047|United Kingdom|\n",
            "|        536367|     21754|HOME BUILDING BLO...|       3|      2010-12-01| 5.95|      13047|United Kingdom|\n",
            "|        536367|     22749|FELTCRAFT PRINCES...|       8|      2010-12-01| 3.75|      13047|United Kingdom|\n",
            "|        536367|     22310|IVORY KNITTED MUG...|       6|      2010-12-01| 1.65|      13047|United Kingdom|\n",
            "|        536367|     21777|RECIPE BOX WITH M...|       4|      2010-12-01| 7.95|      13047|United Kingdom|\n",
            "|        536367|     21755|LOVE BUILDING BLO...|       3|      2010-12-01| 5.95|      13047|United Kingdom|\n",
            "|        536367|     22745|POPPY'S PLAYHOUSE...|       6|      2010-12-01|  2.1|      13047|United Kingdom|\n",
            "+--------------+----------+--------------------+--------+----------------+-----+-----------+--------------+\n",
            "only showing top 20 rows\n",
            "\n",
            "(387773, 8)\n"
          ]
        }
      ]
    },
    {
      "cell_type": "code",
      "source": [
        "basketdata = basketdata.groupBy(\"transaction_id\").agg(F.collect_list(\"product_name\")).sort('transaction_id')\n",
        "basketdata.show()"
      ],
      "metadata": {
        "colab": {
          "base_uri": "https://localhost:8080/"
        },
        "outputId": "31cc3987-32d8-41b8-dafa-fe14c6033e9b",
        "id": "lcfdd7HBPZR-"
      },
      "execution_count": null,
      "outputs": [
        {
          "output_type": "stream",
          "name": "stdout",
          "text": [
            "+--------------+--------------------------+\n",
            "|transaction_id|collect_list(product_name)|\n",
            "+--------------+--------------------------+\n",
            "|        536365|      [SET 7 BABUSHKA N...|\n",
            "|        536366|      [HAND WARMER UNIO...|\n",
            "|        536367|      [ASSORTED COLOUR ...|\n",
            "|        536368|      [BLUE COAT RACK P...|\n",
            "|        536369|      [BATH BUILDING BL...|\n",
            "|        536370|      [ROUND SNACK BOXE...|\n",
            "|        536371|      [PAPER CHAIN KIT ...|\n",
            "|        536372|      [HAND WARMER UNIO...|\n",
            "|        536373|      [WOODEN FRAME ANT...|\n",
            "|        536374|      [VICTORIAN SEWING...|\n",
            "|        536375|      [WOODEN PICTURE F...|\n",
            "|        536376|      [HOT WATER BOTTLE...|\n",
            "|        536377|      [HAND WARMER UNIO...|\n",
            "|        536378|      [PACK OF 60 DINOS...|\n",
            "|        536380|      [JAM MAKING SET P...|\n",
            "|        536381|      [GUMBALL MONOCHRO...|\n",
            "|        536382|      [ANTIQUE GLASS DR...|\n",
            "|        536384|      [ENAMEL FLOWER JU...|\n",
            "|        536385|      [TRADITIONAL CHRI...|\n",
            "|        536386|      [JUMBO BAG RED RE...|\n",
            "+--------------+--------------------------+\n",
            "only showing top 20 rows\n",
            "\n"
          ]
        }
      ]
    },
    {
      "cell_type": "code",
      "source": [
        "basketdata = basketdata.withColumnRenamed(\"collect_list(product_name)\",\"Items\")\n",
        "basketdata.show()"
      ],
      "metadata": {
        "colab": {
          "base_uri": "https://localhost:8080/"
        },
        "outputId": "59036a38-be65-4ec8-94a6-67c288214c11",
        "id": "8kL_mePMPZR_"
      },
      "execution_count": null,
      "outputs": [
        {
          "output_type": "stream",
          "name": "stdout",
          "text": [
            "+--------------+--------------------+\n",
            "|transaction_id|               Items|\n",
            "+--------------+--------------------+\n",
            "|        536365|[SET 7 BABUSHKA N...|\n",
            "|        536366|[HAND WARMER UNIO...|\n",
            "|        536367|[ASSORTED COLOUR ...|\n",
            "|        536368|[BLUE COAT RACK P...|\n",
            "|        536369|[BATH BUILDING BL...|\n",
            "|        536370|[ROUND SNACK BOXE...|\n",
            "|        536371|[PAPER CHAIN KIT ...|\n",
            "|        536372|[HAND WARMER UNIO...|\n",
            "|        536373|[WOODEN FRAME ANT...|\n",
            "|        536374|[VICTORIAN SEWING...|\n",
            "|        536375|[WOODEN PICTURE F...|\n",
            "|        536376|[HOT WATER BOTTLE...|\n",
            "|        536377|[HAND WARMER UNIO...|\n",
            "|        536378|[PACK OF 60 DINOS...|\n",
            "|        536380|[JAM MAKING SET P...|\n",
            "|        536381|[GUMBALL MONOCHRO...|\n",
            "|        536382|[ANTIQUE GLASS DR...|\n",
            "|        536384|[ENAMEL FLOWER JU...|\n",
            "|        536385|[TRADITIONAL CHRI...|\n",
            "|        536386|[JUMBO BAG RED RE...|\n",
            "+--------------+--------------------+\n",
            "only showing top 20 rows\n",
            "\n"
          ]
        }
      ]
    },
    {
      "cell_type": "code",
      "source": [
        "fpGrowth = FPGrowth(itemsCol=\"Items\", minSupport=0.008, minConfidence=0.01)\n",
        "model = fpGrowth.fit(basketdata)"
      ],
      "metadata": {
        "id": "1MthlWFGPZR_"
      },
      "execution_count": null,
      "outputs": []
    },
    {
      "cell_type": "code",
      "source": [
        "model.freqItemsets.show()"
      ],
      "metadata": {
        "colab": {
          "base_uri": "https://localhost:8080/"
        },
        "outputId": "b770fa09-fa4a-4520-b3e8-991e1df14cb1",
        "id": "OLplfVx2PZR_"
      },
      "execution_count": null,
      "outputs": [
        {
          "output_type": "stream",
          "name": "stdout",
          "text": [
            "+--------------------+----+\n",
            "|               items|freq|\n",
            "+--------------------+----+\n",
            "|[JUMBO BAG SCANDI...| 451|\n",
            "|[JUMBO BAG SCANDI...| 268|\n",
            "|[JUMBO BAG SCANDI...| 241|\n",
            "|[JUMBO BAG SCANDI...| 159|\n",
            "|[JUMBO BAG SCANDI...| 198|\n",
            "|[JUMBO BAG SCANDI...| 151|\n",
            "|[JUMBO BAG SCANDI...| 155|\n",
            "|[JUMBO BAG SCANDI...| 190|\n",
            "|[JUMBO BAG SCANDI...| 153|\n",
            "|[TRAVEL CARD WALL...| 205|\n",
            "|[ALARM CLOCK BAKE...| 359|\n",
            "|[ALARM CLOCK BAKE...| 220|\n",
            "|[ALARM CLOCK BAKE...| 163|\n",
            "|[ALARM CLOCK BAKE...| 180|\n",
            "|[ALARM CLOCK BAKE...| 246|\n",
            "|[SPACEBOY MINI BA...| 201|\n",
            "|[BIRD HOUSE HOT W...| 154|\n",
            "|[GINGERBREAD MAN ...| 554|\n",
            "|[10 COLOUR SPACEB...| 242|\n",
            "|[AREA PATROLLED M...| 374|\n",
            "+--------------------+----+\n",
            "only showing top 20 rows\n",
            "\n"
          ]
        }
      ]
    },
    {
      "cell_type": "code",
      "source": [
        "from pyspark.sql.functions import desc\n",
        "\n",
        "sorted_data = model.freqItemsets.sort(desc(\"freq\"))\n",
        "sorted_data.show()"
      ],
      "metadata": {
        "colab": {
          "base_uri": "https://localhost:8080/"
        },
        "outputId": "6a03ce33-6290-434c-d26e-ea6546d49cca",
        "id": "vxNYr1yBPZR_"
      },
      "execution_count": null,
      "outputs": [
        {
          "output_type": "stream",
          "name": "stdout",
          "text": [
            "+--------------------+----+\n",
            "|               items|freq|\n",
            "+--------------------+----+\n",
            "|[WHITE HANGING HE...|1971|\n",
            "|[REGENCY CAKESTAN...|1704|\n",
            "|[JUMBO BAG RED RE...|1600|\n",
            "|     [PARTY BUNTING]|1380|\n",
            "|[ASSORTED COLOUR ...|1375|\n",
            "|[LUNCH BAG RED RE...|1288|\n",
            "|[SET OF 3 CAKE TI...|1146|\n",
            "|           [POSTAGE]|1100|\n",
            "|[LUNCH BAG  BLACK...|1052|\n",
            "|[PACK OF 72 RETRO...|1029|\n",
            "|    [SPOTTY BUNTING]|1003|\n",
            "|[LUNCH BAG SPACEB...| 988|\n",
            "|[PAPER CHAIN KIT ...| 980|\n",
            "|[NATURAL SLATE HE...| 967|\n",
            "|[LUNCH BAG CARS B...| 966|\n",
            "|[HEART OF WICKER ...| 961|\n",
            "|[LUNCH BAG PINK P...| 931|\n",
            "|[LUNCH BAG SUKI D...| 899|\n",
            "|[JAM MAKING SET W...| 879|\n",
            "|[ALARM CLOCK BAKE...| 877|\n",
            "+--------------------+----+\n",
            "only showing top 20 rows\n",
            "\n"
          ]
        }
      ]
    },
    {
      "cell_type": "code",
      "source": [
        "model.associationRules.show()"
      ],
      "metadata": {
        "colab": {
          "base_uri": "https://localhost:8080/"
        },
        "outputId": "4d299ce9-bf74-4198-8589-59f7a2482f26",
        "id": "2LaR7bOgPZR_"
      },
      "execution_count": null,
      "outputs": [
        {
          "output_type": "stream",
          "name": "stdout",
          "text": [
            "+--------------------+--------------------+-------------------+------------------+--------------------+\n",
            "|          antecedent|          consequent|         confidence|              lift|             support|\n",
            "+--------------------+--------------------+-------------------+------------------+--------------------+\n",
            "|[SET OF 6 SNACK L...|[SET OF 12 MINI L...| 0.7425742574257426|38.340825726026644|0.008092360811394044|\n",
            "|[SET OF 6 SPICE T...|[RECIPE BOX PANTR...|0.22970903522205208|5.1423752136183065|0.008092360811394044|\n",
            "|[SET OF 6 SPICE T...|[JAM MAKING SET W...|0.24808575803981622| 5.231533118345886|0.008739749676305567|\n",
            "|[SET OF 6 SPICE T...|[SET OF 3 CAKE TI...| 0.4563552833078101| 7.381327688825103|0.016076823478636166|\n",
            "|[LUNCH BAG APPLE ...|[LUNCH BAG VINTAG...|           0.471875| 14.65104690117253|0.008146309883470005|\n",
            "|[LUNCH BAG APPLE ...|[LUNCH BAG SUKI D...|            0.63125|13.015406006674082| 0.01089771255934398|\n",
            "|[LUNCH BAG APPLE ...|[LUNCH BAG RED RE...|             0.6375|  9.17445652173913|  0.0110056107034959|\n",
            "|[LUNCH BAG APPLE ...|[LUNCH BAG SPACEB...|               0.55|10.318623481781376|0.009495036685369012|\n",
            "|[LUNCH BAG APPLE ...|[LUNCH BAG CARS B...|           0.534375|10.253804347826087|0.009225291324989211|\n",
            "|[LUNCH BAG APPLE ...|[LUNCH BAG PINK P...|            0.53125|10.577067669172934| 0.00917134225291325|\n",
            "|[LUNCH BAG APPLE ...|[LUNCH BAG WOODLAND]|           0.528125|11.938201219512194| 0.00911739318083729|\n",
            "|[LUNCH BAG PINK P...|[LUNCH BAG ALPHAB...| 0.2944550669216061| 8.435887357741718|0.008308157099697885|\n",
            "|[LUNCH BAG PINK P...|[LUNCH BAG  BLACK...| 0.5889101338432122| 10.37646220619561| 0.01661631419939577|\n",
            "|[LUNCH BAG PINK P...|[LUNCH BAG SPACEB...|0.47992351816443596| 9.003909243619418|0.013541217091066034|\n",
            "|[LUNCH BAG PINK P...|[JUMBO BAG RED RE...| 0.3575525812619503| 4.142246653919694|0.010088476478204576|\n",
            "|[LUNCH BAG PINK P...|[LUNCH BAG CARS B...| 0.5334608030592735|10.236262365948956|0.015051791109192922|\n",
            "|[LUNCH BAG PINK P...|[LUNCH BAG APPLE ...|0.37093690248565964| 7.939591714173426|0.010466119982736296|\n",
            "|[LUNCH BAG PINK P...|[LUNCH BAG SUKI D...| 0.4818355640535373| 9.934709694434224|0.013595166163141994|\n",
            "|[LUNCH BAG PINK P...|[LUNCH BAG WOODLAND]|0.45315487571701724|10.243510702793452| 0.01278593008200259|\n",
            "|[LUNCH BAG PINK P...|[JUMBO BAG PINK P...| 0.3078393881453155| 6.551218023721662|0.008685800604229608|\n",
            "+--------------------+--------------------+-------------------+------------------+--------------------+\n",
            "only showing top 20 rows\n",
            "\n"
          ]
        }
      ]
    },
    {
      "cell_type": "markdown",
      "source": [
        "Association rules describe relationships between items and can be used to understand how frequently items are purchased together and the strength of those associations."
      ],
      "metadata": {
        "id": "HKwMzSuKPZR_"
      }
    },
    {
      "cell_type": "markdown",
      "source": [
        "1. antecedent: which are the items typically found together before a purchase.\n",
        "\n",
        "2. consequent: which are the items that are likely to be purchased if the antecedent items are present.\n",
        "\n",
        "3. confidence: This is the confidence value, which indicates the probability that the consequent will be purchased when the antecedent is present.\n",
        "\n",
        "4. lift: The lift value quantifies how much more likely the consequent is to be purchased when the antecedent is present, compared to when the consequent is purchased independently of the antecedent. A lift value greater than 1 indicates a positive association.\n",
        "\n",
        "5. support: The support count, which represents how frequently the association rule occurs in the dataset."
      ],
      "metadata": {
        "id": "8jdyPkaCPZR_"
      }
    },
    {
      "cell_type": "code",
      "source": [
        "rules = model.associationRules\n",
        "model.transform(basketdata).show()"
      ],
      "metadata": {
        "colab": {
          "base_uri": "https://localhost:8080/"
        },
        "outputId": "6b1200ef-4347-41e0-9731-1eea7194a557",
        "id": "gdM75dijPZSA"
      },
      "execution_count": null,
      "outputs": [
        {
          "output_type": "stream",
          "name": "stdout",
          "text": [
            "+--------------+--------------------+--------------------+\n",
            "|transaction_id|               Items|          prediction|\n",
            "+--------------+--------------------+--------------------+\n",
            "|        536365|[SET 7 BABUSHKA N...|[LARGE WHITE HEAR...|\n",
            "|        536366|[HAND WARMER UNIO...|[HAND WARMER OWL ...|\n",
            "|        536367|[ASSORTED COLOUR ...|[WHITE HANGING HE...|\n",
            "|        536368|[BLUE COAT RACK P...|[JAM MAKING SET P...|\n",
            "|        536369|[BATH BUILDING BL...|                  []|\n",
            "|        536370|[ROUND SNACK BOXE...|[ALARM CLOCK BAKE...|\n",
            "|        536371|[PAPER CHAIN KIT ...|[JUMBO BAG 50'S C...|\n",
            "|        536372|[HAND WARMER UNIO...|[HAND WARMER OWL ...|\n",
            "|        536373|[WOODEN FRAME ANT...|[LARGE WHITE HEAR...|\n",
            "|        536374|[VICTORIAN SEWING...|                  []|\n",
            "|        536375|[WOODEN PICTURE F...|[LARGE WHITE HEAR...|\n",
            "|        536376|[HOT WATER BOTTLE...|[CANDLEHOLDER PIN...|\n",
            "|        536377|[HAND WARMER UNIO...|[HAND WARMER OWL ...|\n",
            "|        536378|[PACK OF 60 DINOS...|[SET OF 60 PANTRY...|\n",
            "|        536380|[JAM MAKING SET P...|[REGENCY CAKESTAN...|\n",
            "|        536381|[GUMBALL MONOCHRO...|[NO SINGING METAL...|\n",
            "|        536382|[ANTIQUE GLASS DR...|[ALARM CLOCK BAKE...|\n",
            "|        536384|[ENAMEL FLOWER JU...|[WOODEN PICTURE F...|\n",
            "|        536385|[TRADITIONAL CHRI...|[REGENCY CAKESTAN...|\n",
            "|        536386|[JUMBO BAG RED RE...|[JUMBO SHOPPER VI...|\n",
            "+--------------+--------------------+--------------------+\n",
            "only showing top 20 rows\n",
            "\n"
          ]
        }
      ]
    },
    {
      "cell_type": "code",
      "source": [
        "transformed = model.transform(basketdata)\n",
        "transformed.show()"
      ],
      "metadata": {
        "colab": {
          "base_uri": "https://localhost:8080/"
        },
        "outputId": "bb54edab-4768-44be-8f59-f5773747a434",
        "id": "19V5JwC7PZSA"
      },
      "execution_count": null,
      "outputs": [
        {
          "output_type": "stream",
          "name": "stdout",
          "text": [
            "+--------------+--------------------+--------------------+\n",
            "|transaction_id|               Items|          prediction|\n",
            "+--------------+--------------------+--------------------+\n",
            "|        536365|[SET 7 BABUSHKA N...|[LARGE WHITE HEAR...|\n",
            "|        536366|[HAND WARMER UNIO...|[HAND WARMER OWL ...|\n",
            "|        536367|[ASSORTED COLOUR ...|[WHITE HANGING HE...|\n",
            "|        536368|[BLUE COAT RACK P...|[JAM MAKING SET P...|\n",
            "|        536369|[BATH BUILDING BL...|                  []|\n",
            "|        536370|[ROUND SNACK BOXE...|[ALARM CLOCK BAKE...|\n",
            "|        536371|[PAPER CHAIN KIT ...|[JUMBO BAG 50'S C...|\n",
            "|        536372|[HAND WARMER UNIO...|[HAND WARMER OWL ...|\n",
            "|        536373|[WOODEN FRAME ANT...|[LARGE WHITE HEAR...|\n",
            "|        536374|[VICTORIAN SEWING...|                  []|\n",
            "|        536375|[WOODEN PICTURE F...|[LARGE WHITE HEAR...|\n",
            "|        536376|[HOT WATER BOTTLE...|[CANDLEHOLDER PIN...|\n",
            "|        536377|[HAND WARMER UNIO...|[HAND WARMER OWL ...|\n",
            "|        536378|[PACK OF 60 DINOS...|[SET OF 60 PANTRY...|\n",
            "|        536380|[JAM MAKING SET P...|[REGENCY CAKESTAN...|\n",
            "|        536381|[GUMBALL MONOCHRO...|[NO SINGING METAL...|\n",
            "|        536382|[ANTIQUE GLASS DR...|[ALARM CLOCK BAKE...|\n",
            "|        536384|[ENAMEL FLOWER JU...|[WOODEN PICTURE F...|\n",
            "|        536385|[TRADITIONAL CHRI...|[REGENCY CAKESTAN...|\n",
            "|        536386|[JUMBO BAG RED RE...|[JUMBO SHOPPER VI...|\n",
            "+--------------+--------------------+--------------------+\n",
            "only showing top 20 rows\n",
            "\n"
          ]
        }
      ]
    },
    {
      "cell_type": "code",
      "source": [
        "print((original_data.count(), len(original_data.columns)))\n",
        "print((transformed.count(), len(transformed.columns)))"
      ],
      "metadata": {
        "colab": {
          "base_uri": "https://localhost:8080/"
        },
        "outputId": "188cf73c-1668-46aa-d140-d37a60a8763d",
        "id": "KJOfL0cJPZSA"
      },
      "execution_count": null,
      "outputs": [
        {
          "output_type": "stream",
          "name": "stdout",
          "text": [
            "(387773, 8)\n",
            "(18536, 3)\n"
          ]
        }
      ]
    },
    {
      "cell_type": "code",
      "source": [
        "import pandas as pd\n",
        "pandas_df = transformed.toPandas()"
      ],
      "metadata": {
        "id": "Gb1GD2q2PZSA"
      },
      "execution_count": null,
      "outputs": []
    },
    {
      "cell_type": "code",
      "source": [
        "pandas_df"
      ],
      "metadata": {
        "colab": {
          "base_uri": "https://localhost:8080/",
          "height": 423
        },
        "outputId": "ff8b4eb7-f96a-4bf4-879a-d85fe4fb5d19",
        "id": "A8wUGRubPZSA"
      },
      "execution_count": null,
      "outputs": [
        {
          "output_type": "execute_result",
          "data": {
            "text/plain": [
              "       transaction_id                                              Items  \\\n",
              "0              536365  [SET 7 BABUSHKA NESTING BOXES, KNITTED UNION F...   \n",
              "1              536366  [HAND WARMER UNION JACK, HAND WARMER RED POLKA...   \n",
              "2              536367  [ASSORTED COLOUR BIRD ORNAMENT, IVORY KNITTED ...   \n",
              "3              536368  [BLUE COAT RACK PARIS FASHION, YELLOW COAT RAC...   \n",
              "4              536369                         [BATH BUILDING BLOCK WORD]   \n",
              "...               ...                                                ...   \n",
              "18531          581583  [6 CHOCOLATE LOVE HEART T-LIGHTS, LUNCH BAG RE...   \n",
              "18532          581584  [RED FLOCK LOVE HEART PHOTO FRAME, 6 CHOCOLATE...   \n",
              "18533          581585  [ALARM CLOCK BAKELIKE RED , ZINC T-LIGHT HOLDE...   \n",
              "18534          581586  [DOORMAT RED RETROSPOT, RED RETROSPOT ROUND CA...   \n",
              "18535          581587  [CIRCUS PARADE LUNCH BOX , CHILDRENS CUTLERY C...   \n",
              "\n",
              "                                              prediction  \n",
              "0      [LARGE WHITE HEART OF WICKER, LUNCH BAG  BLACK...  \n",
              "1      [HAND WARMER OWL DESIGN, HAND WARMER SCOTTY DO...  \n",
              "2      [WHITE HANGING HEART T-LIGHT HOLDER, POPPY'S P...  \n",
              "3      [JAM MAKING SET PRINTED, REGENCY CAKESTAND 3 T...  \n",
              "4                                                     []  \n",
              "...                                                  ...  \n",
              "18531  [JUMBO BAG SPACEBOY DESIGN, STRAWBERRY CHARLOT...  \n",
              "18532                                                 []  \n",
              "18533  [ALARM CLOCK BAKELIKE ORANGE, ALARM CLOCK BAKE...  \n",
              "18534                                                 []  \n",
              "18535  [ALARM CLOCK BAKELIKE ORANGE, ALARM CLOCK BAKE...  \n",
              "\n",
              "[18536 rows x 3 columns]"
            ],
            "text/html": [
              "\n",
              "  <div id=\"df-e4c16e70-8af4-415b-9226-015022aa62b9\" class=\"colab-df-container\">\n",
              "    <div>\n",
              "<style scoped>\n",
              "    .dataframe tbody tr th:only-of-type {\n",
              "        vertical-align: middle;\n",
              "    }\n",
              "\n",
              "    .dataframe tbody tr th {\n",
              "        vertical-align: top;\n",
              "    }\n",
              "\n",
              "    .dataframe thead th {\n",
              "        text-align: right;\n",
              "    }\n",
              "</style>\n",
              "<table border=\"1\" class=\"dataframe\">\n",
              "  <thead>\n",
              "    <tr style=\"text-align: right;\">\n",
              "      <th></th>\n",
              "      <th>transaction_id</th>\n",
              "      <th>Items</th>\n",
              "      <th>prediction</th>\n",
              "    </tr>\n",
              "  </thead>\n",
              "  <tbody>\n",
              "    <tr>\n",
              "      <th>0</th>\n",
              "      <td>536365</td>\n",
              "      <td>[SET 7 BABUSHKA NESTING BOXES, KNITTED UNION F...</td>\n",
              "      <td>[LARGE WHITE HEART OF WICKER, LUNCH BAG  BLACK...</td>\n",
              "    </tr>\n",
              "    <tr>\n",
              "      <th>1</th>\n",
              "      <td>536366</td>\n",
              "      <td>[HAND WARMER UNION JACK, HAND WARMER RED POLKA...</td>\n",
              "      <td>[HAND WARMER OWL DESIGN, HAND WARMER SCOTTY DO...</td>\n",
              "    </tr>\n",
              "    <tr>\n",
              "      <th>2</th>\n",
              "      <td>536367</td>\n",
              "      <td>[ASSORTED COLOUR BIRD ORNAMENT, IVORY KNITTED ...</td>\n",
              "      <td>[WHITE HANGING HEART T-LIGHT HOLDER, POPPY'S P...</td>\n",
              "    </tr>\n",
              "    <tr>\n",
              "      <th>3</th>\n",
              "      <td>536368</td>\n",
              "      <td>[BLUE COAT RACK PARIS FASHION, YELLOW COAT RAC...</td>\n",
              "      <td>[JAM MAKING SET PRINTED, REGENCY CAKESTAND 3 T...</td>\n",
              "    </tr>\n",
              "    <tr>\n",
              "      <th>4</th>\n",
              "      <td>536369</td>\n",
              "      <td>[BATH BUILDING BLOCK WORD]</td>\n",
              "      <td>[]</td>\n",
              "    </tr>\n",
              "    <tr>\n",
              "      <th>...</th>\n",
              "      <td>...</td>\n",
              "      <td>...</td>\n",
              "      <td>...</td>\n",
              "    </tr>\n",
              "    <tr>\n",
              "      <th>18531</th>\n",
              "      <td>581583</td>\n",
              "      <td>[6 CHOCOLATE LOVE HEART T-LIGHTS, LUNCH BAG RE...</td>\n",
              "      <td>[JUMBO BAG SPACEBOY DESIGN, STRAWBERRY CHARLOT...</td>\n",
              "    </tr>\n",
              "    <tr>\n",
              "      <th>18532</th>\n",
              "      <td>581584</td>\n",
              "      <td>[RED FLOCK LOVE HEART PHOTO FRAME, 6 CHOCOLATE...</td>\n",
              "      <td>[]</td>\n",
              "    </tr>\n",
              "    <tr>\n",
              "      <th>18533</th>\n",
              "      <td>581585</td>\n",
              "      <td>[ALARM CLOCK BAKELIKE RED , ZINC T-LIGHT HOLDE...</td>\n",
              "      <td>[ALARM CLOCK BAKELIKE ORANGE, ALARM CLOCK BAKE...</td>\n",
              "    </tr>\n",
              "    <tr>\n",
              "      <th>18534</th>\n",
              "      <td>581586</td>\n",
              "      <td>[DOORMAT RED RETROSPOT, RED RETROSPOT ROUND CA...</td>\n",
              "      <td>[]</td>\n",
              "    </tr>\n",
              "    <tr>\n",
              "      <th>18535</th>\n",
              "      <td>581587</td>\n",
              "      <td>[CIRCUS PARADE LUNCH BOX , CHILDRENS CUTLERY C...</td>\n",
              "      <td>[ALARM CLOCK BAKELIKE ORANGE, ALARM CLOCK BAKE...</td>\n",
              "    </tr>\n",
              "  </tbody>\n",
              "</table>\n",
              "<p>18536 rows × 3 columns</p>\n",
              "</div>\n",
              "    <div class=\"colab-df-buttons\">\n",
              "\n",
              "  <div class=\"colab-df-container\">\n",
              "    <button class=\"colab-df-convert\" onclick=\"convertToInteractive('df-e4c16e70-8af4-415b-9226-015022aa62b9')\"\n",
              "            title=\"Convert this dataframe to an interactive table.\"\n",
              "            style=\"display:none;\">\n",
              "\n",
              "  <svg xmlns=\"http://www.w3.org/2000/svg\" height=\"24px\" viewBox=\"0 -960 960 960\">\n",
              "    <path d=\"M120-120v-720h720v720H120Zm60-500h600v-160H180v160Zm220 220h160v-160H400v160Zm0 220h160v-160H400v160ZM180-400h160v-160H180v160Zm440 0h160v-160H620v160ZM180-180h160v-160H180v160Zm440 0h160v-160H620v160Z\"/>\n",
              "  </svg>\n",
              "    </button>\n",
              "\n",
              "  <style>\n",
              "    .colab-df-container {\n",
              "      display:flex;\n",
              "      gap: 12px;\n",
              "    }\n",
              "\n",
              "    .colab-df-convert {\n",
              "      background-color: #E8F0FE;\n",
              "      border: none;\n",
              "      border-radius: 50%;\n",
              "      cursor: pointer;\n",
              "      display: none;\n",
              "      fill: #1967D2;\n",
              "      height: 32px;\n",
              "      padding: 0 0 0 0;\n",
              "      width: 32px;\n",
              "    }\n",
              "\n",
              "    .colab-df-convert:hover {\n",
              "      background-color: #E2EBFA;\n",
              "      box-shadow: 0px 1px 2px rgba(60, 64, 67, 0.3), 0px 1px 3px 1px rgba(60, 64, 67, 0.15);\n",
              "      fill: #174EA6;\n",
              "    }\n",
              "\n",
              "    .colab-df-buttons div {\n",
              "      margin-bottom: 4px;\n",
              "    }\n",
              "\n",
              "    [theme=dark] .colab-df-convert {\n",
              "      background-color: #3B4455;\n",
              "      fill: #D2E3FC;\n",
              "    }\n",
              "\n",
              "    [theme=dark] .colab-df-convert:hover {\n",
              "      background-color: #434B5C;\n",
              "      box-shadow: 0px 1px 3px 1px rgba(0, 0, 0, 0.15);\n",
              "      filter: drop-shadow(0px 1px 2px rgba(0, 0, 0, 0.3));\n",
              "      fill: #FFFFFF;\n",
              "    }\n",
              "  </style>\n",
              "\n",
              "    <script>\n",
              "      const buttonEl =\n",
              "        document.querySelector('#df-e4c16e70-8af4-415b-9226-015022aa62b9 button.colab-df-convert');\n",
              "      buttonEl.style.display =\n",
              "        google.colab.kernel.accessAllowed ? 'block' : 'none';\n",
              "\n",
              "      async function convertToInteractive(key) {\n",
              "        const element = document.querySelector('#df-e4c16e70-8af4-415b-9226-015022aa62b9');\n",
              "        const dataTable =\n",
              "          await google.colab.kernel.invokeFunction('convertToInteractive',\n",
              "                                                    [key], {});\n",
              "        if (!dataTable) return;\n",
              "\n",
              "        const docLinkHtml = 'Like what you see? Visit the ' +\n",
              "          '<a target=\"_blank\" href=https://colab.research.google.com/notebooks/data_table.ipynb>data table notebook</a>'\n",
              "          + ' to learn more about interactive tables.';\n",
              "        element.innerHTML = '';\n",
              "        dataTable['output_type'] = 'display_data';\n",
              "        await google.colab.output.renderOutput(dataTable, element);\n",
              "        const docLink = document.createElement('div');\n",
              "        docLink.innerHTML = docLinkHtml;\n",
              "        element.appendChild(docLink);\n",
              "      }\n",
              "    </script>\n",
              "  </div>\n",
              "\n",
              "\n",
              "<div id=\"df-da2ac8f5-658a-491f-8bf4-b887a476e670\">\n",
              "  <button class=\"colab-df-quickchart\" onclick=\"quickchart('df-da2ac8f5-658a-491f-8bf4-b887a476e670')\"\n",
              "            title=\"Suggest charts.\"\n",
              "            style=\"display:none;\">\n",
              "\n",
              "<svg xmlns=\"http://www.w3.org/2000/svg\" height=\"24px\"viewBox=\"0 0 24 24\"\n",
              "     width=\"24px\">\n",
              "    <g>\n",
              "        <path d=\"M19 3H5c-1.1 0-2 .9-2 2v14c0 1.1.9 2 2 2h14c1.1 0 2-.9 2-2V5c0-1.1-.9-2-2-2zM9 17H7v-7h2v7zm4 0h-2V7h2v10zm4 0h-2v-4h2v4z\"/>\n",
              "    </g>\n",
              "</svg>\n",
              "  </button>\n",
              "\n",
              "<style>\n",
              "  .colab-df-quickchart {\n",
              "      --bg-color: #E8F0FE;\n",
              "      --fill-color: #1967D2;\n",
              "      --hover-bg-color: #E2EBFA;\n",
              "      --hover-fill-color: #174EA6;\n",
              "      --disabled-fill-color: #AAA;\n",
              "      --disabled-bg-color: #DDD;\n",
              "  }\n",
              "\n",
              "  [theme=dark] .colab-df-quickchart {\n",
              "      --bg-color: #3B4455;\n",
              "      --fill-color: #D2E3FC;\n",
              "      --hover-bg-color: #434B5C;\n",
              "      --hover-fill-color: #FFFFFF;\n",
              "      --disabled-bg-color: #3B4455;\n",
              "      --disabled-fill-color: #666;\n",
              "  }\n",
              "\n",
              "  .colab-df-quickchart {\n",
              "    background-color: var(--bg-color);\n",
              "    border: none;\n",
              "    border-radius: 50%;\n",
              "    cursor: pointer;\n",
              "    display: none;\n",
              "    fill: var(--fill-color);\n",
              "    height: 32px;\n",
              "    padding: 0;\n",
              "    width: 32px;\n",
              "  }\n",
              "\n",
              "  .colab-df-quickchart:hover {\n",
              "    background-color: var(--hover-bg-color);\n",
              "    box-shadow: 0 1px 2px rgba(60, 64, 67, 0.3), 0 1px 3px 1px rgba(60, 64, 67, 0.15);\n",
              "    fill: var(--button-hover-fill-color);\n",
              "  }\n",
              "\n",
              "  .colab-df-quickchart-complete:disabled,\n",
              "  .colab-df-quickchart-complete:disabled:hover {\n",
              "    background-color: var(--disabled-bg-color);\n",
              "    fill: var(--disabled-fill-color);\n",
              "    box-shadow: none;\n",
              "  }\n",
              "\n",
              "  .colab-df-spinner {\n",
              "    border: 2px solid var(--fill-color);\n",
              "    border-color: transparent;\n",
              "    border-bottom-color: var(--fill-color);\n",
              "    animation:\n",
              "      spin 1s steps(1) infinite;\n",
              "  }\n",
              "\n",
              "  @keyframes spin {\n",
              "    0% {\n",
              "      border-color: transparent;\n",
              "      border-bottom-color: var(--fill-color);\n",
              "      border-left-color: var(--fill-color);\n",
              "    }\n",
              "    20% {\n",
              "      border-color: transparent;\n",
              "      border-left-color: var(--fill-color);\n",
              "      border-top-color: var(--fill-color);\n",
              "    }\n",
              "    30% {\n",
              "      border-color: transparent;\n",
              "      border-left-color: var(--fill-color);\n",
              "      border-top-color: var(--fill-color);\n",
              "      border-right-color: var(--fill-color);\n",
              "    }\n",
              "    40% {\n",
              "      border-color: transparent;\n",
              "      border-right-color: var(--fill-color);\n",
              "      border-top-color: var(--fill-color);\n",
              "    }\n",
              "    60% {\n",
              "      border-color: transparent;\n",
              "      border-right-color: var(--fill-color);\n",
              "    }\n",
              "    80% {\n",
              "      border-color: transparent;\n",
              "      border-right-color: var(--fill-color);\n",
              "      border-bottom-color: var(--fill-color);\n",
              "    }\n",
              "    90% {\n",
              "      border-color: transparent;\n",
              "      border-bottom-color: var(--fill-color);\n",
              "    }\n",
              "  }\n",
              "</style>\n",
              "\n",
              "  <script>\n",
              "    async function quickchart(key) {\n",
              "      const quickchartButtonEl =\n",
              "        document.querySelector('#' + key + ' button');\n",
              "      quickchartButtonEl.disabled = true;  // To prevent multiple clicks.\n",
              "      quickchartButtonEl.classList.add('colab-df-spinner');\n",
              "      try {\n",
              "        const charts = await google.colab.kernel.invokeFunction(\n",
              "            'suggestCharts', [key], {});\n",
              "      } catch (error) {\n",
              "        console.error('Error during call to suggestCharts:', error);\n",
              "      }\n",
              "      quickchartButtonEl.classList.remove('colab-df-spinner');\n",
              "      quickchartButtonEl.classList.add('colab-df-quickchart-complete');\n",
              "    }\n",
              "    (() => {\n",
              "      let quickchartButtonEl =\n",
              "        document.querySelector('#df-da2ac8f5-658a-491f-8bf4-b887a476e670 button');\n",
              "      quickchartButtonEl.style.display =\n",
              "        google.colab.kernel.accessAllowed ? 'block' : 'none';\n",
              "    })();\n",
              "  </script>\n",
              "</div>\n",
              "    </div>\n",
              "  </div>\n"
            ]
          },
          "metadata": {},
          "execution_count": 22
        }
      ]
    },
    {
      "cell_type": "code",
      "source": [
        "import networkx as nx\n",
        "import matplotlib.pyplot as plt\n",
        "\n",
        "G = nx.Graph()\n",
        "\n",
        "nth_row = 7\n",
        "row = pandas_df.iloc[nth_row]\n",
        "\n",
        "\n",
        "items = row['Items']\n",
        "predictions = row['prediction']\n",
        "\n",
        "\n",
        "for item in items:\n",
        "    for prediction in predictions:\n",
        "        G.add_edge(item, prediction)\n",
        "\n",
        "\n",
        "pos = nx.spring_layout(G, seed=42)\n",
        "nx.draw(G, pos, with_labels=True, node_size=5, font_size=10, font_color='green', node_color='lightblue')\n",
        "plt.title(f\"Product Associations (Row {nth_row})\")\n",
        "plt.show()\n"
      ],
      "metadata": {
        "colab": {
          "base_uri": "https://localhost:8080/",
          "height": 539
        },
        "outputId": "b2b24d23-fa55-41d9-cb1e-5692d2884b4e",
        "id": "tL462PU0PZSA"
      },
      "execution_count": null,
      "outputs": [
        {
          "output_type": "display_data",
          "data": {
            "text/plain": [
              "<Figure size 640x480 with 1 Axes>"
            ],
            "image/png": "[encoded data removed]"
          },
          "metadata": {}
        }
      ]
    },
    {
      "cell_type": "code",
      "source": [
        "import networkx as nx\n",
        "import matplotlib.pyplot as plt\n",
        "\n",
        "G = nx.Graph()\n",
        "\n",
        "nth_row = 6\n",
        "row = pandas_df.iloc[nth_row]\n",
        "\n",
        "\n",
        "items = row['Items']\n",
        "predictions = row['prediction']\n",
        "\n",
        "\n",
        "for item in items:\n",
        "    for prediction in predictions:\n",
        "        G.add_edge(item, prediction)\n",
        "\n",
        "\n",
        "pos = nx.spring_layout(G, seed=42)\n",
        "nx.draw(G, pos, with_labels=True, node_size=5, font_size=10, font_color='green', node_color='lightblue')\n",
        "plt.title(f\"Product Associations (Row {nth_row})\")\n",
        "plt.show()"
      ],
      "metadata": {
        "colab": {
          "base_uri": "https://localhost:8080/",
          "height": 539
        },
        "outputId": "5c84a6b4-6488-4e6e-a825-ed7403846246",
        "id": "5u1iKZHnPZSB"
      },
      "execution_count": null,
      "outputs": [
        {
          "output_type": "display_data",
          "data": {
            "text/plain": [
              "<Figure size 640x480 with 1 Axes>"
            ],
            "image/png": "[encoded data removed]"
          },
          "metadata": {}
        }
      ]
    },
    {
      "cell_type": "code",
      "source": [
        "pandas_df.iloc[12,1:]"
      ],
      "metadata": {
        "colab": {
          "base_uri": "https://localhost:8080/"
        },
        "outputId": "b932215e-9c09-4e6c-ff82-0d53eedabe1b",
        "id": "sXdEgveLPZSB"
      },
      "execution_count": null,
      "outputs": [
        {
          "output_type": "execute_result",
          "data": {
            "text/plain": [
              "Items         [HAND WARMER UNION JACK, HAND WARMER RED POLKA...\n",
              "prediction    [HAND WARMER OWL DESIGN, HAND WARMER SCOTTY DO...\n",
              "Name: 12, dtype: object"
            ]
          },
          "metadata": {},
          "execution_count": 25
        }
      ]
    },
    {
      "cell_type": "code",
      "source": [
        "import networkx as nx\n",
        "import matplotlib.pyplot as plt\n",
        "\n",
        "G = nx.Graph()\n",
        "\n",
        "nth_row = 12\n",
        "row = pandas_df.iloc[nth_row]\n",
        "\n",
        "\n",
        "items = row['Items']\n",
        "predictions = row['prediction']\n",
        "\n",
        "\n",
        "for item in items:\n",
        "    for prediction in predictions:\n",
        "        G.add_edge(item, prediction)\n",
        "\n",
        "\n",
        "pos = nx.spring_layout(G, seed=42)\n",
        "nx.draw(G, pos, with_labels=True, node_size=5, font_size=10, font_color='green', node_color='lightblue')\n",
        "plt.title(f\"Product Associations (Row {nth_row})\")\n",
        "plt.show()"
      ],
      "metadata": {
        "colab": {
          "base_uri": "https://localhost:8080/",
          "height": 539
        },
        "outputId": "c59f4e38-a440-47a8-d893-3c85a7951d78",
        "id": "sPg0hsVrPZSB"
      },
      "execution_count": null,
      "outputs": [
        {
          "output_type": "display_data",
          "data": {
            "text/plain": [
              "<Figure size 640x480 with 1 Axes>"
            ],
            "image/png": "[encoded data removed]"
          },
          "metadata": {}
        }
      ]
    },
    {
      "cell_type": "code",
      "source": [
        "rules.show()"
      ],
      "metadata": {
        "colab": {
          "base_uri": "https://localhost:8080/"
        },
        "outputId": "d0bbd627-a026-42e8-898c-d07826d65ffb",
        "id": "4yiEKFiBPZSB"
      },
      "execution_count": null,
      "outputs": [
        {
          "output_type": "stream",
          "name": "stdout",
          "text": [
            "+--------------------+--------------------+-------------------+------------------+--------------------+\n",
            "|          antecedent|          consequent|         confidence|              lift|             support|\n",
            "+--------------------+--------------------+-------------------+------------------+--------------------+\n",
            "|[SET OF 6 SNACK L...|[SET OF 12 MINI L...| 0.7425742574257426|38.340825726026644|0.008092360811394044|\n",
            "|[SET OF 6 SPICE T...|[RECIPE BOX PANTR...|0.22970903522205208|5.1423752136183065|0.008092360811394044|\n",
            "|[SET OF 6 SPICE T...|[JAM MAKING SET W...|0.24808575803981622| 5.231533118345886|0.008739749676305567|\n",
            "|[SET OF 6 SPICE T...|[SET OF 3 CAKE TI...| 0.4563552833078101| 7.381327688825103|0.016076823478636166|\n",
            "|[LUNCH BAG APPLE ...|[LUNCH BAG VINTAG...|           0.471875| 14.65104690117253|0.008146309883470005|\n",
            "|[LUNCH BAG APPLE ...|[LUNCH BAG SUKI D...|            0.63125|13.015406006674082| 0.01089771255934398|\n",
            "|[LUNCH BAG APPLE ...|[LUNCH BAG RED RE...|             0.6375|  9.17445652173913|  0.0110056107034959|\n",
            "|[LUNCH BAG APPLE ...|[LUNCH BAG SPACEB...|               0.55|10.318623481781376|0.009495036685369012|\n",
            "|[LUNCH BAG APPLE ...|[LUNCH BAG CARS B...|           0.534375|10.253804347826087|0.009225291324989211|\n",
            "|[LUNCH BAG APPLE ...|[LUNCH BAG PINK P...|            0.53125|10.577067669172934| 0.00917134225291325|\n",
            "|[LUNCH BAG APPLE ...|[LUNCH BAG WOODLAND]|           0.528125|11.938201219512194| 0.00911739318083729|\n",
            "|[LUNCH BAG PINK P...|[LUNCH BAG ALPHAB...| 0.2944550669216061| 8.435887357741718|0.008308157099697885|\n",
            "|[LUNCH BAG PINK P...|[LUNCH BAG  BLACK...| 0.5889101338432122| 10.37646220619561| 0.01661631419939577|\n",
            "|[LUNCH BAG PINK P...|[LUNCH BAG SPACEB...|0.47992351816443596| 9.003909243619418|0.013541217091066034|\n",
            "|[LUNCH BAG PINK P...|[JUMBO BAG RED RE...| 0.3575525812619503| 4.142246653919694|0.010088476478204576|\n",
            "|[LUNCH BAG PINK P...|[LUNCH BAG CARS B...| 0.5334608030592735|10.236262365948956|0.015051791109192922|\n",
            "|[LUNCH BAG PINK P...|[LUNCH BAG APPLE ...|0.37093690248565964| 7.939591714173426|0.010466119982736296|\n",
            "|[LUNCH BAG PINK P...|[LUNCH BAG SUKI D...| 0.4818355640535373| 9.934709694434224|0.013595166163141994|\n",
            "|[LUNCH BAG PINK P...|[LUNCH BAG WOODLAND]|0.45315487571701724|10.243510702793452| 0.01278593008200259|\n",
            "|[LUNCH BAG PINK P...|[JUMBO BAG PINK P...| 0.3078393881453155| 6.551218023721662|0.008685800604229608|\n",
            "+--------------------+--------------------+-------------------+------------------+--------------------+\n",
            "only showing top 20 rows\n",
            "\n"
          ]
        }
      ]
    },
    {
      "cell_type": "markdown",
      "source": [
        "A lift value greater than 1 suggests a positive association, while a value less than 1 suggests a negative association."
      ],
      "metadata": {
        "id": "yDVSiikdPZSB"
      }
    },
    {
      "cell_type": "markdown",
      "source": [
        "LIFT: The lift value quantifies how much more likely the consequent is to be purchased when the antecedent is present, compared to when the consequent is purchased independently of the antecedent."
      ],
      "metadata": {
        "id": "HspoRD4GPZSB"
      }
    },
    {
      "cell_type": "code",
      "source": [
        "min_lift = 1.5\n",
        "\n",
        "filtered_lift_rules = rules.filter(rules.lift >= min_lift)\n",
        "\n",
        "count = filtered_lift_rules.count()\n",
        "print(rules.count())\n",
        "print(\"Number of rules greater than the minimum lift: \", count)\n"
      ],
      "metadata": {
        "colab": {
          "base_uri": "https://localhost:8080/"
        },
        "outputId": "8f87dc03-53bc-4145-f7c9-e7db81de070e",
        "id": "h4lZtieHPZSB"
      },
      "execution_count": null,
      "outputs": [
        {
          "output_type": "stream",
          "name": "stdout",
          "text": [
            "1656\n",
            "Number of rules greater than the minimum lift:  1650\n"
          ]
        }
      ]
    },
    {
      "cell_type": "markdown",
      "source": [
        " Confidence - the probability that the a item will be purchased when the other is present.\n",
        "\n",
        " since confidence is probability confidence greater than 0.7 would be good"
      ],
      "metadata": {
        "id": "-RTdynMJPZSC"
      }
    },
    {
      "cell_type": "code",
      "source": [
        "min_confidence = 0.7\n",
        "\n",
        "filtered_confidence_rules = rules.filter(rules.confidence >= min_confidence)\n",
        "\n",
        "count = filtered_confidence_rules.count()\n",
        "print(rules.count())\n",
        "print(\"Number of rules greater than the minimum confidence: \", count)"
      ],
      "metadata": {
        "colab": {
          "base_uri": "https://localhost:8080/"
        },
        "outputId": "84597341-6a5d-47a9-d297-bf5a3a22b80f",
        "id": "JcEypuiNPZSC"
      },
      "execution_count": null,
      "outputs": [
        {
          "output_type": "stream",
          "name": "stdout",
          "text": [
            "1656\n",
            "Number of rules greater than the minimum confidence:  200\n"
          ]
        }
      ]
    },
    {
      "cell_type": "markdown",
      "source": [
        "support: The support count, which represents how frequently the association rule occurs in the dataset.\n",
        "\n",
        "Since data set is very large we can take the minimum support to 1%"
      ],
      "metadata": {
        "id": "WO1SBBaUPZSC"
      }
    },
    {
      "cell_type": "code",
      "source": [
        "min_support = 0.01\n",
        "\n",
        "filtered_support_rules = rules.filter(rules.support >= min_support)\n",
        "\n",
        "count = filtered_support_rules.count()\n",
        "print(rules.count())\n",
        "print(\"Number of filtered rules based on support:\", count)\n"
      ],
      "metadata": {
        "colab": {
          "base_uri": "https://localhost:8080/"
        },
        "outputId": "561f22c1-dcdc-49b7-ccc8-768775ef7730",
        "id": "sc5yAscqPZSC"
      },
      "execution_count": null,
      "outputs": [
        {
          "output_type": "stream",
          "name": "stdout",
          "text": [
            "1656\n",
            "Number of filtered rules based on support: 761\n"
          ]
        }
      ]
    },
    {
      "cell_type": "code",
      "source": [
        "spark.stop()"
      ],
      "metadata": {
        "id": "n8dyp2tAPZSC"
      },
      "execution_count": null,
      "outputs": []
    },
    {
      "cell_type": "markdown",
      "source": [
        "#2.\n"
      ],
      "metadata": {
        "id": "2zt_8WLuPcM6"
      }
    },
    {
      "cell_type": "code",
      "source": [
        "import pandas as pd\n",
        "from pyspark.sql import SparkSession\n",
        "\n",
        "\n",
        "spark = SparkSession.builder.appName(\"MyApp\") \\\n",
        "    .config(\"spark.driver.memory\", \"4g\") \\\n",
        "    .config(\"spark.executor.memory\", \"4g\") \\\n",
        "    .getOrCreate()\n",
        "\n",
        "df_1 =  spark.read.csv(\"/content/C:/Users/jyoth/Downloads/BDA PROJ/local_output.csv\",header=True,inferSchema=True)\n",
        "df_1"
      ],
      "metadata": {
        "colab": {
          "base_uri": "https://localhost:8080/"
        },
        "id": "ZQf4kwY0Pc7E",
        "outputId": "a284eb82-1d95-4cae-897b-c15a5c44b651"
      },
      "execution_count": null,
      "outputs": [
        {
          "output_type": "execute_result",
          "data": {
            "text/plain": [
              "DataFrame[transaction_id: int, product_id: string, product_name: string, quantity: int, transaction_date: date, price: double, customer_id: int, country: string]"
            ]
          },
          "metadata": {},
          "execution_count": 1
        }
      ]
    },
    {
      "cell_type": "code",
      "source": [
        "from pyspark.ml.fpm import FPGrowth\n",
        "from pyspark.ml.feature import StringIndexer\n",
        "from pyspark.sql import functions as F"
      ],
      "metadata": {
        "id": "H_D7UW6fPdR_"
      },
      "execution_count": null,
      "outputs": []
    },
    {
      "cell_type": "code",
      "source": [
        "basketdata = df_1.dropDuplicates(['transaction_id','product_name']).sort('transaction_id')\n",
        "original_data=basketdata\n",
        "basketdata.show()\n",
        "print((basketdata.count(), len(basketdata.columns)))"
      ],
      "metadata": {
        "colab": {
          "base_uri": "https://localhost:8080/"
        },
        "outputId": "df1831ea-d192-4848-ed4d-b460e8c8c8cf",
        "id": "zB8HqCNvPdSA"
      },
      "execution_count": null,
      "outputs": [
        {
          "output_type": "stream",
          "name": "stdout",
          "text": [
            "+--------------+----------+--------------------+--------+----------------+-----+-----------+--------------+\n",
            "|transaction_id|product_id|        product_name|quantity|transaction_date|price|customer_id|       country|\n",
            "+--------------+----------+--------------------+--------+----------------+-----+-----------+--------------+\n",
            "|        536365|    84406B|CREAM CUPID HEART...|       8|      2010-12-01| 2.75|      17850|United Kingdom|\n",
            "|        536365|     21730|GLASS STAR FROSTE...|       6|      2010-12-01| 4.25|      17850|United Kingdom|\n",
            "|        536365|    84029G|KNITTED UNION FLA...|       6|      2010-12-01| 3.39|      17850|United Kingdom|\n",
            "|        536365|    85123A|WHITE HANGING HEA...|       6|      2010-12-01| 2.55|      17850|United Kingdom|\n",
            "|        536365|    84029E|RED WOOLLY HOTTIE...|       6|      2010-12-01| 3.39|      17850|United Kingdom|\n",
            "|        536365|     22752|SET 7 BABUSHKA NE...|       2|      2010-12-01| 7.65|      17850|United Kingdom|\n",
            "|        536365|     71053| WHITE METAL LANTERN|       6|      2010-12-01| 3.39|      17850|United Kingdom|\n",
            "|        536366|     22632|HAND WARMER RED P...|       6|      2010-12-01| 1.85|      17850|United Kingdom|\n",
            "|        536366|     22633|HAND WARMER UNION...|       6|      2010-12-01| 1.85|      17850|United Kingdom|\n",
            "|        536367|     84969|BOX OF 6 ASSORTED...|       6|      2010-12-01| 4.25|      13047|United Kingdom|\n",
            "|        536367|     84879|ASSORTED COLOUR B...|      32|      2010-12-01| 1.69|      13047|United Kingdom|\n",
            "|        536367|     22622|BOX OF VINTAGE AL...|       2|      2010-12-01| 9.95|      13047|United Kingdom|\n",
            "|        536367|     22623|BOX OF VINTAGE JI...|       3|      2010-12-01| 4.95|      13047|United Kingdom|\n",
            "|        536367|     48187| DOORMAT NEW ENGLAND|       4|      2010-12-01| 7.95|      13047|United Kingdom|\n",
            "|        536367|     21754|HOME BUILDING BLO...|       3|      2010-12-01| 5.95|      13047|United Kingdom|\n",
            "|        536367|     22749|FELTCRAFT PRINCES...|       8|      2010-12-01| 3.75|      13047|United Kingdom|\n",
            "|        536367|     22310|IVORY KNITTED MUG...|       6|      2010-12-01| 1.65|      13047|United Kingdom|\n",
            "|        536367|     21777|RECIPE BOX WITH M...|       4|      2010-12-01| 7.95|      13047|United Kingdom|\n",
            "|        536367|     21755|LOVE BUILDING BLO...|       3|      2010-12-01| 5.95|      13047|United Kingdom|\n",
            "|        536367|     22745|POPPY'S PLAYHOUSE...|       6|      2010-12-01|  2.1|      13047|United Kingdom|\n",
            "+--------------+----------+--------------------+--------+----------------+-----+-----------+--------------+\n",
            "only showing top 20 rows\n",
            "\n",
            "(387773, 8)\n"
          ]
        }
      ]
    },
    {
      "cell_type": "code",
      "source": [
        "basketdata = basketdata.groupBy(\"transaction_id\").agg(F.collect_list(\"product_name\")).sort('transaction_id')\n",
        "basketdata.show()"
      ],
      "metadata": {
        "colab": {
          "base_uri": "https://localhost:8080/"
        },
        "outputId": "f196f8dd-ebec-4573-c5ca-e03eba9cb4cd",
        "id": "c6G34tC2PdSA"
      },
      "execution_count": null,
      "outputs": [
        {
          "output_type": "stream",
          "name": "stdout",
          "text": [
            "+--------------+--------------------------+\n",
            "|transaction_id|collect_list(product_name)|\n",
            "+--------------+--------------------------+\n",
            "|        536365|      [SET 7 BABUSHKA N...|\n",
            "|        536366|      [HAND WARMER UNIO...|\n",
            "|        536367|      [ASSORTED COLOUR ...|\n",
            "|        536368|      [BLUE COAT RACK P...|\n",
            "|        536369|      [BATH BUILDING BL...|\n",
            "|        536370|      [ROUND SNACK BOXE...|\n",
            "|        536371|      [PAPER CHAIN KIT ...|\n",
            "|        536372|      [HAND WARMER UNIO...|\n",
            "|        536373|      [WOODEN FRAME ANT...|\n",
            "|        536374|      [VICTORIAN SEWING...|\n",
            "|        536375|      [WOODEN PICTURE F...|\n",
            "|        536376|      [HOT WATER BOTTLE...|\n",
            "|        536377|      [HAND WARMER UNIO...|\n",
            "|        536378|      [PACK OF 60 DINOS...|\n",
            "|        536380|      [JAM MAKING SET P...|\n",
            "|        536381|      [GUMBALL MONOCHRO...|\n",
            "|        536382|      [ANTIQUE GLASS DR...|\n",
            "|        536384|      [ENAMEL FLOWER JU...|\n",
            "|        536385|      [TRADITIONAL CHRI...|\n",
            "|        536386|      [JUMBO BAG RED RE...|\n",
            "+--------------+--------------------------+\n",
            "only showing top 20 rows\n",
            "\n"
          ]
        }
      ]
    },
    {
      "cell_type": "code",
      "source": [
        "basketdata = basketdata.withColumnRenamed(\"collect_list(product_name)\",\"Items\")\n",
        "basketdata.show()"
      ],
      "metadata": {
        "colab": {
          "base_uri": "https://localhost:8080/"
        },
        "outputId": "2239aab1-c2e4-4ab3-f446-50cedd58cc09",
        "id": "wwUiLgxQPdSA"
      },
      "execution_count": null,
      "outputs": [
        {
          "output_type": "stream",
          "name": "stdout",
          "text": [
            "+--------------+--------------------+\n",
            "|transaction_id|               Items|\n",
            "+--------------+--------------------+\n",
            "|        536365|[SET 7 BABUSHKA N...|\n",
            "|        536366|[HAND WARMER UNIO...|\n",
            "|        536367|[ASSORTED COLOUR ...|\n",
            "|        536368|[BLUE COAT RACK P...|\n",
            "|        536369|[BATH BUILDING BL...|\n",
            "|        536370|[ROUND SNACK BOXE...|\n",
            "|        536371|[PAPER CHAIN KIT ...|\n",
            "|        536372|[HAND WARMER UNIO...|\n",
            "|        536373|[WOODEN FRAME ANT...|\n",
            "|        536374|[VICTORIAN SEWING...|\n",
            "|        536375|[WOODEN PICTURE F...|\n",
            "|        536376|[HOT WATER BOTTLE...|\n",
            "|        536377|[HAND WARMER UNIO...|\n",
            "|        536378|[PACK OF 60 DINOS...|\n",
            "|        536380|[JAM MAKING SET P...|\n",
            "|        536381|[GUMBALL MONOCHRO...|\n",
            "|        536382|[ANTIQUE GLASS DR...|\n",
            "|        536384|[ENAMEL FLOWER JU...|\n",
            "|        536385|[TRADITIONAL CHRI...|\n",
            "|        536386|[JUMBO BAG RED RE...|\n",
            "+--------------+--------------------+\n",
            "only showing top 20 rows\n",
            "\n"
          ]
        }
      ]
    },
    {
      "cell_type": "code",
      "source": [
        "fpGrowth = FPGrowth(itemsCol=\"Items\", minSupport=0.001, minConfidence=0.001)\n",
        "model = fpGrowth.fit(basketdata)"
      ],
      "metadata": {
        "id": "2pIyPQImPdSA"
      },
      "execution_count": null,
      "outputs": []
    },
    {
      "cell_type": "code",
      "source": [
        "model.freqItemsets.show()"
      ],
      "metadata": {
        "colab": {
          "base_uri": "https://localhost:8080/",
          "height": 564
        },
        "outputId": "6bd870ae-ae27-4b7c-8ba0-e23af3ed3405",
        "id": "0cSlKAWdPdSB"
      },
      "execution_count": null,
      "outputs": [
        {
          "output_type": "stream",
          "name": "stderr",
          "text": [
            "ERROR:root:Exception while sending command.\n",
            "Traceback (most recent call last):\n",
            "  File \"/usr/local/lib/python3.10/dist-packages/py4j/clientserver.py\", line 516, in send_command\n",
            "    raise Py4JNetworkError(\"Answer from Java side is empty\")\n",
            "py4j.protocol.Py4JNetworkError: Answer from Java side is empty\n",
            "\n",
            "During handling of the above exception, another exception occurred:\n",
            "\n",
            "Traceback (most recent call last):\n",
            "  File \"/usr/local/lib/python3.10/dist-packages/py4j/java_gateway.py\", line 1038, in send_command\n",
            "    response = connection.send_command(command)\n",
            "  File \"/usr/local/lib/python3.10/dist-packages/py4j/clientserver.py\", line 539, in send_command\n",
            "    raise Py4JNetworkError(\n",
            "py4j.protocol.Py4JNetworkError: Error while sending or receiving\n"
          ]
        },
        {
          "output_type": "error",
          "ename": "Py4JError",
          "evalue": "ignored",
          "traceback": [
            "\u001b[0;31m---------------------------------------------------------------------------\u001b[0m",
            "\u001b[0;31mPy4JError\u001b[0m                                 Traceback (most recent call last)",
            "\u001b[0;32m<ipython-input-7-fe93f2b214f9>\u001b[0m in \u001b[0;36m<cell line: 1>\u001b[0;34m()\u001b[0m\n\u001b[0;32m----> 1\u001b[0;31m \u001b[0mmodel\u001b[0m\u001b[0;34m.\u001b[0m\u001b[0mfreqItemsets\u001b[0m\u001b[0;34m.\u001b[0m\u001b[0mshow\u001b[0m\u001b[0;34m(\u001b[0m\u001b[0;34m)\u001b[0m\u001b[0;34m\u001b[0m\u001b[0;34m\u001b[0m\u001b[0m\n\u001b[0m",
            "\u001b[0;32m/usr/local/lib/python3.10/dist-packages/pyspark/sql/dataframe.py\u001b[0m in \u001b[0;36mshow\u001b[0;34m(self, n, truncate, vertical)\u001b[0m\n\u001b[1;32m    957\u001b[0m \u001b[0;34m\u001b[0m\u001b[0m\n\u001b[1;32m    958\u001b[0m         \u001b[0;32mif\u001b[0m \u001b[0misinstance\u001b[0m\u001b[0;34m(\u001b[0m\u001b[0mtruncate\u001b[0m\u001b[0;34m,\u001b[0m \u001b[0mbool\u001b[0m\u001b[0;34m)\u001b[0m \u001b[0;32mand\u001b[0m \u001b[0mtruncate\u001b[0m\u001b[0;34m:\u001b[0m\u001b[0;34m\u001b[0m\u001b[0;34m\u001b[0m\u001b[0m\n\u001b[0;32m--> 959\u001b[0;31m             \u001b[0mprint\u001b[0m\u001b[0;34m(\u001b[0m\u001b[0mself\u001b[0m\u001b[0;34m.\u001b[0m\u001b[0m_jdf\u001b[0m\u001b[0;34m.\u001b[0m\u001b[0mshowString\u001b[0m\u001b[0;34m(\u001b[0m\u001b[0mn\u001b[0m\u001b[0;34m,\u001b[0m \u001b[0;36m20\u001b[0m\u001b[0;34m,\u001b[0m \u001b[0mvertical\u001b[0m\u001b[0;34m)\u001b[0m\u001b[0;34m)\u001b[0m\u001b[0;34m\u001b[0m\u001b[0;34m\u001b[0m\u001b[0m\n\u001b[0m\u001b[1;32m    960\u001b[0m         \u001b[0;32melse\u001b[0m\u001b[0;34m:\u001b[0m\u001b[0;34m\u001b[0m\u001b[0;34m\u001b[0m\u001b[0m\n\u001b[1;32m    961\u001b[0m             \u001b[0;32mtry\u001b[0m\u001b[0;34m:\u001b[0m\u001b[0;34m\u001b[0m\u001b[0;34m\u001b[0m\u001b[0m\n",
            "\u001b[0;32m/usr/local/lib/python3.10/dist-packages/py4j/java_gateway.py\u001b[0m in \u001b[0;36m__call__\u001b[0;34m(self, *args)\u001b[0m\n\u001b[1;32m   1320\u001b[0m \u001b[0;34m\u001b[0m\u001b[0m\n\u001b[1;32m   1321\u001b[0m         \u001b[0manswer\u001b[0m \u001b[0;34m=\u001b[0m \u001b[0mself\u001b[0m\u001b[0;34m.\u001b[0m\u001b[0mgateway_client\u001b[0m\u001b[0;34m.\u001b[0m\u001b[0msend_command\u001b[0m\u001b[0;34m(\u001b[0m\u001b[0mcommand\u001b[0m\u001b[0;34m)\u001b[0m\u001b[0;34m\u001b[0m\u001b[0;34m\u001b[0m\u001b[0m\n\u001b[0;32m-> 1322\u001b[0;31m         return_value = get_return_value(\n\u001b[0m\u001b[1;32m   1323\u001b[0m             answer, self.gateway_client, self.target_id, self.name)\n\u001b[1;32m   1324\u001b[0m \u001b[0;34m\u001b[0m\u001b[0m\n",
            "\u001b[0;32m/usr/local/lib/python3.10/dist-packages/pyspark/errors/exceptions/captured.py\u001b[0m in \u001b[0;36mdeco\u001b[0;34m(*a, **kw)\u001b[0m\n\u001b[1;32m    177\u001b[0m     \u001b[0;32mdef\u001b[0m \u001b[0mdeco\u001b[0m\u001b[0;34m(\u001b[0m\u001b[0;34m*\u001b[0m\u001b[0ma\u001b[0m\u001b[0;34m:\u001b[0m \u001b[0mAny\u001b[0m\u001b[0;34m,\u001b[0m \u001b[0;34m**\u001b[0m\u001b[0mkw\u001b[0m\u001b[0;34m:\u001b[0m \u001b[0mAny\u001b[0m\u001b[0;34m)\u001b[0m \u001b[0;34m->\u001b[0m \u001b[0mAny\u001b[0m\u001b[0;34m:\u001b[0m\u001b[0;34m\u001b[0m\u001b[0;34m\u001b[0m\u001b[0m\n\u001b[1;32m    178\u001b[0m         \u001b[0;32mtry\u001b[0m\u001b[0;34m:\u001b[0m\u001b[0;34m\u001b[0m\u001b[0;34m\u001b[0m\u001b[0m\n\u001b[0;32m--> 179\u001b[0;31m             \u001b[0;32mreturn\u001b[0m \u001b[0mf\u001b[0m\u001b[0;34m(\u001b[0m\u001b[0;34m*\u001b[0m\u001b[0ma\u001b[0m\u001b[0;34m,\u001b[0m \u001b[0;34m**\u001b[0m\u001b[0mkw\u001b[0m\u001b[0;34m)\u001b[0m\u001b[0;34m\u001b[0m\u001b[0;34m\u001b[0m\u001b[0m\n\u001b[0m\u001b[1;32m    180\u001b[0m         \u001b[0;32mexcept\u001b[0m \u001b[0mPy4JJavaError\u001b[0m \u001b[0;32mas\u001b[0m \u001b[0me\u001b[0m\u001b[0;34m:\u001b[0m\u001b[0;34m\u001b[0m\u001b[0;34m\u001b[0m\u001b[0m\n\u001b[1;32m    181\u001b[0m             \u001b[0mconverted\u001b[0m \u001b[0;34m=\u001b[0m \u001b[0mconvert_exception\u001b[0m\u001b[0;34m(\u001b[0m\u001b[0me\u001b[0m\u001b[0;34m.\u001b[0m\u001b[0mjava_exception\u001b[0m\u001b[0;34m)\u001b[0m\u001b[0;34m\u001b[0m\u001b[0;34m\u001b[0m\u001b[0m\n",
            "\u001b[0;32m/usr/local/lib/python3.10/dist-packages/py4j/protocol.py\u001b[0m in \u001b[0;36mget_return_value\u001b[0;34m(answer, gateway_client, target_id, name)\u001b[0m\n\u001b[1;32m    332\u001b[0m                     format(target_id, \".\", name, value))\n\u001b[1;32m    333\u001b[0m         \u001b[0;32melse\u001b[0m\u001b[0;34m:\u001b[0m\u001b[0;34m\u001b[0m\u001b[0;34m\u001b[0m\u001b[0m\n\u001b[0;32m--> 334\u001b[0;31m             raise Py4JError(\n\u001b[0m\u001b[1;32m    335\u001b[0m                 \u001b[0;34m\"An error occurred while calling {0}{1}{2}\"\u001b[0m\u001b[0;34m.\u001b[0m\u001b[0;34m\u001b[0m\u001b[0;34m\u001b[0m\u001b[0m\n\u001b[1;32m    336\u001b[0m                 format(target_id, \".\", name))\n",
            "\u001b[0;31mPy4JError\u001b[0m: An error occurred while calling o90.showString"
          ]
        }
      ]
    },
    {
      "cell_type": "code",
      "source": [
        "from pyspark.sql.functions import desc\n",
        "\n",
        "sorted_data = model.freqItemsets.sort(desc(\"freq\"))\n",
        "sorted_data.show()"
      ],
      "metadata": {
        "id": "07ihha04PdSB"
      },
      "execution_count": null,
      "outputs": []
    },
    {
      "cell_type": "code",
      "source": [
        "model.associationRules.show()"
      ],
      "metadata": {
        "id": "ub-CmKuzPdSB"
      },
      "execution_count": null,
      "outputs": []
    },
    {
      "cell_type": "markdown",
      "source": [
        "Association rules describe relationships between items and can be used to understand how frequently items are purchased together and the strength of those associations."
      ],
      "metadata": {
        "id": "V7qouaKaPdSB"
      }
    },
    {
      "cell_type": "markdown",
      "source": [
        "1. antecedent: which are the items typically found together before a purchase.\n",
        "\n",
        "2. consequent: which are the items that are likely to be purchased if the antecedent items are present.\n",
        "\n",
        "3. confidence: This is the confidence value, which indicates the probability that the consequent will be purchased when the antecedent is present.\n",
        "\n",
        "4. lift: The lift value quantifies how much more likely the consequent is to be purchased when the antecedent is present, compared to when the consequent is purchased independently of the antecedent. A lift value greater than 1 indicates a positive association.\n",
        "\n",
        "5. support: The support count, which represents how frequently the association rule occurs in the dataset."
      ],
      "metadata": {
        "id": "WgFwI17IPdSB"
      }
    },
    {
      "cell_type": "code",
      "source": [
        "rules = model.associationRules\n",
        "model.transform(basketdata).show()"
      ],
      "metadata": {
        "id": "DBhGaE3dPdSB"
      },
      "execution_count": null,
      "outputs": []
    },
    {
      "cell_type": "code",
      "source": [
        "transformed = model.transform(basketdata)\n",
        "transformed.show()"
      ],
      "metadata": {
        "id": "-mwRS5jdPdSC"
      },
      "execution_count": null,
      "outputs": []
    },
    {
      "cell_type": "code",
      "source": [
        "print((original_data.count(), len(original_data.columns)))\n",
        "print((transformed.count(), len(transformed.columns)))"
      ],
      "metadata": {
        "id": "qULtWmq8PdSC"
      },
      "execution_count": null,
      "outputs": []
    },
    {
      "cell_type": "code",
      "source": [
        "import pandas as pd\n",
        "pandas_df = transformed.toPandas()"
      ],
      "metadata": {
        "id": "3EsXf7NQPdSC"
      },
      "execution_count": null,
      "outputs": []
    },
    {
      "cell_type": "code",
      "source": [
        "pandas_df"
      ],
      "metadata": {
        "colab": {
          "base_uri": "https://localhost:8080/"
        },
        "outputId": "b7ae4842-291a-402b-eb85-71c2c5b1e0ef",
        "id": "DRpNen_tPdSC"
      },
      "execution_count": null,
      "outputs": [
        {
          "output_type": "stream",
          "name": "stderr",
          "text": [
            "ERROR:root:Exception while sending command.\n",
            "Traceback (most recent call last):\n",
            "  File \"/usr/local/lib/python3.10/dist-packages/py4j/clientserver.py\", line 516, in send_command\n",
            "    raise Py4JNetworkError(\"Answer from Java side is empty\")\n",
            "py4j.protocol.Py4JNetworkError: Answer from Java side is empty\n",
            "\n",
            "During handling of the above exception, another exception occurred:\n",
            "\n",
            "Traceback (most recent call last):\n",
            "  File \"/usr/local/lib/python3.10/dist-packages/py4j/java_gateway.py\", line 1038, in send_command\n",
            "    response = connection.send_command(command)\n",
            "  File \"/usr/local/lib/python3.10/dist-packages/py4j/clientserver.py\", line 539, in send_command\n",
            "    raise Py4JNetworkError(\n",
            "py4j.protocol.Py4JNetworkError: Error while sending or receiving\n"
          ]
        }
      ]
    },
    {
      "cell_type": "code",
      "source": [
        "import networkx as nx\n",
        "import matplotlib.pyplot as plt\n",
        "\n",
        "G = nx.Graph()\n",
        "\n",
        "nth_row = 4\n",
        "row = pandas_df.iloc[nth_row]\n",
        "\n",
        "\n",
        "items = row['Items']\n",
        "predictions = row['prediction']\n",
        "\n",
        "\n",
        "for item in items:\n",
        "    for prediction in predictions:\n",
        "        G.add_edge(item, prediction)\n",
        "\n",
        "\n",
        "pos = nx.spring_layout(G, seed=42)\n",
        "nx.draw(G, pos, with_labels=True, node_size=5, font_size=10, font_color='green', node_color='lightblue')\n",
        "plt.title(f\"Product Associations (Row {nth_row})\")\n",
        "plt.show()\n"
      ],
      "metadata": {
        "id": "kOkVGMK6PdSC"
      },
      "execution_count": null,
      "outputs": []
    },
    {
      "cell_type": "code",
      "source": [
        "import networkx as nx\n",
        "import matplotlib.pyplot as plt\n",
        "\n",
        "G = nx.Graph()\n",
        "\n",
        "nth_row = 10\n",
        "row = pandas_df.iloc[nth_row]\n",
        "\n",
        "\n",
        "items = row['Items']\n",
        "predictions = row['prediction']\n",
        "\n",
        "\n",
        "for item in items:\n",
        "    for prediction in predictions:\n",
        "        G.add_edge(item, prediction)\n",
        "\n",
        "\n",
        "pos = nx.spring_layout(G, seed=42)\n",
        "nx.draw(G, pos, with_labels=True, node_size=5, font_size=10, font_color='green', node_color='lightblue')\n",
        "plt.title(f\"Product Associations (Row {nth_row})\")\n",
        "plt.show()"
      ],
      "metadata": {
        "id": "_1NVtT21PdSC"
      },
      "execution_count": null,
      "outputs": []
    },
    {
      "cell_type": "code",
      "source": [
        "pandas_df.iloc[12,1:]"
      ],
      "metadata": {
        "id": "ki2OBC0iPdSD"
      },
      "execution_count": null,
      "outputs": []
    },
    {
      "cell_type": "code",
      "source": [
        "import networkx as nx\n",
        "import matplotlib.pyplot as plt\n",
        "\n",
        "G = nx.Graph()\n",
        "\n",
        "nth_row = 14\n",
        "row = pandas_df.iloc[nth_row]\n",
        "\n",
        "\n",
        "items = row['Items']\n",
        "predictions = row['prediction']\n",
        "\n",
        "\n",
        "for item in items:\n",
        "    for prediction in predictions:\n",
        "        G.add_edge(item, prediction)\n",
        "\n",
        "\n",
        "pos = nx.spring_layout(G, seed=42)\n",
        "nx.draw(G, pos, with_labels=True, node_size=5, font_size=10, font_color='green', node_color='lightblue')\n",
        "plt.title(f\"Product Associations (Row {nth_row})\")\n",
        "plt.show()"
      ],
      "metadata": {
        "id": "jT7RBn1rPdSD"
      },
      "execution_count": null,
      "outputs": []
    },
    {
      "cell_type": "code",
      "source": [
        "rules.show()"
      ],
      "metadata": {
        "id": "1IMXy8x1PdSD"
      },
      "execution_count": null,
      "outputs": []
    },
    {
      "cell_type": "markdown",
      "source": [
        "A lift value greater than 1 suggests a positive association, while a value less than 1 suggests a negative association."
      ],
      "metadata": {
        "id": "fhTppsynPdSD"
      }
    },
    {
      "cell_type": "markdown",
      "source": [
        "LIFT: The lift value quantifies how much more likely the consequent is to be purchased when the antecedent is present, compared to when the consequent is purchased independently of the antecedent."
      ],
      "metadata": {
        "id": "Ke2-l2vhPdSD"
      }
    },
    {
      "cell_type": "code",
      "source": [
        "min_lift = 1.5\n",
        "\n",
        "filtered_lift_rules = rules.filter(rules.lift >= min_lift)\n",
        "\n",
        "count = filtered_lift_rules.count()\n",
        "print(rules.count())\n",
        "print(\"Number of rules greater than the minimum lift: \", count)\n"
      ],
      "metadata": {
        "id": "8m7Cjdq-PdSD"
      },
      "execution_count": null,
      "outputs": []
    },
    {
      "cell_type": "markdown",
      "source": [
        " Confidence - the probability that the a item will be purchased when the other is present.\n",
        "\n",
        " since confidence is probability confidence greater than 0.7 would be good"
      ],
      "metadata": {
        "id": "n733wXSJPdSD"
      }
    },
    {
      "cell_type": "code",
      "source": [
        "min_confidence = 0.7\n",
        "\n",
        "filtered_confidence_rules = rules.filter(rules.confidence >= min_confidence)\n",
        "\n",
        "count = filtered_confidence_rules.count()\n",
        "print(rules.count())\n",
        "print(\"Number of rules greater than the minimum confidence: \", count)"
      ],
      "metadata": {
        "id": "z8KeYWYuPdSD"
      },
      "execution_count": null,
      "outputs": []
    },
    {
      "cell_type": "markdown",
      "source": [
        "support: The support count, which represents how frequently the association rule occurs in the dataset.\n",
        "\n",
        "Since data set is very large we can take the minimum support to 1%"
      ],
      "metadata": {
        "id": "TsACsYbHPdSE"
      }
    },
    {
      "cell_type": "code",
      "source": [
        "min_support = 0.01\n",
        "\n",
        "filtered_support_rules = rules.filter(rules.support >= min_support)\n",
        "\n",
        "count = filtered_support_rules.count()\n",
        "print(rules.count())\n",
        "print(\"Number of filtered rules based on support:\", count)\n"
      ],
      "metadata": {
        "id": "nXphLreGPdSE"
      },
      "execution_count": null,
      "outputs": []
    },
    {
      "cell_type": "code",
      "source": [
        "spark.stop()"
      ],
      "metadata": {
        "id": "1QuVAmSEPdSE"
      },
      "execution_count": null,
      "outputs": []
    },
    {
      "cell_type": "markdown",
      "source": [
        "#COMPARISION"
      ],
      "metadata": {
        "id": "EziU_BlPQ8Gb"
      }
    },
    {
      "cell_type": "markdown",
      "source": [
        "1. 3884,567,761\n",
        "2. 1650,200,761\n",
        "3.\n"
      ],
      "metadata": {
        "id": "Sfti-hMmRDql"
      }
    },
    {
      "cell_type": "code",
      "source": [
        "import pandas as pd\n",
        "data = {\n",
        "    \"minSupport\": [0.006, 0.008, 0.001],\n",
        "    \"minConfidence\": [0.006, 0.1, 0.001],\n",
        "    \"lift count\": [3884, 1650, 90],\n",
        "    \"confidence count\": [567, 200, 70],\n",
        "    \"support count\": [761, 761, 180]\n",
        "}\n",
        "df = pd.DataFrame(data)\n",
        "print(df)"
      ],
      "metadata": {
        "colab": {
          "base_uri": "https://localhost:8080/"
        },
        "id": "xHlsggtjQ3Lo",
        "outputId": "27c24469-7e38-4ee8-b6d9-8d15f20c02ed"
      },
      "execution_count": null,
      "outputs": [
        {
          "output_type": "stream",
          "name": "stdout",
          "text": [
            "   minSupport  minConfidence  lift count  confidence count  support count\n",
            "0       0.006          0.006        3884               567            761\n",
            "1       0.008          0.100        1650               200            761\n",
            "2       0.001          0.001          90                70            180\n"
          ]
        }
      ]
    },
    {
      "cell_type": "code",
      "source": [],
      "metadata": {
        "id": "lkfVw3mQXkqj"
      },
      "execution_count": null,
      "outputs": []
    }
  ]
}