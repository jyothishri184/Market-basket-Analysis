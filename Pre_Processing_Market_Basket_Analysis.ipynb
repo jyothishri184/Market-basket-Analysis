{
  "nbformat": 4,
  "nbformat_minor": 0,
  "metadata": {
    "colab": {
      "provenance": [],
      "collapsed_sections": [
        "s7T6E84umb1-",
        "x2F2mtAxoO5A"
      ],
      "gpuType": "T4",
      "include_colab_link": true
    },
    "kernelspec": {
      "name": "python3",
      "display_name": "Python 3"
    },
    "language_info": {
      "name": "python"
    },
    "accelerator": "GPU"
  },
  "cells": [
    {
      "cell_type": "markdown",
      "metadata": {
        "id": "view-in-github",
        "colab_type": "text"
      },
      "source": [
        "<a href=\"https://colab.research.google.com/github/jyothishri184/Market-basket-Analysis/blob/main/Pre_Processing_Market_Basket_Analysis.ipynb\" target=\"_parent\"><img src=\"https://colab.research.google.com/assets/colab-badge.svg\" alt=\"Open In Colab\"/></a>"
      ]
    },
    {
      "cell_type": "markdown",
      "source": [
        "#MARKET BASKET ANAYSIS\n"
      ],
      "metadata": {
        "id": "Ii0-5JKgxvjf"
      }
    },
    {
      "cell_type": "markdown",
      "source": [
        "#DATA LOADING"
      ],
      "metadata": {
        "id": "s7T6E84umb1-"
      }
    },
    {
      "cell_type": "code",
      "execution_count": null,
      "metadata": {
        "colab": {
          "base_uri": "https://localhost:8080/"
        },
        "id": "vX-eiri7f37p",
        "outputId": "e67d8eec-c2c8-4ab9-9249-d14f77ddedec"
      },
      "outputs": [
        {
          "output_type": "stream",
          "name": "stdout",
          "text": [
            "Collecting pyspark\n",
            "  Downloading pyspark-3.5.0.tar.gz (316.9 MB)\n",
            "\u001b[2K     \u001b[90m━━━━━━━━━━━━━━━━━━━━━━━━━━━━━━━━━━━━━━━━\u001b[0m \u001b[32m316.9/316.9 MB\u001b[0m \u001b[31m4.2 MB/s\u001b[0m eta \u001b[36m0:00:00\u001b[0m\n",
            "\u001b[?25h  Preparing metadata (setup.py) ... \u001b[?25l\u001b[?25hdone\n",
            "Requirement already satisfied: py4j==0.10.9.7 in /usr/local/lib/python3.10/dist-packages (from pyspark) (0.10.9.7)\n",
            "Building wheels for collected packages: pyspark\n",
            "  Building wheel for pyspark (setup.py) ... \u001b[?25l\u001b[?25hdone\n",
            "  Created wheel for pyspark: filename=pyspark-3.5.0-py2.py3-none-any.whl size=317425345 sha256=05f04089a37f322d3d442a6673fae099e6826d494017de80116db941cb78bc7d\n",
            "  Stored in directory: /root/.cache/pip/wheels/41/4e/10/c2cf2467f71c678cfc8a6b9ac9241e5e44a01940da8fbb17fc\n",
            "Successfully built pyspark\n",
            "Installing collected packages: pyspark\n",
            "Successfully installed pyspark-3.5.0\n"
          ]
        }
      ],
      "source": [
        "!pip install pyspark"
      ]
    },
    {
      "cell_type": "code",
      "source": [
        "import pandas as pd\n",
        "from pyspark.sql import SparkSession\n",
        "spark = SparkSession.builder.appName(\"MarketBasketAnalysis\").getOrCreate()"
      ],
      "metadata": {
        "id": "Wf3_GbeMnj9H"
      },
      "execution_count": null,
      "outputs": []
    },
    {
      "cell_type": "code",
      "source": [
        "df_1 = spark.read.csv(\"/online_retail_II_10_11.csv\",header=True,inferSchema=True)"
      ],
      "metadata": {
        "id": "5QMo5QgXf9no"
      },
      "execution_count": null,
      "outputs": []
    },
    {
      "cell_type": "code",
      "source": [
        "df_1.show()"
      ],
      "metadata": {
        "id": "xrwpapezncFA",
        "colab": {
          "base_uri": "https://localhost:8080/"
        },
        "outputId": "ec9a5fb7-e854-4383-9077-ad98d796c9bf"
      },
      "execution_count": null,
      "outputs": [
        {
          "output_type": "stream",
          "name": "stdout",
          "text": [
            "+-------+---------+--------------------+--------+----------------+-----+-----------+--------------+\n",
            "|Invoice|StockCode|         Description|Quantity|     InvoiceDate|Price|Customer ID|       Country|\n",
            "+-------+---------+--------------------+--------+----------------+-----+-----------+--------------+\n",
            "| 536365|   85123A|WHITE HANGING HEA...|       6|01-12-2010 08:26| 2.55|      17850|United Kingdom|\n",
            "| 536365|    71053| WHITE METAL LANTERN|       6|01-12-2010 08:26| 3.39|      17850|United Kingdom|\n",
            "| 536365|   84406B|CREAM CUPID HEART...|       8|01-12-2010 08:26| 2.75|      17850|United Kingdom|\n",
            "| 536365|   84029G|KNITTED UNION FLA...|       6|01-12-2010 08:26| 3.39|      17850|United Kingdom|\n",
            "| 536365|   84029E|RED WOOLLY HOTTIE...|       6|01-12-2010 08:26| 3.39|      17850|United Kingdom|\n",
            "| 536365|    22752|SET 7 BABUSHKA NE...|       2|01-12-2010 08:26| 7.65|      17850|United Kingdom|\n",
            "| 536365|    21730|GLASS STAR FROSTE...|       6|01-12-2010 08:26| 4.25|      17850|United Kingdom|\n",
            "| 536366|    22633|HAND WARMER UNION...|       6|01-12-2010 08:28| 1.85|      17850|United Kingdom|\n",
            "| 536366|    22632|HAND WARMER RED P...|       6|01-12-2010 08:28| 1.85|      17850|United Kingdom|\n",
            "| 536368|    22960|JAM MAKING SET WI...|       6|01-12-2010 08:34| 4.25|      13047|United Kingdom|\n",
            "| 536368|    22913|RED COAT RACK PAR...|       3|01-12-2010 08:34| 4.95|      13047|United Kingdom|\n",
            "| 536368|    22912|YELLOW COAT RACK ...|       3|01-12-2010 08:34| 4.95|      13047|United Kingdom|\n",
            "| 536368|    22914|BLUE COAT RACK PA...|       3|01-12-2010 08:34| 4.95|      13047|United Kingdom|\n",
            "| 536367|    84879|ASSORTED COLOUR B...|      32|01-12-2010 08:34| 1.69|      13047|United Kingdom|\n",
            "| 536367|    22745|POPPY'S PLAYHOUSE...|       6|01-12-2010 08:34|  2.1|      13047|United Kingdom|\n",
            "| 536367|    22748|POPPY'S PLAYHOUSE...|       6|01-12-2010 08:34|  2.1|      13047|United Kingdom|\n",
            "| 536367|    22749|FELTCRAFT PRINCES...|       8|01-12-2010 08:34| 3.75|      13047|United Kingdom|\n",
            "| 536367|    22310|IVORY KNITTED MUG...|       6|01-12-2010 08:34| 1.65|      13047|United Kingdom|\n",
            "| 536367|    84969|BOX OF 6 ASSORTED...|       6|01-12-2010 08:34| 4.25|      13047|United Kingdom|\n",
            "| 536367|    22623|BOX OF VINTAGE JI...|       3|01-12-2010 08:34| 4.95|      13047|United Kingdom|\n",
            "+-------+---------+--------------------+--------+----------------+-----+-----------+--------------+\n",
            "only showing top 20 rows\n",
            "\n"
          ]
        }
      ]
    },
    {
      "cell_type": "markdown",
      "source": [
        "#PREPROCESSING  \n",
        "\n",
        "\n",
        "DATA EXPLORATION"
      ],
      "metadata": {
        "id": "x2F2mtAxoO5A"
      }
    },
    {
      "cell_type": "code",
      "source": [
        "df_1.describe().show()"
      ],
      "metadata": {
        "id": "MSUEm_jdpOqf",
        "colab": {
          "base_uri": "https://localhost:8080/"
        },
        "outputId": "49316645-c378-49f9-a576-1af50953296f"
      },
      "execution_count": null,
      "outputs": [
        {
          "output_type": "stream",
          "name": "stdout",
          "text": [
            "+-------+------------------+------------------+--------------------+------------------+----------------+-----------------+------------------+-----------+\n",
            "|summary|           Invoice|         StockCode|         Description|          Quantity|     InvoiceDate|            Price|       Customer ID|    Country|\n",
            "+-------+------------------+------------------+--------------------+------------------+----------------+-----------------+------------------+-----------+\n",
            "|  count|            541910|            541910|              540456|            541910|          541910|           541910|            406830|     541910|\n",
            "|   mean| 559965.7926209917|27623.240210938104|             20713.0| 9.552233765754462|            NULL|4.611138332927965|15287.684160460143|       NULL|\n",
            "| stddev|13428.437355340984| 16799.73762842774|                NULL|218.08095694392543|            NULL|96.75976549366548|1713.6030743514768|       NULL|\n",
            "|    min|            536365|             10002| 4 PURPLE FLOCK D...|            -80995|01-02-2011 08:23|        -11062.06|             12346|  Australia|\n",
            "|    max|           C581569|                 m|   wrongly sold sets|             80995|31-10-2011 17:19|          38970.0|             18287|Unspecified|\n",
            "+-------+------------------+------------------+--------------------+------------------+----------------+-----------------+------------------+-----------+\n",
            "\n"
          ]
        }
      ]
    },
    {
      "cell_type": "code",
      "source": [
        "df_1.dtypes"
      ],
      "metadata": {
        "id": "jUjSqF7DroTV",
        "colab": {
          "base_uri": "https://localhost:8080/"
        },
        "outputId": "9a65138a-521b-458a-e691-362a72447a6b"
      },
      "execution_count": null,
      "outputs": [
        {
          "output_type": "execute_result",
          "data": {
            "text/plain": [
              "[('Invoice', 'string'),\n",
              " ('StockCode', 'string'),\n",
              " ('Description', 'string'),\n",
              " ('Quantity', 'int'),\n",
              " ('InvoiceDate', 'string'),\n",
              " ('Price', 'double'),\n",
              " ('Customer ID', 'int'),\n",
              " ('Country', 'string')]"
            ]
          },
          "metadata": {},
          "execution_count": 7
        }
      ]
    },
    {
      "cell_type": "markdown",
      "source": [
        "**Attribute Information:**\n",
        "\n",
        "**InvoiceNo:** Invoice number. Nominal. A 6-digit integral number uniquely assigned to each transaction. If this code starts with the letter 'c', it indicates a cancellation.\n",
        "\n",
        "\n",
        "**StockCode:** Product (item) code. Nominal. A 5-digit integral number uniquely assigned to each distinct product.\n",
        "\n",
        "\n",
        "**Description:** Product (item) name. Nominal.\n",
        "\n",
        "\n",
        " **Quantity:** The quantities of each product (item) per transaction. Numeric.\n",
        "\n",
        "\n",
        " **InvoiceDate:**  Invice date and time. Numeric. The day and time when a transaction was generated.\n",
        "\n",
        "\n",
        " **UnitPrice:**  Unit price. Numeric. Product price per unit in sterling (Â£).\n",
        "\n",
        "\n",
        " **CustomerID:** Customer number. Nominal. A 5-digit integral number uniquely assigned to each customer.\n",
        "\n",
        "\n",
        " **Country:**  Country name. Nominal. The name of the country where a customer resides."
      ],
      "metadata": {
        "id": "7gvgHkBqvl-K"
      }
    },
    {
      "cell_type": "markdown",
      "source": [
        "COLUMN RENAME"
      ],
      "metadata": {
        "id": "YJm8RHSNu6Nh"
      }
    },
    {
      "cell_type": "code",
      "source": [
        "df_1.columns"
      ],
      "metadata": {
        "id": "V8JsoIfnu-wE",
        "colab": {
          "base_uri": "https://localhost:8080/"
        },
        "outputId": "85641fb1-add3-4683-b744-9b8dd7f6faa1"
      },
      "execution_count": null,
      "outputs": [
        {
          "output_type": "execute_result",
          "data": {
            "text/plain": [
              "['Invoice',\n",
              " 'StockCode',\n",
              " 'Description',\n",
              " 'Quantity',\n",
              " 'InvoiceDate',\n",
              " 'Price',\n",
              " 'Customer ID',\n",
              " 'Country']"
            ]
          },
          "metadata": {},
          "execution_count": 8
        }
      ]
    },
    {
      "cell_type": "code",
      "source": [
        "df_1 = df_1.withColumnRenamed(\"Invoice\",\"transaction_id\")\n",
        "df_1 = df_1.withColumnRenamed(\"StockCode\",\"product_id\")\n",
        "df_1 = df_1.withColumnRenamed(\"Description\",\"product_name\")\n",
        "df_1 = df_1.withColumnRenamed(\"Quantity\",\"quantity\")\n",
        "df_1 = df_1.withColumnRenamed(\"InvoiceDate\",\"transaction_date\")\n",
        "df_1 = df_1.withColumnRenamed(\"Price\",\"price\")\n",
        "df_1 = df_1.withColumnRenamed(\"Customer ID\",\"customer_id\")\n",
        "df_1 = df_1.withColumnRenamed(\"Country\",\"country\")"
      ],
      "metadata": {
        "id": "aua55TAovK2y"
      },
      "execution_count": null,
      "outputs": []
    },
    {
      "cell_type": "code",
      "source": [
        "df_1.columns"
      ],
      "metadata": {
        "id": "t3kms5grvMI_",
        "colab": {
          "base_uri": "https://localhost:8080/"
        },
        "outputId": "d9be7014-cdf9-4905-ef65-95362e1a816f"
      },
      "execution_count": null,
      "outputs": [
        {
          "output_type": "execute_result",
          "data": {
            "text/plain": [
              "['transaction_id',\n",
              " 'product_id',\n",
              " 'product_name',\n",
              " 'quantity',\n",
              " 'transaction_date',\n",
              " 'price',\n",
              " 'customer_id',\n",
              " 'country']"
            ]
          },
          "metadata": {},
          "execution_count": 10
        }
      ]
    },
    {
      "cell_type": "markdown",
      "source": [
        "DEALING WITH NULL VALUES"
      ],
      "metadata": {
        "id": "3FBXsEo7pPMj"
      }
    },
    {
      "cell_type": "code",
      "source": [
        "print((df_1.count(), len(df_1.columns)))"
      ],
      "metadata": {
        "id": "5OVvbUXb0_6K",
        "colab": {
          "base_uri": "https://localhost:8080/"
        },
        "outputId": "9efe1652-4ac5-472c-a41e-4bb709d87b98"
      },
      "execution_count": null,
      "outputs": [
        {
          "output_type": "stream",
          "name": "stdout",
          "text": [
            "(541910, 8)\n"
          ]
        }
      ]
    },
    {
      "cell_type": "code",
      "source": [
        "df_1 = df_1.dropna()"
      ],
      "metadata": {
        "id": "EpTocc0KKJdw"
      },
      "execution_count": null,
      "outputs": []
    },
    {
      "cell_type": "code",
      "source": [
        "print((df_1.count(), len(df_1.columns)))"
      ],
      "metadata": {
        "id": "VYMcMwViKGKk",
        "colab": {
          "base_uri": "https://localhost:8080/"
        },
        "outputId": "d2e9cefc-1cff-4a0e-d184-2f98f210e438"
      },
      "execution_count": null,
      "outputs": [
        {
          "output_type": "stream",
          "name": "stdout",
          "text": [
            "(406830, 8)\n"
          ]
        }
      ]
    },
    {
      "cell_type": "markdown",
      "source": [
        "REMOVING DUPLICATES\n"
      ],
      "metadata": {
        "id": "bfBHX4t9oXHd"
      }
    },
    {
      "cell_type": "code",
      "source": [
        "print((df_1.count(), len(df_1.columns)))"
      ],
      "metadata": {
        "id": "nrKfDZADZUpY",
        "colab": {
          "base_uri": "https://localhost:8080/"
        },
        "outputId": "6a8c9f40-afc5-4474-b768-3d86f6097e3a"
      },
      "execution_count": null,
      "outputs": [
        {
          "output_type": "stream",
          "name": "stdout",
          "text": [
            "(406830, 8)\n"
          ]
        }
      ]
    },
    {
      "cell_type": "code",
      "source": [
        "df_1 = df_1.dropDuplicates()"
      ],
      "metadata": {
        "id": "BAbGiKbVK-NT"
      },
      "execution_count": null,
      "outputs": []
    },
    {
      "cell_type": "code",
      "source": [
        "print((df_1.count(), len(df_1.columns)))"
      ],
      "metadata": {
        "id": "WCbEI-jYrMJu",
        "colab": {
          "base_uri": "https://localhost:8080/"
        },
        "outputId": "65042cac-2e40-486b-ac7f-40a6e03d8d74"
      },
      "execution_count": null,
      "outputs": [
        {
          "output_type": "stream",
          "name": "stdout",
          "text": [
            "(401605, 8)\n"
          ]
        }
      ]
    },
    {
      "cell_type": "markdown",
      "source": [
        "IN Column 'Transation id' removing rows staring with 'C' SINCE they are cancelled order"
      ],
      "metadata": {
        "id": "glZbpgDI2pcv"
      }
    },
    {
      "cell_type": "code",
      "source": [
        "from pyspark.sql.functions import col"
      ],
      "metadata": {
        "id": "-GVlVvyiLp3i"
      },
      "execution_count": null,
      "outputs": []
    },
    {
      "cell_type": "code",
      "source": [
        "df_1 = df_1.filter(~col(\"transaction_id\").startswith(\"C\"))\n",
        "df_1.show()"
      ],
      "metadata": {
        "id": "1YKOlO1IFHtd",
        "outputId": "e4407dc8-6436-4d2d-c0b9-19e9c35ed22d",
        "colab": {
          "base_uri": "https://localhost:8080/"
        }
      },
      "execution_count": null,
      "outputs": [
        {
          "output_type": "stream",
          "name": "stdout",
          "text": [
            "+--------------+----------+--------------------+--------+----------------+-----+-----------+--------------+\n",
            "|transaction_id|product_id|        product_name|quantity|transaction_date|price|customer_id|       country|\n",
            "+--------------+----------+--------------------+--------+----------------+-----+-----------+--------------+\n",
            "|        536381|     22411|JUMBO SHOPPER VIN...|      10|01-12-2010 09:41| 1.95|      15311|United Kingdom|\n",
            "|        536392|     22827|RUSTIC  SEVENTEEN...|       1|01-12-2010 10:29|165.0|      13705|United Kingdom|\n",
            "|        536401|     21592|RETROSPOT CIGAR B...|       1|01-12-2010 11:21| 1.25|      15862|United Kingdom|\n",
            "|        536464|     22988|   SOLDIERS EGG CUP |       1|01-12-2010 12:23| 1.25|      17968|United Kingdom|\n",
            "|        536464|     22910|PAPER CHAIN KIT V...|       1|01-12-2010 12:23| 2.95|      17968|United Kingdom|\n",
            "|        536488|     20878|SET/9 CHRISTMAS T...|       2|01-12-2010 12:31| 1.25|      17897|United Kingdom|\n",
            "|        536500|     22712|    CARD DOLLY GIRL |      12|01-12-2010 12:35| 0.42|      17377|United Kingdom|\n",
            "|        536522|     84969|BOX OF 6 ASSORTED...|       1|01-12-2010 12:49| 4.25|      15012|United Kingdom|\n",
            "|        536569|     22640|SET OF 4 NAPKIN C...|       1|01-12-2010 15:35| 2.55|      16274|United Kingdom|\n",
            "|        536597|     20726|  LUNCH BAG WOODLAND|       1|01-12-2010 17:35| 1.65|      18011|United Kingdom|\n",
            "|        536608|     22863|  SOAP DISH BROCANTE|       6|02-12-2010 09:37| 2.95|      12855|United Kingdom|\n",
            "|        536618|     22440|BALLOON WATER BOM...|      40|02-12-2010 10:17| 0.42|      17017|United Kingdom|\n",
            "|        536620|     22744|MAKE YOUR OWN MON...|       6|02-12-2010 10:27| 2.95|      14135|United Kingdom|\n",
            "|        536672|     21288|STRIPEY CHOCOLATE...|       6|02-12-2010 12:10| 2.95|      14491|United Kingdom|\n",
            "|        536674|     20832|RED FLOCK LOVE HE...|       4|02-12-2010 12:16| 0.85|      15923|United Kingdom|\n",
            "|        536741|     22652|   TRAVEL SEWING KIT|      10|02-12-2010 13:11| 1.65|      13117|United Kingdom|\n",
            "|        536749|    90195B|BLACK GEMSTONE BR...|       1|02-12-2010 13:49| 8.95|      17976|United Kingdom|\n",
            "|        536796|     22557|PLASTERS IN TIN V...|       1|02-12-2010 15:46| 1.65|      15574|United Kingdom|\n",
            "|        536830|     84077|WORLD WAR 2 GLIDE...|    2880|02-12-2010 17:38| 0.18|      16754|United Kingdom|\n",
            "|        536841|     22077|6 RIBBONS RUSTIC ...|      12|02-12-2010 18:27| 1.65|      16150|United Kingdom|\n",
            "+--------------+----------+--------------------+--------+----------------+-----+-----------+--------------+\n",
            "only showing top 20 rows\n",
            "\n"
          ]
        }
      ]
    },
    {
      "cell_type": "code",
      "source": [
        "print((df_1.count(), len(df_1.columns)))"
      ],
      "metadata": {
        "id": "WqEghGAILwe_",
        "outputId": "7859cf06-a3e7-4af1-956b-75166bcfc8a9",
        "colab": {
          "base_uri": "https://localhost:8080/"
        }
      },
      "execution_count": null,
      "outputs": [
        {
          "output_type": "stream",
          "name": "stdout",
          "text": [
            "(392733, 8)\n"
          ]
        }
      ]
    },
    {
      "cell_type": "markdown",
      "source": [
        "converting column 'TRANSACTION_ID' to INT"
      ],
      "metadata": {
        "id": "pUO8b-Gc2y7z"
      }
    },
    {
      "cell_type": "code",
      "source": [
        "df_1 = df_1.withColumn(\"transaction_id\", df_1[\"transaction_id\"].cast(\"int\"))\n",
        "df_1.show()"
      ],
      "metadata": {
        "id": "3anoH-8hF_U1",
        "colab": {
          "base_uri": "https://localhost:8080/"
        },
        "outputId": "f0f0a8aa-6141-417e-b7ae-c2e3d9250eb4"
      },
      "execution_count": null,
      "outputs": [
        {
          "output_type": "stream",
          "name": "stdout",
          "text": [
            "+--------------+----------+--------------------+--------+----------------+-----+-----------+--------------+\n",
            "|transaction_id|product_id|        product_name|quantity|transaction_date|price|customer_id|       country|\n",
            "+--------------+----------+--------------------+--------+----------------+-----+-----------+--------------+\n",
            "|        536381|     22411|JUMBO SHOPPER VIN...|      10|01-12-2010 09:41| 1.95|      15311|United Kingdom|\n",
            "|        536392|     22827|RUSTIC  SEVENTEEN...|       1|01-12-2010 10:29|165.0|      13705|United Kingdom|\n",
            "|        536401|     21592|RETROSPOT CIGAR B...|       1|01-12-2010 11:21| 1.25|      15862|United Kingdom|\n",
            "|        536464|     22988|   SOLDIERS EGG CUP |       1|01-12-2010 12:23| 1.25|      17968|United Kingdom|\n",
            "|        536464|     22910|PAPER CHAIN KIT V...|       1|01-12-2010 12:23| 2.95|      17968|United Kingdom|\n",
            "|        536488|     20878|SET/9 CHRISTMAS T...|       2|01-12-2010 12:31| 1.25|      17897|United Kingdom|\n",
            "|        536500|     22712|    CARD DOLLY GIRL |      12|01-12-2010 12:35| 0.42|      17377|United Kingdom|\n",
            "|        536522|     84969|BOX OF 6 ASSORTED...|       1|01-12-2010 12:49| 4.25|      15012|United Kingdom|\n",
            "|        536569|     22640|SET OF 4 NAPKIN C...|       1|01-12-2010 15:35| 2.55|      16274|United Kingdom|\n",
            "|        536597|     20726|  LUNCH BAG WOODLAND|       1|01-12-2010 17:35| 1.65|      18011|United Kingdom|\n",
            "|        536608|     22863|  SOAP DISH BROCANTE|       6|02-12-2010 09:37| 2.95|      12855|United Kingdom|\n",
            "|        536618|     22440|BALLOON WATER BOM...|      40|02-12-2010 10:17| 0.42|      17017|United Kingdom|\n",
            "|        536620|     22744|MAKE YOUR OWN MON...|       6|02-12-2010 10:27| 2.95|      14135|United Kingdom|\n",
            "|        536672|     21288|STRIPEY CHOCOLATE...|       6|02-12-2010 12:10| 2.95|      14491|United Kingdom|\n",
            "|        536674|     20832|RED FLOCK LOVE HE...|       4|02-12-2010 12:16| 0.85|      15923|United Kingdom|\n",
            "|        536741|     22652|   TRAVEL SEWING KIT|      10|02-12-2010 13:11| 1.65|      13117|United Kingdom|\n",
            "|        536749|    90195B|BLACK GEMSTONE BR...|       1|02-12-2010 13:49| 8.95|      17976|United Kingdom|\n",
            "|        536796|     22557|PLASTERS IN TIN V...|       1|02-12-2010 15:46| 1.65|      15574|United Kingdom|\n",
            "|        536830|     84077|WORLD WAR 2 GLIDE...|    2880|02-12-2010 17:38| 0.18|      16754|United Kingdom|\n",
            "|        536841|     22077|6 RIBBONS RUSTIC ...|      12|02-12-2010 18:27| 1.65|      16150|United Kingdom|\n",
            "+--------------+----------+--------------------+--------+----------------+-----+-----------+--------------+\n",
            "only showing top 20 rows\n",
            "\n"
          ]
        }
      ]
    },
    {
      "cell_type": "code",
      "source": [
        "df_1.dtypes"
      ],
      "metadata": {
        "id": "h6ujB9zjM-VF",
        "colab": {
          "base_uri": "https://localhost:8080/"
        },
        "outputId": "9c6c781d-4a0c-4413-dc1b-452b0f4c9fb4"
      },
      "execution_count": null,
      "outputs": [
        {
          "output_type": "execute_result",
          "data": {
            "text/plain": [
              "[('transaction_id', 'int'),\n",
              " ('product_id', 'string'),\n",
              " ('product_name', 'string'),\n",
              " ('quantity', 'int'),\n",
              " ('transaction_date', 'string'),\n",
              " ('price', 'double'),\n",
              " ('customer_id', 'int'),\n",
              " ('country', 'string')]"
            ]
          },
          "metadata": {},
          "execution_count": 21
        }
      ]
    },
    {
      "cell_type": "markdown",
      "source": [
        "Spliting 'transaction_date' column to 'transaction_date' and 'transaction_time'"
      ],
      "metadata": {
        "id": "1GKyYjYX21xq"
      }
    },
    {
      "cell_type": "code",
      "source": [
        "df_1 = df_1"
      ],
      "metadata": {
        "id": "jEQVXEukWkLn"
      },
      "execution_count": null,
      "outputs": []
    },
    {
      "cell_type": "code",
      "source": [
        "df_1.show()"
      ],
      "metadata": {
        "id": "uZnQAp-2VVs-",
        "colab": {
          "base_uri": "https://localhost:8080/"
        },
        "outputId": "2d512f21-f2cf-4c46-a53e-1664347d053f"
      },
      "execution_count": null,
      "outputs": [
        {
          "output_type": "stream",
          "name": "stdout",
          "text": [
            "+--------------+----------+--------------------+--------+----------------+-----+-----------+--------------+\n",
            "|transaction_id|product_id|        product_name|quantity|transaction_date|price|customer_id|       country|\n",
            "+--------------+----------+--------------------+--------+----------------+-----+-----------+--------------+\n",
            "|        536381|     22411|JUMBO SHOPPER VIN...|      10|01-12-2010 09:41| 1.95|      15311|United Kingdom|\n",
            "|        536392|     22827|RUSTIC  SEVENTEEN...|       1|01-12-2010 10:29|165.0|      13705|United Kingdom|\n",
            "|        536401|     21592|RETROSPOT CIGAR B...|       1|01-12-2010 11:21| 1.25|      15862|United Kingdom|\n",
            "|        536464|     22988|   SOLDIERS EGG CUP |       1|01-12-2010 12:23| 1.25|      17968|United Kingdom|\n",
            "|        536464|     22910|PAPER CHAIN KIT V...|       1|01-12-2010 12:23| 2.95|      17968|United Kingdom|\n",
            "|        536488|     20878|SET/9 CHRISTMAS T...|       2|01-12-2010 12:31| 1.25|      17897|United Kingdom|\n",
            "|        536500|     22712|    CARD DOLLY GIRL |      12|01-12-2010 12:35| 0.42|      17377|United Kingdom|\n",
            "|        536522|     84969|BOX OF 6 ASSORTED...|       1|01-12-2010 12:49| 4.25|      15012|United Kingdom|\n",
            "|        536569|     22640|SET OF 4 NAPKIN C...|       1|01-12-2010 15:35| 2.55|      16274|United Kingdom|\n",
            "|        536597|     20726|  LUNCH BAG WOODLAND|       1|01-12-2010 17:35| 1.65|      18011|United Kingdom|\n",
            "|        536608|     22863|  SOAP DISH BROCANTE|       6|02-12-2010 09:37| 2.95|      12855|United Kingdom|\n",
            "|        536618|     22440|BALLOON WATER BOM...|      40|02-12-2010 10:17| 0.42|      17017|United Kingdom|\n",
            "|        536620|     22744|MAKE YOUR OWN MON...|       6|02-12-2010 10:27| 2.95|      14135|United Kingdom|\n",
            "|        536672|     21288|STRIPEY CHOCOLATE...|       6|02-12-2010 12:10| 2.95|      14491|United Kingdom|\n",
            "|        536674|     20832|RED FLOCK LOVE HE...|       4|02-12-2010 12:16| 0.85|      15923|United Kingdom|\n",
            "|        536741|     22652|   TRAVEL SEWING KIT|      10|02-12-2010 13:11| 1.65|      13117|United Kingdom|\n",
            "|        536749|    90195B|BLACK GEMSTONE BR...|       1|02-12-2010 13:49| 8.95|      17976|United Kingdom|\n",
            "|        536796|     22557|PLASTERS IN TIN V...|       1|02-12-2010 15:46| 1.65|      15574|United Kingdom|\n",
            "|        536830|     84077|WORLD WAR 2 GLIDE...|    2880|02-12-2010 17:38| 0.18|      16754|United Kingdom|\n",
            "|        536841|     22077|6 RIBBONS RUSTIC ...|      12|02-12-2010 18:27| 1.65|      16150|United Kingdom|\n",
            "+--------------+----------+--------------------+--------+----------------+-----+-----------+--------------+\n",
            "only showing top 20 rows\n",
            "\n"
          ]
        }
      ]
    },
    {
      "cell_type": "code",
      "source": [
        "df_1.dtypes"
      ],
      "metadata": {
        "id": "OVBXQZXRRBvl",
        "colab": {
          "base_uri": "https://localhost:8080/"
        },
        "outputId": "3f78853c-361a-40b1-df94-8812e136ea82"
      },
      "execution_count": null,
      "outputs": [
        {
          "output_type": "execute_result",
          "data": {
            "text/plain": [
              "[('transaction_id', 'int'),\n",
              " ('product_id', 'string'),\n",
              " ('product_name', 'string'),\n",
              " ('quantity', 'int'),\n",
              " ('transaction_date', 'string'),\n",
              " ('price', 'double'),\n",
              " ('customer_id', 'int'),\n",
              " ('country', 'string')]"
            ]
          },
          "metadata": {},
          "execution_count": 24
        }
      ]
    },
    {
      "cell_type": "code",
      "source": [
        "from pyspark.sql.functions import substring,to_date\n",
        "\n",
        "df_1 = df_1.withColumn('transaction_date', to_date(substring(df_1['transaction_date'], 1, 10), 'dd-MM-yyyy'))\n",
        "\n",
        "df_1.show()"
      ],
      "metadata": {
        "id": "Ez0CpsCvWbAA",
        "colab": {
          "base_uri": "https://localhost:8080/"
        },
        "outputId": "fb3834bd-1301-40a0-8787-b264bd6a4c15"
      },
      "execution_count": null,
      "outputs": [
        {
          "output_type": "stream",
          "name": "stdout",
          "text": [
            "+--------------+----------+--------------------+--------+----------------+-----+-----------+--------------+\n",
            "|transaction_id|product_id|        product_name|quantity|transaction_date|price|customer_id|       country|\n",
            "+--------------+----------+--------------------+--------+----------------+-----+-----------+--------------+\n",
            "|        536381|     22411|JUMBO SHOPPER VIN...|      10|      2010-12-01| 1.95|      15311|United Kingdom|\n",
            "|        536392|     22827|RUSTIC  SEVENTEEN...|       1|      2010-12-01|165.0|      13705|United Kingdom|\n",
            "|        536401|     21592|RETROSPOT CIGAR B...|       1|      2010-12-01| 1.25|      15862|United Kingdom|\n",
            "|        536464|     22988|   SOLDIERS EGG CUP |       1|      2010-12-01| 1.25|      17968|United Kingdom|\n",
            "|        536464|     22910|PAPER CHAIN KIT V...|       1|      2010-12-01| 2.95|      17968|United Kingdom|\n",
            "|        536488|     20878|SET/9 CHRISTMAS T...|       2|      2010-12-01| 1.25|      17897|United Kingdom|\n",
            "|        536500|     22712|    CARD DOLLY GIRL |      12|      2010-12-01| 0.42|      17377|United Kingdom|\n",
            "|        536522|     84969|BOX OF 6 ASSORTED...|       1|      2010-12-01| 4.25|      15012|United Kingdom|\n",
            "|        536569|     22640|SET OF 4 NAPKIN C...|       1|      2010-12-01| 2.55|      16274|United Kingdom|\n",
            "|        536597|     20726|  LUNCH BAG WOODLAND|       1|      2010-12-01| 1.65|      18011|United Kingdom|\n",
            "|        536608|     22863|  SOAP DISH BROCANTE|       6|      2010-12-02| 2.95|      12855|United Kingdom|\n",
            "|        536618|     22440|BALLOON WATER BOM...|      40|      2010-12-02| 0.42|      17017|United Kingdom|\n",
            "|        536620|     22744|MAKE YOUR OWN MON...|       6|      2010-12-02| 2.95|      14135|United Kingdom|\n",
            "|        536672|     21288|STRIPEY CHOCOLATE...|       6|      2010-12-02| 2.95|      14491|United Kingdom|\n",
            "|        536674|     20832|RED FLOCK LOVE HE...|       4|      2010-12-02| 0.85|      15923|United Kingdom|\n",
            "|        536741|     22652|   TRAVEL SEWING KIT|      10|      2010-12-02| 1.65|      13117|United Kingdom|\n",
            "|        536749|    90195B|BLACK GEMSTONE BR...|       1|      2010-12-02| 8.95|      17976|United Kingdom|\n",
            "|        536796|     22557|PLASTERS IN TIN V...|       1|      2010-12-02| 1.65|      15574|United Kingdom|\n",
            "|        536830|     84077|WORLD WAR 2 GLIDE...|    2880|      2010-12-02| 0.18|      16754|United Kingdom|\n",
            "|        536841|     22077|6 RIBBONS RUSTIC ...|      12|      2010-12-02| 1.65|      16150|United Kingdom|\n",
            "+--------------+----------+--------------------+--------+----------------+-----+-----------+--------------+\n",
            "only showing top 20 rows\n",
            "\n"
          ]
        }
      ]
    },
    {
      "cell_type": "code",
      "source": [
        "df_1.dtypes"
      ],
      "metadata": {
        "id": "oc6H6d67YJB4",
        "colab": {
          "base_uri": "https://localhost:8080/"
        },
        "outputId": "18c76d21-df78-49b5-fa12-b119ab08045f"
      },
      "execution_count": null,
      "outputs": [
        {
          "output_type": "execute_result",
          "data": {
            "text/plain": [
              "[('transaction_id', 'int'),\n",
              " ('product_id', 'string'),\n",
              " ('product_name', 'string'),\n",
              " ('quantity', 'int'),\n",
              " ('transaction_date', 'date'),\n",
              " ('price', 'double'),\n",
              " ('customer_id', 'int'),\n",
              " ('country', 'string')]"
            ]
          },
          "metadata": {},
          "execution_count": 26
        }
      ]
    },
    {
      "cell_type": "code",
      "source": [
        "import os\n",
        "pandas_df = df_1.toPandas()\n",
        "\n",
        "local_directory = r\"C:\\Users\\jyoth\\Downloads\\Projects\\MarketBasketAnalysis\"\n",
        "\n",
        "os.makedirs(local_directory, exist_ok=True)\n",
        "\n",
        "file_name = \"local_output.csv\"\n",
        "\n",
        "local_file_path = os.path.join(local_directory, file_name)\n",
        "\n",
        "pandas_df.to_csv(local_file_path, index=False)"
      ],
      "metadata": {
        "id": "RdaKx19AKsXp"
      },
      "execution_count": null,
      "outputs": []
    },
    {
      "cell_type": "code",
      "source": [
        "from google.colab import files\n",
        "\n",
        "files.download(\"local_output.csv\")"
      ],
      "metadata": {
        "colab": {
          "base_uri": "https://localhost:8080/",
          "height": 17
        },
        "id": "K2-BUlGOvRff",
        "outputId": "1de771f9-7969-41b1-b103-ba1f43411ec3"
      },
      "execution_count": null,
      "outputs": [
        {
          "output_type": "display_data",
          "data": {
            "text/plain": [
              "<IPython.core.display.Javascript object>"
            ],
            "application/javascript": [
              "\n",
              "    async function download(id, filename, size) {\n",
              "      if (!google.colab.kernel.accessAllowed) {\n",
              "        return;\n",
              "      }\n",
              "      const div = document.createElement('div');\n",
              "      const label = document.createElement('label');\n",
              "      label.textContent = `Downloading \"${filename}\": `;\n",
              "      div.appendChild(label);\n",
              "      const progress = document.createElement('progress');\n",
              "      progress.max = size;\n",
              "      div.appendChild(progress);\n",
              "      document.body.appendChild(div);\n",
              "\n",
              "      const buffers = [];\n",
              "      let downloaded = 0;\n",
              "\n",
              "      const channel = await google.colab.kernel.comms.open(id);\n",
              "      // Send a message to notify the kernel that we're ready.\n",
              "      channel.send({})\n",
              "\n",
              "      for await (const message of channel.messages) {\n",
              "        // Send a message to notify the kernel that we're ready.\n",
              "        channel.send({})\n",
              "        if (message.buffers) {\n",
              "          for (const buffer of message.buffers) {\n",
              "            buffers.push(buffer);\n",
              "            downloaded += buffer.byteLength;\n",
              "            progress.value = downloaded;\n",
              "          }\n",
              "        }\n",
              "      }\n",
              "      const blob = new Blob(buffers, {type: 'application/binary'});\n",
              "      const a = document.createElement('a');\n",
              "      a.href = window.URL.createObjectURL(blob);\n",
              "      a.download = filename;\n",
              "      div.appendChild(a);\n",
              "      a.click();\n",
              "      div.remove();\n",
              "    }\n",
              "  "
            ]
          },
          "metadata": {}
        },
        {
          "output_type": "display_data",
          "data": {
            "text/plain": [
              "<IPython.core.display.Javascript object>"
            ],
            "application/javascript": [
              "download(\"download_d6a7f501-3a08-447b-af51-7277ca2af915\", \"local_output.csv\", 31153803)"
            ]
          },
          "metadata": {}
        }
      ]
    }
  ]
}